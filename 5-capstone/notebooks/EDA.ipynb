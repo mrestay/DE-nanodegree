{
 "cells": [
  {
   "cell_type": "markdown",
   "metadata": {
    "editable": true
   },
   "source": [
    "# Project Title\n",
    "### Data Engineering Capstone Project\n",
    "\n",
    "#### Project Summary\n",
    "--describe your project at a high level--\n",
    "\n",
    "The project follows the follow steps:\n",
    "* Step 1: Scope the Project and Gather Data\n",
    "* Step 2: Explore and Assess the Data\n",
    "* Step 3: Define the Data Model\n",
    "* Step 4: Run ETL to Model the Data\n",
    "* Step 5: Complete Project Write Up"
   ]
  },
  {
   "cell_type": "code",
   "execution_count": 1,
   "metadata": {
    "editable": true
   },
   "outputs": [],
   "source": [
    "# Do all imports and installs here\n",
    "import pandas as pd"
   ]
  },
  {
   "cell_type": "markdown",
   "metadata": {
    "editable": true
   },
   "source": [
    "### Step 1: Scope the Project and Gather Data\n",
    "\n",
    "#### Scope \n",
    "Explain what you plan to do in the project in more detail. What data do you use? What is your end solution look like? What tools did you use? etc>\n",
    "\n",
    "#### Describe and Gather Data \n",
    "Describe the data sets you're using. Where did it come from? What type of information is included? "
   ]
  },
  {
   "cell_type": "markdown",
   "metadata": {
    "editable": true
   },
   "source": [
    "### Immigration data"
   ]
  },
  {
   "cell_type": "code",
   "execution_count": 2,
   "metadata": {
    "editable": true
   },
   "outputs": [],
   "source": [
    "# Read in the data here\n",
    "immigration_df = pd.read_csv(\"immigration_data_sample.csv\")"
   ]
  },
  {
   "cell_type": "code",
   "execution_count": 3,
   "metadata": {
    "editable": true
   },
   "outputs": [
    {
     "data": {
      "text/html": [
       "<div>\n",
       "<style scoped>\n",
       "    .dataframe tbody tr th:only-of-type {\n",
       "        vertical-align: middle;\n",
       "    }\n",
       "\n",
       "    .dataframe tbody tr th {\n",
       "        vertical-align: top;\n",
       "    }\n",
       "\n",
       "    .dataframe thead th {\n",
       "        text-align: right;\n",
       "    }\n",
       "</style>\n",
       "<table border=\"1\" class=\"dataframe\">\n",
       "  <thead>\n",
       "    <tr style=\"text-align: right;\">\n",
       "      <th></th>\n",
       "      <th>Unnamed: 0</th>\n",
       "      <th>cicid</th>\n",
       "      <th>i94yr</th>\n",
       "      <th>i94mon</th>\n",
       "      <th>i94cit</th>\n",
       "      <th>i94res</th>\n",
       "      <th>i94port</th>\n",
       "      <th>arrdate</th>\n",
       "      <th>i94mode</th>\n",
       "      <th>i94addr</th>\n",
       "      <th>...</th>\n",
       "      <th>entdepu</th>\n",
       "      <th>matflag</th>\n",
       "      <th>biryear</th>\n",
       "      <th>dtaddto</th>\n",
       "      <th>gender</th>\n",
       "      <th>insnum</th>\n",
       "      <th>airline</th>\n",
       "      <th>admnum</th>\n",
       "      <th>fltno</th>\n",
       "      <th>visatype</th>\n",
       "    </tr>\n",
       "  </thead>\n",
       "  <tbody>\n",
       "    <tr>\n",
       "      <th>0</th>\n",
       "      <td>2027561</td>\n",
       "      <td>4084316.0</td>\n",
       "      <td>2016.0</td>\n",
       "      <td>4.0</td>\n",
       "      <td>209.0</td>\n",
       "      <td>209.0</td>\n",
       "      <td>HHW</td>\n",
       "      <td>20566.0</td>\n",
       "      <td>1.0</td>\n",
       "      <td>HI</td>\n",
       "      <td>...</td>\n",
       "      <td>NaN</td>\n",
       "      <td>M</td>\n",
       "      <td>1955.0</td>\n",
       "      <td>07202016</td>\n",
       "      <td>F</td>\n",
       "      <td>NaN</td>\n",
       "      <td>JL</td>\n",
       "      <td>5.658267e+10</td>\n",
       "      <td>00782</td>\n",
       "      <td>WT</td>\n",
       "    </tr>\n",
       "    <tr>\n",
       "      <th>1</th>\n",
       "      <td>2171295</td>\n",
       "      <td>4422636.0</td>\n",
       "      <td>2016.0</td>\n",
       "      <td>4.0</td>\n",
       "      <td>582.0</td>\n",
       "      <td>582.0</td>\n",
       "      <td>MCA</td>\n",
       "      <td>20567.0</td>\n",
       "      <td>1.0</td>\n",
       "      <td>TX</td>\n",
       "      <td>...</td>\n",
       "      <td>NaN</td>\n",
       "      <td>M</td>\n",
       "      <td>1990.0</td>\n",
       "      <td>10222016</td>\n",
       "      <td>M</td>\n",
       "      <td>NaN</td>\n",
       "      <td>*GA</td>\n",
       "      <td>9.436200e+10</td>\n",
       "      <td>XBLNG</td>\n",
       "      <td>B2</td>\n",
       "    </tr>\n",
       "    <tr>\n",
       "      <th>2</th>\n",
       "      <td>589494</td>\n",
       "      <td>1195600.0</td>\n",
       "      <td>2016.0</td>\n",
       "      <td>4.0</td>\n",
       "      <td>148.0</td>\n",
       "      <td>112.0</td>\n",
       "      <td>OGG</td>\n",
       "      <td>20551.0</td>\n",
       "      <td>1.0</td>\n",
       "      <td>FL</td>\n",
       "      <td>...</td>\n",
       "      <td>NaN</td>\n",
       "      <td>M</td>\n",
       "      <td>1940.0</td>\n",
       "      <td>07052016</td>\n",
       "      <td>M</td>\n",
       "      <td>NaN</td>\n",
       "      <td>LH</td>\n",
       "      <td>5.578047e+10</td>\n",
       "      <td>00464</td>\n",
       "      <td>WT</td>\n",
       "    </tr>\n",
       "    <tr>\n",
       "      <th>3</th>\n",
       "      <td>2631158</td>\n",
       "      <td>5291768.0</td>\n",
       "      <td>2016.0</td>\n",
       "      <td>4.0</td>\n",
       "      <td>297.0</td>\n",
       "      <td>297.0</td>\n",
       "      <td>LOS</td>\n",
       "      <td>20572.0</td>\n",
       "      <td>1.0</td>\n",
       "      <td>CA</td>\n",
       "      <td>...</td>\n",
       "      <td>NaN</td>\n",
       "      <td>M</td>\n",
       "      <td>1991.0</td>\n",
       "      <td>10272016</td>\n",
       "      <td>M</td>\n",
       "      <td>NaN</td>\n",
       "      <td>QR</td>\n",
       "      <td>9.478970e+10</td>\n",
       "      <td>00739</td>\n",
       "      <td>B2</td>\n",
       "    </tr>\n",
       "    <tr>\n",
       "      <th>4</th>\n",
       "      <td>3032257</td>\n",
       "      <td>985523.0</td>\n",
       "      <td>2016.0</td>\n",
       "      <td>4.0</td>\n",
       "      <td>111.0</td>\n",
       "      <td>111.0</td>\n",
       "      <td>CHM</td>\n",
       "      <td>20550.0</td>\n",
       "      <td>3.0</td>\n",
       "      <td>NY</td>\n",
       "      <td>...</td>\n",
       "      <td>NaN</td>\n",
       "      <td>M</td>\n",
       "      <td>1997.0</td>\n",
       "      <td>07042016</td>\n",
       "      <td>F</td>\n",
       "      <td>NaN</td>\n",
       "      <td>NaN</td>\n",
       "      <td>4.232257e+10</td>\n",
       "      <td>LAND</td>\n",
       "      <td>WT</td>\n",
       "    </tr>\n",
       "  </tbody>\n",
       "</table>\n",
       "<p>5 rows × 29 columns</p>\n",
       "</div>"
      ],
      "text/plain": [
       "   Unnamed: 0      cicid   i94yr  i94mon  i94cit  i94res i94port  arrdate  \\\n",
       "0     2027561  4084316.0  2016.0     4.0   209.0   209.0     HHW  20566.0   \n",
       "1     2171295  4422636.0  2016.0     4.0   582.0   582.0     MCA  20567.0   \n",
       "2      589494  1195600.0  2016.0     4.0   148.0   112.0     OGG  20551.0   \n",
       "3     2631158  5291768.0  2016.0     4.0   297.0   297.0     LOS  20572.0   \n",
       "4     3032257   985523.0  2016.0     4.0   111.0   111.0     CHM  20550.0   \n",
       "\n",
       "   i94mode i94addr  ...  entdepu  matflag  biryear   dtaddto  gender insnum  \\\n",
       "0      1.0      HI  ...      NaN        M   1955.0  07202016       F    NaN   \n",
       "1      1.0      TX  ...      NaN        M   1990.0  10222016       M    NaN   \n",
       "2      1.0      FL  ...      NaN        M   1940.0  07052016       M    NaN   \n",
       "3      1.0      CA  ...      NaN        M   1991.0  10272016       M    NaN   \n",
       "4      3.0      NY  ...      NaN        M   1997.0  07042016       F    NaN   \n",
       "\n",
       "  airline        admnum  fltno  visatype  \n",
       "0      JL  5.658267e+10  00782        WT  \n",
       "1     *GA  9.436200e+10  XBLNG        B2  \n",
       "2      LH  5.578047e+10  00464        WT  \n",
       "3      QR  9.478970e+10  00739        B2  \n",
       "4     NaN  4.232257e+10   LAND        WT  \n",
       "\n",
       "[5 rows x 29 columns]"
      ]
     },
     "execution_count": 3,
     "metadata": {},
     "output_type": "execute_result"
    }
   ],
   "source": [
    "immigration_df.head()"
   ]
  },
  {
   "cell_type": "code",
   "execution_count": 4,
   "metadata": {
    "editable": true
   },
   "outputs": [
    {
     "data": {
      "text/plain": [
       "(1000, 29)"
      ]
     },
     "execution_count": 4,
     "metadata": {},
     "output_type": "execute_result"
    }
   ],
   "source": [
    "immigration_df.shape"
   ]
  },
  {
   "cell_type": "code",
   "execution_count": 5,
   "metadata": {
    "editable": true
   },
   "outputs": [
    {
     "data": {
      "text/html": [
       "<div>\n",
       "<style scoped>\n",
       "    .dataframe tbody tr th:only-of-type {\n",
       "        vertical-align: middle;\n",
       "    }\n",
       "\n",
       "    .dataframe tbody tr th {\n",
       "        vertical-align: top;\n",
       "    }\n",
       "\n",
       "    .dataframe thead th {\n",
       "        text-align: right;\n",
       "    }\n",
       "</style>\n",
       "<table border=\"1\" class=\"dataframe\">\n",
       "  <thead>\n",
       "    <tr style=\"text-align: right;\">\n",
       "      <th></th>\n",
       "      <th>Unnamed: 0</th>\n",
       "      <th>cicid</th>\n",
       "      <th>i94yr</th>\n",
       "      <th>i94mon</th>\n",
       "      <th>i94cit</th>\n",
       "      <th>i94res</th>\n",
       "      <th>arrdate</th>\n",
       "      <th>i94mode</th>\n",
       "      <th>depdate</th>\n",
       "      <th>i94bir</th>\n",
       "      <th>i94visa</th>\n",
       "      <th>count</th>\n",
       "      <th>dtadfile</th>\n",
       "      <th>entdepu</th>\n",
       "      <th>biryear</th>\n",
       "      <th>insnum</th>\n",
       "      <th>admnum</th>\n",
       "    </tr>\n",
       "  </thead>\n",
       "  <tbody>\n",
       "    <tr>\n",
       "      <th>count</th>\n",
       "      <td>1.000000e+03</td>\n",
       "      <td>1.000000e+03</td>\n",
       "      <td>1000.0</td>\n",
       "      <td>1000.0</td>\n",
       "      <td>1000.000000</td>\n",
       "      <td>1000.00000</td>\n",
       "      <td>1000.000000</td>\n",
       "      <td>1000.000000</td>\n",
       "      <td>951.000000</td>\n",
       "      <td>1000.000000</td>\n",
       "      <td>1000.000000</td>\n",
       "      <td>1000.0</td>\n",
       "      <td>1.000000e+03</td>\n",
       "      <td>0.0</td>\n",
       "      <td>1000.000000</td>\n",
       "      <td>35.000000</td>\n",
       "      <td>1.000000e+03</td>\n",
       "    </tr>\n",
       "    <tr>\n",
       "      <th>mean</th>\n",
       "      <td>1.542097e+06</td>\n",
       "      <td>3.040461e+06</td>\n",
       "      <td>2016.0</td>\n",
       "      <td>4.0</td>\n",
       "      <td>302.928000</td>\n",
       "      <td>298.26200</td>\n",
       "      <td>20559.680000</td>\n",
       "      <td>1.078000</td>\n",
       "      <td>20575.037855</td>\n",
       "      <td>42.382000</td>\n",
       "      <td>1.859000</td>\n",
       "      <td>1.0</td>\n",
       "      <td>2.016042e+07</td>\n",
       "      <td>NaN</td>\n",
       "      <td>1973.618000</td>\n",
       "      <td>3826.857143</td>\n",
       "      <td>6.937237e+10</td>\n",
       "    </tr>\n",
       "    <tr>\n",
       "      <th>std</th>\n",
       "      <td>9.152879e+05</td>\n",
       "      <td>1.799818e+06</td>\n",
       "      <td>0.0</td>\n",
       "      <td>0.0</td>\n",
       "      <td>206.485285</td>\n",
       "      <td>202.12039</td>\n",
       "      <td>8.995027</td>\n",
       "      <td>0.485955</td>\n",
       "      <td>24.211234</td>\n",
       "      <td>17.903424</td>\n",
       "      <td>0.386353</td>\n",
       "      <td>0.0</td>\n",
       "      <td>4.951657e+01</td>\n",
       "      <td>NaN</td>\n",
       "      <td>17.903424</td>\n",
       "      <td>221.742583</td>\n",
       "      <td>2.338134e+10</td>\n",
       "    </tr>\n",
       "    <tr>\n",
       "      <th>min</th>\n",
       "      <td>1.092500e+04</td>\n",
       "      <td>1.320800e+04</td>\n",
       "      <td>2016.0</td>\n",
       "      <td>4.0</td>\n",
       "      <td>103.000000</td>\n",
       "      <td>103.00000</td>\n",
       "      <td>20545.000000</td>\n",
       "      <td>1.000000</td>\n",
       "      <td>20547.000000</td>\n",
       "      <td>1.000000</td>\n",
       "      <td>1.000000</td>\n",
       "      <td>1.0</td>\n",
       "      <td>2.016040e+07</td>\n",
       "      <td>NaN</td>\n",
       "      <td>1923.000000</td>\n",
       "      <td>3468.000000</td>\n",
       "      <td>0.000000e+00</td>\n",
       "    </tr>\n",
       "    <tr>\n",
       "      <th>25%</th>\n",
       "      <td>7.214422e+05</td>\n",
       "      <td>1.412170e+06</td>\n",
       "      <td>2016.0</td>\n",
       "      <td>4.0</td>\n",
       "      <td>135.000000</td>\n",
       "      <td>131.00000</td>\n",
       "      <td>20552.000000</td>\n",
       "      <td>1.000000</td>\n",
       "      <td>20561.000000</td>\n",
       "      <td>30.750000</td>\n",
       "      <td>2.000000</td>\n",
       "      <td>1.0</td>\n",
       "      <td>2.016041e+07</td>\n",
       "      <td>NaN</td>\n",
       "      <td>1961.000000</td>\n",
       "      <td>3668.000000</td>\n",
       "      <td>5.599301e+10</td>\n",
       "    </tr>\n",
       "    <tr>\n",
       "      <th>50%</th>\n",
       "      <td>1.494568e+06</td>\n",
       "      <td>2.941176e+06</td>\n",
       "      <td>2016.0</td>\n",
       "      <td>4.0</td>\n",
       "      <td>213.000000</td>\n",
       "      <td>213.00000</td>\n",
       "      <td>20560.000000</td>\n",
       "      <td>1.000000</td>\n",
       "      <td>20570.000000</td>\n",
       "      <td>42.000000</td>\n",
       "      <td>2.000000</td>\n",
       "      <td>1.0</td>\n",
       "      <td>2.016042e+07</td>\n",
       "      <td>NaN</td>\n",
       "      <td>1974.000000</td>\n",
       "      <td>3887.000000</td>\n",
       "      <td>5.931477e+10</td>\n",
       "    </tr>\n",
       "    <tr>\n",
       "      <th>75%</th>\n",
       "      <td>2.360901e+06</td>\n",
       "      <td>4.694151e+06</td>\n",
       "      <td>2016.0</td>\n",
       "      <td>4.0</td>\n",
       "      <td>438.000000</td>\n",
       "      <td>438.00000</td>\n",
       "      <td>20567.250000</td>\n",
       "      <td>1.000000</td>\n",
       "      <td>20580.000000</td>\n",
       "      <td>55.000000</td>\n",
       "      <td>2.000000</td>\n",
       "      <td>1.0</td>\n",
       "      <td>2.016042e+07</td>\n",
       "      <td>NaN</td>\n",
       "      <td>1985.250000</td>\n",
       "      <td>3943.000000</td>\n",
       "      <td>9.343623e+10</td>\n",
       "    </tr>\n",
       "    <tr>\n",
       "      <th>max</th>\n",
       "      <td>3.095749e+06</td>\n",
       "      <td>6.061994e+06</td>\n",
       "      <td>2016.0</td>\n",
       "      <td>4.0</td>\n",
       "      <td>746.000000</td>\n",
       "      <td>696.00000</td>\n",
       "      <td>20574.000000</td>\n",
       "      <td>9.000000</td>\n",
       "      <td>20715.000000</td>\n",
       "      <td>93.000000</td>\n",
       "      <td>3.000000</td>\n",
       "      <td>1.0</td>\n",
       "      <td>2.016080e+07</td>\n",
       "      <td>NaN</td>\n",
       "      <td>2015.000000</td>\n",
       "      <td>4686.000000</td>\n",
       "      <td>9.502151e+10</td>\n",
       "    </tr>\n",
       "  </tbody>\n",
       "</table>\n",
       "</div>"
      ],
      "text/plain": [
       "         Unnamed: 0         cicid   i94yr  i94mon       i94cit      i94res  \\\n",
       "count  1.000000e+03  1.000000e+03  1000.0  1000.0  1000.000000  1000.00000   \n",
       "mean   1.542097e+06  3.040461e+06  2016.0     4.0   302.928000   298.26200   \n",
       "std    9.152879e+05  1.799818e+06     0.0     0.0   206.485285   202.12039   \n",
       "min    1.092500e+04  1.320800e+04  2016.0     4.0   103.000000   103.00000   \n",
       "25%    7.214422e+05  1.412170e+06  2016.0     4.0   135.000000   131.00000   \n",
       "50%    1.494568e+06  2.941176e+06  2016.0     4.0   213.000000   213.00000   \n",
       "75%    2.360901e+06  4.694151e+06  2016.0     4.0   438.000000   438.00000   \n",
       "max    3.095749e+06  6.061994e+06  2016.0     4.0   746.000000   696.00000   \n",
       "\n",
       "            arrdate      i94mode       depdate       i94bir      i94visa  \\\n",
       "count   1000.000000  1000.000000    951.000000  1000.000000  1000.000000   \n",
       "mean   20559.680000     1.078000  20575.037855    42.382000     1.859000   \n",
       "std        8.995027     0.485955     24.211234    17.903424     0.386353   \n",
       "min    20545.000000     1.000000  20547.000000     1.000000     1.000000   \n",
       "25%    20552.000000     1.000000  20561.000000    30.750000     2.000000   \n",
       "50%    20560.000000     1.000000  20570.000000    42.000000     2.000000   \n",
       "75%    20567.250000     1.000000  20580.000000    55.000000     2.000000   \n",
       "max    20574.000000     9.000000  20715.000000    93.000000     3.000000   \n",
       "\n",
       "        count      dtadfile  entdepu      biryear       insnum        admnum  \n",
       "count  1000.0  1.000000e+03      0.0  1000.000000    35.000000  1.000000e+03  \n",
       "mean      1.0  2.016042e+07      NaN  1973.618000  3826.857143  6.937237e+10  \n",
       "std       0.0  4.951657e+01      NaN    17.903424   221.742583  2.338134e+10  \n",
       "min       1.0  2.016040e+07      NaN  1923.000000  3468.000000  0.000000e+00  \n",
       "25%       1.0  2.016041e+07      NaN  1961.000000  3668.000000  5.599301e+10  \n",
       "50%       1.0  2.016042e+07      NaN  1974.000000  3887.000000  5.931477e+10  \n",
       "75%       1.0  2.016042e+07      NaN  1985.250000  3943.000000  9.343623e+10  \n",
       "max       1.0  2.016080e+07      NaN  2015.000000  4686.000000  9.502151e+10  "
      ]
     },
     "execution_count": 5,
     "metadata": {},
     "output_type": "execute_result"
    }
   ],
   "source": [
    "immigration_df.describe()"
   ]
  },
  {
   "cell_type": "code",
   "execution_count": 6,
   "metadata": {
    "editable": true
   },
   "outputs": [
    {
     "name": "stdout",
     "output_type": "stream",
     "text": [
      "<class 'pandas.core.frame.DataFrame'>\n",
      "RangeIndex: 1000 entries, 0 to 999\n",
      "Data columns (total 29 columns):\n",
      " #   Column      Non-Null Count  Dtype  \n",
      "---  ------      --------------  -----  \n",
      " 0   Unnamed: 0  1000 non-null   int64  \n",
      " 1   cicid       1000 non-null   float64\n",
      " 2   i94yr       1000 non-null   float64\n",
      " 3   i94mon      1000 non-null   float64\n",
      " 4   i94cit      1000 non-null   float64\n",
      " 5   i94res      1000 non-null   float64\n",
      " 6   i94port     1000 non-null   object \n",
      " 7   arrdate     1000 non-null   float64\n",
      " 8   i94mode     1000 non-null   float64\n",
      " 9   i94addr     941 non-null    object \n",
      " 10  depdate     951 non-null    float64\n",
      " 11  i94bir      1000 non-null   float64\n",
      " 12  i94visa     1000 non-null   float64\n",
      " 13  count       1000 non-null   float64\n",
      " 14  dtadfile    1000 non-null   int64  \n",
      " 15  visapost    382 non-null    object \n",
      " 16  occup       4 non-null      object \n",
      " 17  entdepa     1000 non-null   object \n",
      " 18  entdepd     954 non-null    object \n",
      " 19  entdepu     0 non-null      float64\n",
      " 20  matflag     954 non-null    object \n",
      " 21  biryear     1000 non-null   float64\n",
      " 22  dtaddto     1000 non-null   object \n",
      " 23  gender      859 non-null    object \n",
      " 24  insnum      35 non-null     float64\n",
      " 25  airline     967 non-null    object \n",
      " 26  admnum      1000 non-null   float64\n",
      " 27  fltno       992 non-null    object \n",
      " 28  visatype    1000 non-null   object \n",
      "dtypes: float64(15), int64(2), object(12)\n",
      "memory usage: 226.7+ KB\n"
     ]
    }
   ],
   "source": [
    "immigration_df.info()"
   ]
  },
  {
   "cell_type": "code",
   "execution_count": 7,
   "metadata": {
    "editable": true
   },
   "outputs": [
    {
     "data": {
      "text/plain": [
       "Unnamed: 0    0.000\n",
       "cicid         0.000\n",
       "i94yr         0.000\n",
       "i94mon        0.000\n",
       "i94cit        0.000\n",
       "i94res        0.000\n",
       "i94port       0.000\n",
       "arrdate       0.000\n",
       "i94mode       0.000\n",
       "i94addr       0.059\n",
       "depdate       0.049\n",
       "i94bir        0.000\n",
       "i94visa       0.000\n",
       "count         0.000\n",
       "dtadfile      0.000\n",
       "visapost      0.618\n",
       "occup         0.996\n",
       "entdepa       0.000\n",
       "entdepd       0.046\n",
       "entdepu       1.000\n",
       "matflag       0.046\n",
       "biryear       0.000\n",
       "dtaddto       0.000\n",
       "gender        0.141\n",
       "insnum        0.965\n",
       "airline       0.033\n",
       "admnum        0.000\n",
       "fltno         0.008\n",
       "visatype      0.000\n",
       "dtype: float64"
      ]
     },
     "execution_count": 7,
     "metadata": {},
     "output_type": "execute_result"
    }
   ],
   "source": [
    "immigration_df.isnull().mean()"
   ]
  },
  {
   "cell_type": "markdown",
   "metadata": {
    "editable": true
   },
   "source": [
    "Dataset with inmigration information from th US authorities. The I-94 provides a count of visitor arrivals to the United States (with stays of 1-night or more and visiting under certain visa types) to calculate U.S. travel and tourism volume exports.\n",
    "\n",
    "- Has some columns with a high proportion of null values\n",
    "- Some of the columns are casted as floats but can be integers to save memory"
   ]
  },
  {
   "cell_type": "markdown",
   "metadata": {
    "editable": true
   },
   "source": [
    "- **Unnamed**: 0 : unique id\n",
    "- **cicid**: unique id\n",
    "- **i94yr**: year of arrival\n",
    "- **i94mon**: month arrival\n",
    "- **i94cit**, i94res: country code -> i94cit = citeizenship, i94res = residence\n",
    "- **i94port**: us port code\n",
    "- **arrdate**: arrival date in US in SAS format\n",
    "- **i94mode**: mode of arrival -> 4 different values. Air, sea, land and not reported\n",
    "- **i94addr**: U.S. state address\n",
    "- **depdate**: departure date in SAS format\n",
    "- **i94bir**: respondent's age\n",
    "- **i94visa**: respondent's visa type -> 3 different value: Business, pleasure, student.\n",
    "- **count**: Drop column\n",
    "- **dtadfile**: date added to I-94 files\n",
    "- **visapost**: department of state where visa is issued\n",
    "- **occup**: occupation in U.S. -> 4 different values. Mostly nan.\n",
    "- **entdepa**: arrival flag - admitted or paroled into the U.S.\n",
    "- **entdepd**: departure flag - departed, lost I-94 or is deceased\n",
    "- **entdepu**: update flag - either apprehended, overstayed, adjusted to perm residence -> Drop column\n",
    "- **matflag**: match flag - match of arrival and departure records\n",
    "- **biryear**: birth year\n",
    "- **dtaddto**: date to which admitted to U.S. (allowed to stay until)\n",
    "- **gender**: non-immigrant gender\n",
    "- **insnum**: Drop column\n",
    "- **airline**: airline used to arrive in U.S.\n",
    "- **admnum**: admission number\n",
    "- **fltno**: flight number\n",
    "- **visatype**: class of admission legally admitting the non-immigrant to temporarily stay in U.S."
   ]
  },
  {
   "cell_type": "code",
   "execution_count": 8,
   "metadata": {
    "editable": true
   },
   "outputs": [],
   "source": [
    "from pyspark.sql import SparkSession\n",
    "import pyspark.sql.functions as F\n",
    "\n",
    "spark = SparkSession.builder.\\\n",
    "        config(\"spark.jars.repositories\", \"https://repos.spark-packages.org/\").\\\n",
    "        config(\"spark.jars.packages\", \"saurfang:spark-sas7bdat:2.0.0-s_2.11\").\\\n",
    "        enableHiveSupport().getOrCreate()\n",
    "\n",
    "df_spark = spark.read.format('com.github.saurfang.sas.spark').load('../../data/18-83510-I94-Data-2016/i94_apr16_sub.sas7bdat')\n",
    "# write to parquet\n",
    "# df_spark.write.parquet(\"sas_data\")"
   ]
  },
  {
   "cell_type": "code",
   "execution_count": 9,
   "metadata": {
    "editable": true
   },
   "outputs": [
    {
     "data": {
      "text/plain": [
       "[Row(cicid=5748517.0, i94yr=2016.0, i94mon=4.0, i94cit=245.0, i94res=438.0, i94port='LOS', arrdate=20574.0, i94mode=1.0, i94addr='CA', depdate=20582.0, i94bir=40.0, i94visa=1.0, count=1.0, dtadfile='20160430', visapost='SYD', occup=None, entdepa='G', entdepd='O', entdepu=None, matflag='M', biryear=1976.0, dtaddto='10292016', gender='F', insnum=None, airline='QF', admnum=94953870030.0, fltno='00011', visatype='B1')]"
      ]
     },
     "execution_count": 9,
     "metadata": {},
     "output_type": "execute_result"
    }
   ],
   "source": [
    "df_spark =  spark.read.parquet(\"immigration_data\")\n",
    "df_spark.take(1)"
   ]
  },
  {
   "cell_type": "code",
   "execution_count": 10,
   "metadata": {
    "editable": true
   },
   "outputs": [
    {
     "data": {
      "text/plain": [
       "3096313"
      ]
     },
     "execution_count": 10,
     "metadata": {},
     "output_type": "execute_result"
    }
   ],
   "source": [
    "df_spark.count()"
   ]
  },
  {
   "cell_type": "code",
   "execution_count": 11,
   "metadata": {
    "editable": true
   },
   "outputs": [
    {
     "name": "stdout",
     "output_type": "stream",
     "text": [
      "+---------------------+\n",
      "|count(DISTINCT cicid)|\n",
      "+---------------------+\n",
      "|              3096313|\n",
      "+---------------------+\n",
      "\n"
     ]
    }
   ],
   "source": [
    "df_spark.agg(F.countDistinct(F.col('cicid'))).show()"
   ]
  },
  {
   "cell_type": "markdown",
   "metadata": {
    "editable": true
   },
   "source": [
    "### Demographics data"
   ]
  },
  {
   "cell_type": "code",
   "execution_count": 12,
   "metadata": {
    "editable": true
   },
   "outputs": [
    {
     "data": {
      "text/html": [
       "<div>\n",
       "<style scoped>\n",
       "    .dataframe tbody tr th:only-of-type {\n",
       "        vertical-align: middle;\n",
       "    }\n",
       "\n",
       "    .dataframe tbody tr th {\n",
       "        vertical-align: top;\n",
       "    }\n",
       "\n",
       "    .dataframe thead th {\n",
       "        text-align: right;\n",
       "    }\n",
       "</style>\n",
       "<table border=\"1\" class=\"dataframe\">\n",
       "  <thead>\n",
       "    <tr style=\"text-align: right;\">\n",
       "      <th></th>\n",
       "      <th>City</th>\n",
       "      <th>State</th>\n",
       "      <th>Median Age</th>\n",
       "      <th>Male Population</th>\n",
       "      <th>Female Population</th>\n",
       "      <th>Total Population</th>\n",
       "      <th>Number of Veterans</th>\n",
       "      <th>Foreign-born</th>\n",
       "      <th>Average Household Size</th>\n",
       "      <th>State Code</th>\n",
       "      <th>Race</th>\n",
       "      <th>Count</th>\n",
       "    </tr>\n",
       "  </thead>\n",
       "  <tbody>\n",
       "    <tr>\n",
       "      <th>0</th>\n",
       "      <td>Silver Spring</td>\n",
       "      <td>Maryland</td>\n",
       "      <td>33.8</td>\n",
       "      <td>40601.0</td>\n",
       "      <td>41862.0</td>\n",
       "      <td>82463</td>\n",
       "      <td>1562.0</td>\n",
       "      <td>30908.0</td>\n",
       "      <td>2.60</td>\n",
       "      <td>MD</td>\n",
       "      <td>Hispanic or Latino</td>\n",
       "      <td>25924</td>\n",
       "    </tr>\n",
       "    <tr>\n",
       "      <th>1</th>\n",
       "      <td>Quincy</td>\n",
       "      <td>Massachusetts</td>\n",
       "      <td>41.0</td>\n",
       "      <td>44129.0</td>\n",
       "      <td>49500.0</td>\n",
       "      <td>93629</td>\n",
       "      <td>4147.0</td>\n",
       "      <td>32935.0</td>\n",
       "      <td>2.39</td>\n",
       "      <td>MA</td>\n",
       "      <td>White</td>\n",
       "      <td>58723</td>\n",
       "    </tr>\n",
       "    <tr>\n",
       "      <th>2</th>\n",
       "      <td>Hoover</td>\n",
       "      <td>Alabama</td>\n",
       "      <td>38.5</td>\n",
       "      <td>38040.0</td>\n",
       "      <td>46799.0</td>\n",
       "      <td>84839</td>\n",
       "      <td>4819.0</td>\n",
       "      <td>8229.0</td>\n",
       "      <td>2.58</td>\n",
       "      <td>AL</td>\n",
       "      <td>Asian</td>\n",
       "      <td>4759</td>\n",
       "    </tr>\n",
       "    <tr>\n",
       "      <th>3</th>\n",
       "      <td>Rancho Cucamonga</td>\n",
       "      <td>California</td>\n",
       "      <td>34.5</td>\n",
       "      <td>88127.0</td>\n",
       "      <td>87105.0</td>\n",
       "      <td>175232</td>\n",
       "      <td>5821.0</td>\n",
       "      <td>33878.0</td>\n",
       "      <td>3.18</td>\n",
       "      <td>CA</td>\n",
       "      <td>Black or African-American</td>\n",
       "      <td>24437</td>\n",
       "    </tr>\n",
       "    <tr>\n",
       "      <th>4</th>\n",
       "      <td>Newark</td>\n",
       "      <td>New Jersey</td>\n",
       "      <td>34.6</td>\n",
       "      <td>138040.0</td>\n",
       "      <td>143873.0</td>\n",
       "      <td>281913</td>\n",
       "      <td>5829.0</td>\n",
       "      <td>86253.0</td>\n",
       "      <td>2.73</td>\n",
       "      <td>NJ</td>\n",
       "      <td>White</td>\n",
       "      <td>76402</td>\n",
       "    </tr>\n",
       "  </tbody>\n",
       "</table>\n",
       "</div>"
      ],
      "text/plain": [
       "               City          State  Median Age  Male Population  \\\n",
       "0     Silver Spring       Maryland        33.8          40601.0   \n",
       "1            Quincy  Massachusetts        41.0          44129.0   \n",
       "2            Hoover        Alabama        38.5          38040.0   \n",
       "3  Rancho Cucamonga     California        34.5          88127.0   \n",
       "4            Newark     New Jersey        34.6         138040.0   \n",
       "\n",
       "   Female Population  Total Population  Number of Veterans  Foreign-born  \\\n",
       "0            41862.0             82463              1562.0       30908.0   \n",
       "1            49500.0             93629              4147.0       32935.0   \n",
       "2            46799.0             84839              4819.0        8229.0   \n",
       "3            87105.0            175232              5821.0       33878.0   \n",
       "4           143873.0            281913              5829.0       86253.0   \n",
       "\n",
       "   Average Household Size State Code                       Race  Count  \n",
       "0                    2.60         MD         Hispanic or Latino  25924  \n",
       "1                    2.39         MA                      White  58723  \n",
       "2                    2.58         AL                      Asian   4759  \n",
       "3                    3.18         CA  Black or African-American  24437  \n",
       "4                    2.73         NJ                      White  76402  "
      ]
     },
     "execution_count": 12,
     "metadata": {},
     "output_type": "execute_result"
    }
   ],
   "source": [
    "us_cities_df = pd.read_csv(\"us-cities-demographics.csv\", sep=\";\")\n",
    "us_cities_df.head()"
   ]
  },
  {
   "cell_type": "markdown",
   "metadata": {
    "editable": true
   },
   "source": [
    "The city demographics dataset has information about US cities with demographic data such as population and median age and racial distibution by city."
   ]
  },
  {
   "cell_type": "code",
   "execution_count": 13,
   "metadata": {
    "editable": true
   },
   "outputs": [
    {
     "data": {
      "text/html": [
       "<div>\n",
       "<style scoped>\n",
       "    .dataframe tbody tr th:only-of-type {\n",
       "        vertical-align: middle;\n",
       "    }\n",
       "\n",
       "    .dataframe tbody tr th {\n",
       "        vertical-align: top;\n",
       "    }\n",
       "\n",
       "    .dataframe thead th {\n",
       "        text-align: right;\n",
       "    }\n",
       "</style>\n",
       "<table border=\"1\" class=\"dataframe\">\n",
       "  <thead>\n",
       "    <tr style=\"text-align: right;\">\n",
       "      <th></th>\n",
       "      <th>Median Age</th>\n",
       "      <th>Male Population</th>\n",
       "      <th>Female Population</th>\n",
       "      <th>Total Population</th>\n",
       "      <th>Number of Veterans</th>\n",
       "      <th>Foreign-born</th>\n",
       "      <th>Average Household Size</th>\n",
       "      <th>Count</th>\n",
       "    </tr>\n",
       "  </thead>\n",
       "  <tbody>\n",
       "    <tr>\n",
       "      <th>count</th>\n",
       "      <td>2891.000000</td>\n",
       "      <td>2.888000e+03</td>\n",
       "      <td>2.888000e+03</td>\n",
       "      <td>2.891000e+03</td>\n",
       "      <td>2878.000000</td>\n",
       "      <td>2.878000e+03</td>\n",
       "      <td>2875.000000</td>\n",
       "      <td>2.891000e+03</td>\n",
       "    </tr>\n",
       "    <tr>\n",
       "      <th>mean</th>\n",
       "      <td>35.494881</td>\n",
       "      <td>9.732843e+04</td>\n",
       "      <td>1.017696e+05</td>\n",
       "      <td>1.989668e+05</td>\n",
       "      <td>9367.832523</td>\n",
       "      <td>4.065360e+04</td>\n",
       "      <td>2.742543</td>\n",
       "      <td>4.896377e+04</td>\n",
       "    </tr>\n",
       "    <tr>\n",
       "      <th>std</th>\n",
       "      <td>4.401617</td>\n",
       "      <td>2.162999e+05</td>\n",
       "      <td>2.315646e+05</td>\n",
       "      <td>4.475559e+05</td>\n",
       "      <td>13211.219924</td>\n",
       "      <td>1.557491e+05</td>\n",
       "      <td>0.433291</td>\n",
       "      <td>1.443856e+05</td>\n",
       "    </tr>\n",
       "    <tr>\n",
       "      <th>min</th>\n",
       "      <td>22.900000</td>\n",
       "      <td>2.928100e+04</td>\n",
       "      <td>2.734800e+04</td>\n",
       "      <td>6.321500e+04</td>\n",
       "      <td>416.000000</td>\n",
       "      <td>8.610000e+02</td>\n",
       "      <td>2.000000</td>\n",
       "      <td>9.800000e+01</td>\n",
       "    </tr>\n",
       "    <tr>\n",
       "      <th>25%</th>\n",
       "      <td>32.800000</td>\n",
       "      <td>3.928900e+04</td>\n",
       "      <td>4.122700e+04</td>\n",
       "      <td>8.042900e+04</td>\n",
       "      <td>3739.000000</td>\n",
       "      <td>9.224000e+03</td>\n",
       "      <td>2.430000</td>\n",
       "      <td>3.435000e+03</td>\n",
       "    </tr>\n",
       "    <tr>\n",
       "      <th>50%</th>\n",
       "      <td>35.300000</td>\n",
       "      <td>5.234100e+04</td>\n",
       "      <td>5.380900e+04</td>\n",
       "      <td>1.067820e+05</td>\n",
       "      <td>5397.000000</td>\n",
       "      <td>1.882200e+04</td>\n",
       "      <td>2.650000</td>\n",
       "      <td>1.378000e+04</td>\n",
       "    </tr>\n",
       "    <tr>\n",
       "      <th>75%</th>\n",
       "      <td>38.000000</td>\n",
       "      <td>8.664175e+04</td>\n",
       "      <td>8.960400e+04</td>\n",
       "      <td>1.752320e+05</td>\n",
       "      <td>9368.000000</td>\n",
       "      <td>3.397175e+04</td>\n",
       "      <td>2.950000</td>\n",
       "      <td>5.444700e+04</td>\n",
       "    </tr>\n",
       "    <tr>\n",
       "      <th>max</th>\n",
       "      <td>70.500000</td>\n",
       "      <td>4.081698e+06</td>\n",
       "      <td>4.468707e+06</td>\n",
       "      <td>8.550405e+06</td>\n",
       "      <td>156961.000000</td>\n",
       "      <td>3.212500e+06</td>\n",
       "      <td>4.980000</td>\n",
       "      <td>3.835726e+06</td>\n",
       "    </tr>\n",
       "  </tbody>\n",
       "</table>\n",
       "</div>"
      ],
      "text/plain": [
       "        Median Age  Male Population  Female Population  Total Population  \\\n",
       "count  2891.000000     2.888000e+03       2.888000e+03      2.891000e+03   \n",
       "mean     35.494881     9.732843e+04       1.017696e+05      1.989668e+05   \n",
       "std       4.401617     2.162999e+05       2.315646e+05      4.475559e+05   \n",
       "min      22.900000     2.928100e+04       2.734800e+04      6.321500e+04   \n",
       "25%      32.800000     3.928900e+04       4.122700e+04      8.042900e+04   \n",
       "50%      35.300000     5.234100e+04       5.380900e+04      1.067820e+05   \n",
       "75%      38.000000     8.664175e+04       8.960400e+04      1.752320e+05   \n",
       "max      70.500000     4.081698e+06       4.468707e+06      8.550405e+06   \n",
       "\n",
       "       Number of Veterans  Foreign-born  Average Household Size         Count  \n",
       "count         2878.000000  2.878000e+03             2875.000000  2.891000e+03  \n",
       "mean          9367.832523  4.065360e+04                2.742543  4.896377e+04  \n",
       "std          13211.219924  1.557491e+05                0.433291  1.443856e+05  \n",
       "min            416.000000  8.610000e+02                2.000000  9.800000e+01  \n",
       "25%           3739.000000  9.224000e+03                2.430000  3.435000e+03  \n",
       "50%           5397.000000  1.882200e+04                2.650000  1.378000e+04  \n",
       "75%           9368.000000  3.397175e+04                2.950000  5.444700e+04  \n",
       "max         156961.000000  3.212500e+06                4.980000  3.835726e+06  "
      ]
     },
     "execution_count": 13,
     "metadata": {},
     "output_type": "execute_result"
    }
   ],
   "source": [
    "us_cities_df.describe()"
   ]
  },
  {
   "cell_type": "code",
   "execution_count": 14,
   "metadata": {
    "editable": true
   },
   "outputs": [
    {
     "name": "stdout",
     "output_type": "stream",
     "text": [
      "<class 'pandas.core.frame.DataFrame'>\n",
      "RangeIndex: 2891 entries, 0 to 2890\n",
      "Data columns (total 12 columns):\n",
      " #   Column                  Non-Null Count  Dtype  \n",
      "---  ------                  --------------  -----  \n",
      " 0   City                    2891 non-null   object \n",
      " 1   State                   2891 non-null   object \n",
      " 2   Median Age              2891 non-null   float64\n",
      " 3   Male Population         2888 non-null   float64\n",
      " 4   Female Population       2888 non-null   float64\n",
      " 5   Total Population        2891 non-null   int64  \n",
      " 6   Number of Veterans      2878 non-null   float64\n",
      " 7   Foreign-born            2878 non-null   float64\n",
      " 8   Average Household Size  2875 non-null   float64\n",
      " 9   State Code              2891 non-null   object \n",
      " 10  Race                    2891 non-null   object \n",
      " 11  Count                   2891 non-null   int64  \n",
      "dtypes: float64(6), int64(2), object(4)\n",
      "memory usage: 271.2+ KB\n"
     ]
    }
   ],
   "source": [
    "us_cities_df.info()"
   ]
  },
  {
   "cell_type": "code",
   "execution_count": 15,
   "metadata": {
    "editable": true
   },
   "outputs": [
    {
     "data": {
      "text/plain": [
       "City                      0.000000\n",
       "State                     0.000000\n",
       "Median Age                0.000000\n",
       "Male Population           0.001038\n",
       "Female Population         0.001038\n",
       "Total Population          0.000000\n",
       "Number of Veterans        0.004497\n",
       "Foreign-born              0.004497\n",
       "Average Household Size    0.005534\n",
       "State Code                0.000000\n",
       "Race                      0.000000\n",
       "Count                     0.000000\n",
       "dtype: float64"
      ]
     },
     "execution_count": 15,
     "metadata": {},
     "output_type": "execute_result"
    }
   ],
   "source": [
    "us_cities_df.isnull().mean()"
   ]
  },
  {
   "cell_type": "code",
   "execution_count": 16,
   "metadata": {
    "editable": true
   },
   "outputs": [],
   "source": [
    "us_cities_df.columns = [col.lower().replace(\" \", \"_\").replace(\"-\", \"_\") for col in us_cities_df.columns]"
   ]
  },
  {
   "cell_type": "code",
   "execution_count": 17,
   "metadata": {
    "editable": true
   },
   "outputs": [],
   "source": [
    "us_cities_cast_dict = {\n",
    "\"male_population\": \"Int64\",\n",
    "\"female_population\": \"Int64\",\n",
    "\"number_of_veterans\": \"Int64\",\n",
    "\"foreign_born\": \"Int64\",\n",
    "}\n"
   ]
  },
  {
   "cell_type": "markdown",
   "metadata": {
    "editable": true
   },
   "source": [
    "### Aiports dataset"
   ]
  },
  {
   "cell_type": "code",
   "execution_count": 186,
   "metadata": {
    "editable": true
   },
   "outputs": [
    {
     "data": {
      "text/html": [
       "<div>\n",
       "<style scoped>\n",
       "    .dataframe tbody tr th:only-of-type {\n",
       "        vertical-align: middle;\n",
       "    }\n",
       "\n",
       "    .dataframe tbody tr th {\n",
       "        vertical-align: top;\n",
       "    }\n",
       "\n",
       "    .dataframe thead th {\n",
       "        text-align: right;\n",
       "    }\n",
       "</style>\n",
       "<table border=\"1\" class=\"dataframe\">\n",
       "  <thead>\n",
       "    <tr style=\"text-align: right;\">\n",
       "      <th></th>\n",
       "      <th>ident</th>\n",
       "      <th>type</th>\n",
       "      <th>name</th>\n",
       "      <th>elevation_ft</th>\n",
       "      <th>continent</th>\n",
       "      <th>iso_country</th>\n",
       "      <th>iso_region</th>\n",
       "      <th>municipality</th>\n",
       "      <th>gps_code</th>\n",
       "      <th>iata_code</th>\n",
       "      <th>local_code</th>\n",
       "      <th>coordinates</th>\n",
       "    </tr>\n",
       "  </thead>\n",
       "  <tbody>\n",
       "    <tr>\n",
       "      <th>0</th>\n",
       "      <td>00A</td>\n",
       "      <td>heliport</td>\n",
       "      <td>Total Rf Heliport</td>\n",
       "      <td>11.0</td>\n",
       "      <td>NaN</td>\n",
       "      <td>US</td>\n",
       "      <td>US-PA</td>\n",
       "      <td>Bensalem</td>\n",
       "      <td>00A</td>\n",
       "      <td>NaN</td>\n",
       "      <td>00A</td>\n",
       "      <td>-74.93360137939453, 40.07080078125</td>\n",
       "    </tr>\n",
       "    <tr>\n",
       "      <th>1</th>\n",
       "      <td>00AA</td>\n",
       "      <td>small_airport</td>\n",
       "      <td>Aero B Ranch Airport</td>\n",
       "      <td>3435.0</td>\n",
       "      <td>NaN</td>\n",
       "      <td>US</td>\n",
       "      <td>US-KS</td>\n",
       "      <td>Leoti</td>\n",
       "      <td>00AA</td>\n",
       "      <td>NaN</td>\n",
       "      <td>00AA</td>\n",
       "      <td>-101.473911, 38.704022</td>\n",
       "    </tr>\n",
       "    <tr>\n",
       "      <th>2</th>\n",
       "      <td>00AK</td>\n",
       "      <td>small_airport</td>\n",
       "      <td>Lowell Field</td>\n",
       "      <td>450.0</td>\n",
       "      <td>NaN</td>\n",
       "      <td>US</td>\n",
       "      <td>US-AK</td>\n",
       "      <td>Anchor Point</td>\n",
       "      <td>00AK</td>\n",
       "      <td>NaN</td>\n",
       "      <td>00AK</td>\n",
       "      <td>-151.695999146, 59.94919968</td>\n",
       "    </tr>\n",
       "    <tr>\n",
       "      <th>3</th>\n",
       "      <td>00AL</td>\n",
       "      <td>small_airport</td>\n",
       "      <td>Epps Airpark</td>\n",
       "      <td>820.0</td>\n",
       "      <td>NaN</td>\n",
       "      <td>US</td>\n",
       "      <td>US-AL</td>\n",
       "      <td>Harvest</td>\n",
       "      <td>00AL</td>\n",
       "      <td>NaN</td>\n",
       "      <td>00AL</td>\n",
       "      <td>-86.77030181884766, 34.86479949951172</td>\n",
       "    </tr>\n",
       "    <tr>\n",
       "      <th>4</th>\n",
       "      <td>00AR</td>\n",
       "      <td>closed</td>\n",
       "      <td>Newport Hospital &amp; Clinic Heliport</td>\n",
       "      <td>237.0</td>\n",
       "      <td>NaN</td>\n",
       "      <td>US</td>\n",
       "      <td>US-AR</td>\n",
       "      <td>Newport</td>\n",
       "      <td>NaN</td>\n",
       "      <td>NaN</td>\n",
       "      <td>NaN</td>\n",
       "      <td>-91.254898, 35.6087</td>\n",
       "    </tr>\n",
       "  </tbody>\n",
       "</table>\n",
       "</div>"
      ],
      "text/plain": [
       "  ident           type                                name  elevation_ft  \\\n",
       "0   00A       heliport                   Total Rf Heliport          11.0   \n",
       "1  00AA  small_airport                Aero B Ranch Airport        3435.0   \n",
       "2  00AK  small_airport                        Lowell Field         450.0   \n",
       "3  00AL  small_airport                        Epps Airpark         820.0   \n",
       "4  00AR         closed  Newport Hospital & Clinic Heliport         237.0   \n",
       "\n",
       "  continent iso_country iso_region  municipality gps_code iata_code  \\\n",
       "0       NaN          US      US-PA      Bensalem      00A       NaN   \n",
       "1       NaN          US      US-KS         Leoti     00AA       NaN   \n",
       "2       NaN          US      US-AK  Anchor Point     00AK       NaN   \n",
       "3       NaN          US      US-AL       Harvest     00AL       NaN   \n",
       "4       NaN          US      US-AR       Newport      NaN       NaN   \n",
       "\n",
       "  local_code                            coordinates  \n",
       "0        00A     -74.93360137939453, 40.07080078125  \n",
       "1       00AA                 -101.473911, 38.704022  \n",
       "2       00AK            -151.695999146, 59.94919968  \n",
       "3       00AL  -86.77030181884766, 34.86479949951172  \n",
       "4        NaN                    -91.254898, 35.6087  "
      ]
     },
     "execution_count": 186,
     "metadata": {},
     "output_type": "execute_result"
    }
   ],
   "source": [
    "airport_df = pd.read_csv(\"airport-codes_csv.csv\")\n",
    "airport_df.head()"
   ]
  },
  {
   "cell_type": "markdown",
   "metadata": {
    "editable": true
   },
   "source": [
    "The airport codes datset has information about world aiports with their location and international codes. "
   ]
  },
  {
   "cell_type": "code",
   "execution_count": 19,
   "metadata": {
    "editable": true
   },
   "outputs": [
    {
     "data": {
      "text/html": [
       "<div>\n",
       "<style scoped>\n",
       "    .dataframe tbody tr th:only-of-type {\n",
       "        vertical-align: middle;\n",
       "    }\n",
       "\n",
       "    .dataframe tbody tr th {\n",
       "        vertical-align: top;\n",
       "    }\n",
       "\n",
       "    .dataframe thead th {\n",
       "        text-align: right;\n",
       "    }\n",
       "</style>\n",
       "<table border=\"1\" class=\"dataframe\">\n",
       "  <thead>\n",
       "    <tr style=\"text-align: right;\">\n",
       "      <th></th>\n",
       "      <th>ident</th>\n",
       "      <th>type</th>\n",
       "      <th>name</th>\n",
       "      <th>elevation_ft</th>\n",
       "      <th>continent</th>\n",
       "      <th>iso_country</th>\n",
       "      <th>iso_region</th>\n",
       "      <th>municipality</th>\n",
       "      <th>gps_code</th>\n",
       "      <th>iata_code</th>\n",
       "      <th>local_code</th>\n",
       "      <th>coordinates</th>\n",
       "    </tr>\n",
       "  </thead>\n",
       "  <tbody>\n",
       "    <tr>\n",
       "      <th>count</th>\n",
       "      <td>57421</td>\n",
       "      <td>57421</td>\n",
       "      <td>57421</td>\n",
       "      <td>49608.000000</td>\n",
       "      <td>28978</td>\n",
       "      <td>57175</td>\n",
       "      <td>57421</td>\n",
       "      <td>51527</td>\n",
       "      <td>41561</td>\n",
       "      <td>9225</td>\n",
       "      <td>30030</td>\n",
       "      <td>57421</td>\n",
       "    </tr>\n",
       "    <tr>\n",
       "      <th>unique</th>\n",
       "      <td>57421</td>\n",
       "      <td>7</td>\n",
       "      <td>54380</td>\n",
       "      <td>NaN</td>\n",
       "      <td>6</td>\n",
       "      <td>242</td>\n",
       "      <td>2776</td>\n",
       "      <td>27893</td>\n",
       "      <td>40842</td>\n",
       "      <td>9113</td>\n",
       "      <td>28652</td>\n",
       "      <td>57294</td>\n",
       "    </tr>\n",
       "    <tr>\n",
       "      <th>top</th>\n",
       "      <td>WY68</td>\n",
       "      <td>small_airport</td>\n",
       "      <td>Centre Hospitalier Heliport</td>\n",
       "      <td>NaN</td>\n",
       "      <td>SA</td>\n",
       "      <td>US</td>\n",
       "      <td>US-TX</td>\n",
       "      <td>Seoul</td>\n",
       "      <td>SDPS</td>\n",
       "      <td>0</td>\n",
       "      <td>AMA</td>\n",
       "      <td>129.115255, 37.540345</td>\n",
       "    </tr>\n",
       "    <tr>\n",
       "      <th>freq</th>\n",
       "      <td>1</td>\n",
       "      <td>34808</td>\n",
       "      <td>85</td>\n",
       "      <td>NaN</td>\n",
       "      <td>8443</td>\n",
       "      <td>23256</td>\n",
       "      <td>2302</td>\n",
       "      <td>403</td>\n",
       "      <td>3</td>\n",
       "      <td>75</td>\n",
       "      <td>5</td>\n",
       "      <td>50</td>\n",
       "    </tr>\n",
       "    <tr>\n",
       "      <th>mean</th>\n",
       "      <td>NaN</td>\n",
       "      <td>NaN</td>\n",
       "      <td>NaN</td>\n",
       "      <td>1253.371775</td>\n",
       "      <td>NaN</td>\n",
       "      <td>NaN</td>\n",
       "      <td>NaN</td>\n",
       "      <td>NaN</td>\n",
       "      <td>NaN</td>\n",
       "      <td>NaN</td>\n",
       "      <td>NaN</td>\n",
       "      <td>NaN</td>\n",
       "    </tr>\n",
       "    <tr>\n",
       "      <th>std</th>\n",
       "      <td>NaN</td>\n",
       "      <td>NaN</td>\n",
       "      <td>NaN</td>\n",
       "      <td>1615.482592</td>\n",
       "      <td>NaN</td>\n",
       "      <td>NaN</td>\n",
       "      <td>NaN</td>\n",
       "      <td>NaN</td>\n",
       "      <td>NaN</td>\n",
       "      <td>NaN</td>\n",
       "      <td>NaN</td>\n",
       "      <td>NaN</td>\n",
       "    </tr>\n",
       "    <tr>\n",
       "      <th>min</th>\n",
       "      <td>NaN</td>\n",
       "      <td>NaN</td>\n",
       "      <td>NaN</td>\n",
       "      <td>-1266.000000</td>\n",
       "      <td>NaN</td>\n",
       "      <td>NaN</td>\n",
       "      <td>NaN</td>\n",
       "      <td>NaN</td>\n",
       "      <td>NaN</td>\n",
       "      <td>NaN</td>\n",
       "      <td>NaN</td>\n",
       "      <td>NaN</td>\n",
       "    </tr>\n",
       "    <tr>\n",
       "      <th>25%</th>\n",
       "      <td>NaN</td>\n",
       "      <td>NaN</td>\n",
       "      <td>NaN</td>\n",
       "      <td>208.000000</td>\n",
       "      <td>NaN</td>\n",
       "      <td>NaN</td>\n",
       "      <td>NaN</td>\n",
       "      <td>NaN</td>\n",
       "      <td>NaN</td>\n",
       "      <td>NaN</td>\n",
       "      <td>NaN</td>\n",
       "      <td>NaN</td>\n",
       "    </tr>\n",
       "    <tr>\n",
       "      <th>50%</th>\n",
       "      <td>NaN</td>\n",
       "      <td>NaN</td>\n",
       "      <td>NaN</td>\n",
       "      <td>722.000000</td>\n",
       "      <td>NaN</td>\n",
       "      <td>NaN</td>\n",
       "      <td>NaN</td>\n",
       "      <td>NaN</td>\n",
       "      <td>NaN</td>\n",
       "      <td>NaN</td>\n",
       "      <td>NaN</td>\n",
       "      <td>NaN</td>\n",
       "    </tr>\n",
       "    <tr>\n",
       "      <th>75%</th>\n",
       "      <td>NaN</td>\n",
       "      <td>NaN</td>\n",
       "      <td>NaN</td>\n",
       "      <td>1519.000000</td>\n",
       "      <td>NaN</td>\n",
       "      <td>NaN</td>\n",
       "      <td>NaN</td>\n",
       "      <td>NaN</td>\n",
       "      <td>NaN</td>\n",
       "      <td>NaN</td>\n",
       "      <td>NaN</td>\n",
       "      <td>NaN</td>\n",
       "    </tr>\n",
       "    <tr>\n",
       "      <th>max</th>\n",
       "      <td>NaN</td>\n",
       "      <td>NaN</td>\n",
       "      <td>NaN</td>\n",
       "      <td>29977.000000</td>\n",
       "      <td>NaN</td>\n",
       "      <td>NaN</td>\n",
       "      <td>NaN</td>\n",
       "      <td>NaN</td>\n",
       "      <td>NaN</td>\n",
       "      <td>NaN</td>\n",
       "      <td>NaN</td>\n",
       "      <td>NaN</td>\n",
       "    </tr>\n",
       "  </tbody>\n",
       "</table>\n",
       "</div>"
      ],
      "text/plain": [
       "        ident           type                         name  elevation_ft  \\\n",
       "count   57421          57421                        57421  49608.000000   \n",
       "unique  57421              7                        54380           NaN   \n",
       "top      WY68  small_airport  Centre Hospitalier Heliport           NaN   \n",
       "freq        1          34808                           85           NaN   \n",
       "mean      NaN            NaN                          NaN   1253.371775   \n",
       "std       NaN            NaN                          NaN   1615.482592   \n",
       "min       NaN            NaN                          NaN  -1266.000000   \n",
       "25%       NaN            NaN                          NaN    208.000000   \n",
       "50%       NaN            NaN                          NaN    722.000000   \n",
       "75%       NaN            NaN                          NaN   1519.000000   \n",
       "max       NaN            NaN                          NaN  29977.000000   \n",
       "\n",
       "       continent iso_country iso_region municipality gps_code iata_code  \\\n",
       "count      28978       57175      57421        51527    41561      9225   \n",
       "unique         6         242       2776        27893    40842      9113   \n",
       "top           SA          US      US-TX        Seoul     SDPS         0   \n",
       "freq        8443       23256       2302          403        3        75   \n",
       "mean         NaN         NaN        NaN          NaN      NaN       NaN   \n",
       "std          NaN         NaN        NaN          NaN      NaN       NaN   \n",
       "min          NaN         NaN        NaN          NaN      NaN       NaN   \n",
       "25%          NaN         NaN        NaN          NaN      NaN       NaN   \n",
       "50%          NaN         NaN        NaN          NaN      NaN       NaN   \n",
       "75%          NaN         NaN        NaN          NaN      NaN       NaN   \n",
       "max          NaN         NaN        NaN          NaN      NaN       NaN   \n",
       "\n",
       "       local_code            coordinates  \n",
       "count       30030                  57421  \n",
       "unique      28652                  57294  \n",
       "top           AMA  129.115255, 37.540345  \n",
       "freq            5                     50  \n",
       "mean          NaN                    NaN  \n",
       "std           NaN                    NaN  \n",
       "min           NaN                    NaN  \n",
       "25%           NaN                    NaN  \n",
       "50%           NaN                    NaN  \n",
       "75%           NaN                    NaN  \n",
       "max           NaN                    NaN  "
      ]
     },
     "execution_count": 19,
     "metadata": {},
     "output_type": "execute_result"
    }
   ],
   "source": [
    "airport_df.describe(include='all')"
   ]
  },
  {
   "cell_type": "code",
   "execution_count": 20,
   "metadata": {
    "editable": true
   },
   "outputs": [
    {
     "name": "stdout",
     "output_type": "stream",
     "text": [
      "<class 'pandas.core.frame.DataFrame'>\n",
      "RangeIndex: 57421 entries, 0 to 57420\n",
      "Data columns (total 12 columns):\n",
      " #   Column        Non-Null Count  Dtype  \n",
      "---  ------        --------------  -----  \n",
      " 0   ident         57421 non-null  object \n",
      " 1   type          57421 non-null  object \n",
      " 2   name          57421 non-null  object \n",
      " 3   elevation_ft  49608 non-null  float64\n",
      " 4   continent     28978 non-null  object \n",
      " 5   iso_country   57175 non-null  object \n",
      " 6   iso_region    57421 non-null  object \n",
      " 7   municipality  51527 non-null  object \n",
      " 8   gps_code      41561 non-null  object \n",
      " 9   iata_code     9225 non-null   object \n",
      " 10  local_code    30030 non-null  object \n",
      " 11  coordinates   57421 non-null  object \n",
      "dtypes: float64(1), object(11)\n",
      "memory usage: 5.3+ MB\n"
     ]
    }
   ],
   "source": [
    "airport_df.info()"
   ]
  },
  {
   "cell_type": "code",
   "execution_count": 21,
   "metadata": {
    "editable": true
   },
   "outputs": [
    {
     "data": {
      "text/plain": [
       "ident           0.000000\n",
       "type            0.000000\n",
       "name            0.000000\n",
       "elevation_ft    0.136065\n",
       "continent       0.495341\n",
       "iso_country     0.004284\n",
       "iso_region      0.000000\n",
       "municipality    0.102645\n",
       "gps_code        0.276206\n",
       "iata_code       0.839344\n",
       "local_code      0.477021\n",
       "coordinates     0.000000\n",
       "dtype: float64"
      ]
     },
     "execution_count": 21,
     "metadata": {},
     "output_type": "execute_result"
    }
   ],
   "source": [
    "airport_df.isnull().mean()"
   ]
  },
  {
   "cell_type": "markdown",
   "metadata": {
    "editable": true
   },
   "source": [
    "### Port codes dataset"
   ]
  },
  {
   "cell_type": "markdown",
   "metadata": {
    "editable": true
   },
   "source": [
    "This dataset comes from the description of the `port_code` column in the i94 immigration dataset catalog."
   ]
  },
  {
   "cell_type": "code",
   "execution_count": 22,
   "metadata": {
    "editable": true
   },
   "outputs": [],
   "source": [
    "port_codes = {\n",
    "    'ALC': 'ALCAN, AK             ',\n",
    "    'ANC': 'ANCHORAGE, AK         ',\n",
    "    'BAR': 'BAKER AAF - BAKER ISLAND, AK',\n",
    "    'DAC': 'DALTONS CACHE, AK     ',\n",
    "    'PIZ': 'DEW STATION PT LAY DEW, AK',\n",
    "    'DTH': 'DUTCH HARBOR, AK      ',\n",
    "    'EGL': 'EAGLE, AK             ',\n",
    "    'FRB': 'FAIRBANKS, AK         ',\n",
    "    'HOM': 'HOMER, AK             ',\n",
    "    'HYD': 'HYDER, AK             ',\n",
    "    'JUN': 'JUNEAU, AK            ',\n",
    "    '5KE': 'KETCHIKAN, AK',\n",
    "    'KET': 'KETCHIKAN, AK         ',\n",
    "    'MOS': 'MOSES POINT INTERMEDIATE, AK',\n",
    "    'NIK': 'NIKISKI, AK           ',\n",
    "    'NOM': 'NOM, AK               ',\n",
    "    'PKC': 'POKER CREEK, AK       ',\n",
    "    'ORI': 'PORT LIONS SPB, AK',\n",
    "    'SKA': 'SKAGWAY, AK           ',\n",
    "    'SNP': 'ST. PAUL ISLAND, AK',\n",
    "    'TKI': 'TOKEEN, AK',\n",
    "    'WRA': 'WRANGELL, AK          ',\n",
    "    'HSV': 'MADISON COUNTY - HUNTSVILLE, AL',\n",
    "    'MOB': 'MOBILE, AL            ',\n",
    "    'LIA': 'LITTLE ROCK, AR (BPS)',\n",
    "    'ROG': 'ROGERS ARPT, AR',\n",
    "    'DOU': 'DOUGLAS, AZ           ',\n",
    "    'LUK': 'LUKEVILLE, AZ         ',\n",
    "    'MAP': 'MARIPOSA AZ           ',\n",
    "    'NAC': 'NACO, AZ              ',\n",
    "    'NOG': 'NOGALES, AZ           ',\n",
    "    'PHO': 'PHOENIX, AZ           ',\n",
    "    'POR': 'PORTAL, AZ',\n",
    "    'SLU': 'SAN LUIS, AZ          ',\n",
    "    'SAS': 'SASABE, AZ            ',\n",
    "    'TUC': 'TUCSON, AZ            ',\n",
    "    'YUI': 'YUMA, AZ              ' ,\n",
    "    'AND': 'ANDRADE, CA           ',\n",
    "    'BUR': 'BURBANK, CA',\n",
    "    'CAL': 'CALEXICO, CA          ',\n",
    "    'CAO': 'CAMPO, CA             ' ,\n",
    "    'FRE': 'FRESNO, CA            ',\n",
    "    'ICP': 'IMPERIAL COUNTY, CA   ',\n",
    "    'LNB': 'LONG BEACH, CA         ',\n",
    "    'LOS': 'LOS ANGELES, CA       ',\n",
    "    'BFL': 'MEADOWS FIELD - BAKERSFIELD, CA',\n",
    "    'OAK': 'OAKLAND, CA ' ,\n",
    "    'ONT': 'ONTARIO, CA',\n",
    "    'OTM': 'OTAY MESA, CA          ',\n",
    "    'BLT': 'PACIFIC, HWY. STATION, CA ',\n",
    "    'PSP': 'PALM SPRINGS, CA',\n",
    "    'SAC': 'SACRAMENTO, CA        ',\n",
    "    'SLS': 'SALINAS, CA (BPS)',\n",
    "    'SDP': 'SAN DIEGO, CA',\n",
    "    'SFR': 'SAN FRANCISCO, CA     ',\n",
    "    'SNJ': 'SAN JOSE, CA          ',\n",
    "    'SLO': 'SAN LUIS OBISPO, CA   ',\n",
    "    'SLI': 'SAN LUIS OBISPO, CA (BPS)',\n",
    "    'SPC': 'SAN PEDRO, CA         ',\n",
    "    'SYS': 'SAN YSIDRO, CA        ',\n",
    "    'SAA': 'SANTA ANA, CA         ',\n",
    "    'STO': 'STOCKTON, CA (BPS)',\n",
    "    'TEC': 'TECATE, CA            ',\n",
    "    'TRV': 'TRAVIS-AFB, CA        ',\n",
    "    'APA': 'ARAPAHOE COUNTY, CO',\n",
    "    'ASE': 'ASPEN, CO #ARPT',\n",
    "    'COS': 'COLORADO SPRINGS, CO',\n",
    "    'DEN': 'DENVER, CO            ',\n",
    "    'DRO': 'LA PLATA - DURANGO, CO',\n",
    "    'BDL': 'BRADLEY INTERNATIONAL, CT',\n",
    "    'BGC': 'BRIDGEPORT, CT        ',\n",
    "    'GRT': 'GROTON, CT            ',\n",
    "    'HAR': 'HARTFORD, CT          ',\n",
    "    'NWH': 'NEW HAVEN, CT         ',\n",
    "    'NWL': 'NEW LONDON, CT        ',\n",
    "    'TST': 'NEWINGTON DATA CENTER TEST, CT',\n",
    "    'WAS': 'WASHINGTON DC         ',\n",
    "    'DOV': 'DOVER AFB, DE',\n",
    "    'DVD': 'DOVER-AFB, DE         ',\n",
    "    'WLL': 'WILMINGTON, DE        ',\n",
    "    'BOC': 'BOCAGRANDE, FL        ',\n",
    "    'SRQ': 'BRADENTON - SARASOTA, FL',\n",
    "    'CAN': 'CAPE CANAVERAL, FL    ',\n",
    "    'DAB': 'DAYTONA BEACH INTERNATIONAL, FL',\n",
    "    'FRN': 'FERNANDINA, FL        ',\n",
    "    'FTL': 'FORT LAUDERDALE, FL   ',\n",
    "    'FMY': 'FORT MYERS, FL        ',\n",
    "    'FPF': 'FORT PIERCE, FL       ',\n",
    "    'HUR': 'HURLBURT FIELD, FL',\n",
    "    'GNV': 'J R ALISON MUNI - GAINESVILLE, FL',\n",
    "    'JAC': 'JACKSONVILLE, FL      ',\n",
    "    'KEY': 'KEY WEST, FL          ',\n",
    "    'LEE': 'LEESBURG MUNICIPAL AIRPORT, FL',\n",
    "    'MLB': 'MELBOURNE, FL',\n",
    "    'MIA': 'MIAMI, FL             ',\n",
    "    'APF': 'NAPLES, FL #ARPT',\n",
    "    'OPF': 'OPA LOCKA, FL',\n",
    "    'ORL': 'ORLANDO, FL           ',\n",
    "    'PAN': 'PANAMA CITY, FL       ',\n",
    "    'PEN': 'PENSACOLA, FL         ',\n",
    "    'PCF': 'PORT CANAVERAL, FL    ',\n",
    "    'PEV': 'PORT EVERGLADES, FL   ',\n",
    "    'PSJ': 'PORT ST JOE, FL       ',\n",
    "    'SFB': 'SANFORD, FL           ',\n",
    "    'SGJ': 'ST AUGUSTINE ARPT, FL',\n",
    "    'SAU': 'ST AUGUSTINE, FL      ',\n",
    "    'FPR': 'ST LUCIE COUNTY, FL',\n",
    "    'SPE': 'ST PETERSBURG, FL     ',\n",
    "    'TAM': 'TAMPA, FL             ',\n",
    "    'WPB': 'WEST PALM BEACH, FL   ',\n",
    "    'ATL': 'ATLANTA, GA           ',\n",
    "    'BRU': 'BRUNSWICK, GA         ',\n",
    "    'AGS': 'BUSH FIELD - AUGUSTA, GA',\n",
    "    'SAV': 'SAVANNAH, GA          ',\n",
    "    'AGA': 'AGANA, GU             ',\n",
    "    'HHW': 'HONOLULU, HI          ',\n",
    "    'OGG': 'KAHULUI - MAUI, HI',\n",
    "    'KOA': 'KEAHOLE-KONA, HI      ',\n",
    "    'LIH': 'LIHUE, HI             ',\n",
    "    'CID': 'CEDAR RAPIDS/IOWA CITY, IA',\n",
    "    'DSM': 'DES MOINES, IA',\n",
    "    'BOI': 'AIR TERM. (GOWEN FLD) BOISE, ID',\n",
    "    'EPI': 'EASTPORT, ID          ',\n",
    "    'IDA': 'FANNING FIELD - IDAHO FALLS, ID',\n",
    "    'PTL': 'PORTHILL, ID          ',\n",
    "    'SPI': 'CAPITAL - SPRINGFIELD, IL',\n",
    "    'CHI': 'CHICAGO, IL           ',\n",
    "    'DPA': 'DUPAGE COUNTY, IL',\n",
    "    'PIA': 'GREATER PEORIA, IL',\n",
    "    'RFD': 'GREATER ROCKFORD, IL',\n",
    "    'UGN': 'MEMORIAL - WAUKEGAN, IL',\n",
    "    'GAR': 'GARY, IN              ',\n",
    "    'HMM': 'HAMMOND, IN           ',\n",
    "    'INP': 'INDIANAPOLIS, IN      ',\n",
    "    'MRL': 'MERRILLVILLE, IN      ',\n",
    "    'SBN': 'SOUTH BEND, IN',\n",
    "    'ICT': 'MID-CONTINENT - WITCHITA, KS',\n",
    "    'LEX': 'BLUE GRASS - LEXINGTON, KY',\n",
    "    'LOU': 'LOUISVILLE, KY        ',\n",
    "    'BTN': 'BATON ROUGE, LA       ',\n",
    "    'LKC': 'LAKE CHARLES, LA      ',\n",
    "    'LAK': 'LAKE CHARLES, LA (BPS)',\n",
    "    'MLU': 'MONROE, LA',\n",
    "    'MGC': 'MORGAN CITY, LA       ',\n",
    "    'NOL': 'NEW ORLEANS, LA       ',\n",
    "    'BOS': 'BOSTON, MA            ',\n",
    "    'GLO': 'GLOUCESTER, MA        ',\n",
    "    'BED': 'HANSCOM FIELD - BEDFORD, MA',\n",
    "    'LYN': 'LYNDEN, WA            ',\n",
    "    'ADW': 'ANDREWS AFB, MD',\n",
    "    'BAL': 'BALTIMORE, MD         ',\n",
    "    'MKG': 'MUSKEGON, MD',\n",
    "    'PAX': 'PATUXENT RIVER, MD    ',\n",
    "    'BGM': 'BANGOR, ME            ',\n",
    "    'BOO': 'BOOTHBAY HARBOR, ME   ',\n",
    "    'BWM': 'BRIDGEWATER, ME       ',\n",
    "    'BCK': 'BUCKPORT, ME          ',\n",
    "    'CLS': 'CALAIS, ME   ',\n",
    "    'CRB': 'CARIBOU, ME           ',\n",
    "    'COB': 'COBURN GORE, ME       ',\n",
    "    'EST': 'EASTCOURT, ME         ',\n",
    "    'EPT': 'EASTPORT MUNICIPAL, ME',\n",
    "    'EPM': 'EASTPORT, ME          ',\n",
    "    'FOR': 'FOREST CITY, ME       ',\n",
    "    'FTF': 'FORT FAIRFIELD, ME    ',\n",
    "    'FTK': 'FORT KENT, ME         ',\n",
    "    'HML': 'HAMIIN, ME            ',\n",
    "    'HTM': 'HOULTON, ME           ',\n",
    "    'JKM': 'JACKMAN, ME           ',\n",
    "    'KAL': 'KALISPEL, MT          ',\n",
    "    'LIM': 'LIMESTONE, ME         ',\n",
    "    'LUB': 'LUBEC, ME             ',\n",
    "    'MAD': 'MADAWASKA, ME         ',\n",
    "    'POM': 'PORTLAND, ME          ',\n",
    "    'RGM': 'RANGELEY, ME (BPS)',\n",
    "    'SBR': 'SOUTH BREWER, ME      ',\n",
    "    'SRL': 'ST AURELIE, ME        ',\n",
    "    'SPA': 'ST PAMPILE, ME        ',\n",
    "    'VNB': 'VAN BUREN, ME         ',\n",
    "    'VCB': 'VANCEBORO, ME         ',\n",
    "    'AGN': 'ALGONAC, MI           ',\n",
    "    'ALP': 'ALPENA, MI            ',\n",
    "    'BCY': 'BAY CITY, MI          ',\n",
    "    'DET': 'DETROIT, MI           ',\n",
    "    'GRP': 'GRAND RAPIDS, MI',\n",
    "    'GRO': 'GROSSE ISLE, MI       ',\n",
    "    'ISL': 'ISLE ROYALE, MI       ',\n",
    "    'MRC': 'MARINE CITY, MI       ',\n",
    "    'MRY': 'MARYSVILLE, MI        ',\n",
    "    'PTK': 'OAKLAND COUNTY - PONTIAC, MI',\n",
    "    'PHU': 'PORT HURON, MI        ',\n",
    "    'RBT': 'ROBERTS LANDING, MI   ',\n",
    "    'SAG': 'SAGINAW, MI           ',\n",
    "    'SSM': 'SAULT STE. MARIE, MI  ',\n",
    "    'SCL': 'ST CLAIR, MI          ',\n",
    "    'YIP': 'WILLOW RUN - YPSILANTI, MI',\n",
    "    'BAU': 'BAUDETTE, MN          ',\n",
    "    'CAR': 'CARIBOU MUNICIPAL AIRPORT, MN',\n",
    "    'GTF': 'Collapsed into INT, MN',\n",
    "    'INL': 'Collapsed into INT, MN',\n",
    "    'CRA': 'CRANE LAKE, MN        ',\n",
    "    'MIC': 'CRYSTAL MUNICIPAL AIRPORT, MN',\n",
    "    'DUL': 'DULUTH, MN            ',\n",
    "    'ELY': 'ELY, MN               ',\n",
    "    'GPM': 'GRAND PORTAGE, MN     ',\n",
    "    'SVC': 'GRANT COUNTY - SILVER CITY, MN',\n",
    "    'INT': 'INT''L FALLS, MN      ',\n",
    "    'LAN': 'LANCASTER, MN         ',\n",
    "    'MSP': 'MINN./ST PAUL, MN     ',\n",
    "    'LIN': 'NORTHERN SVC CENTER, MN   ',\n",
    "    'NOY': 'NOYES, MN             ',\n",
    "    'PIN': 'PINE CREEK, MN        ',\n",
    "    '48Y': 'PINECREEK BORDER ARPT, MN',\n",
    "    'RAN': 'RAINER, MN            ',\n",
    "    'RST': 'ROCHESTER, MN',\n",
    "    'ROS': 'ROSEAU, MN            ',\n",
    "    'SPM': 'ST PAUL, MN           ',\n",
    "    'WSB': 'WARROAD INTL, SPB, MN',\n",
    "    'WAR': 'WARROAD, MN           ',\n",
    "    'KAN': 'KANSAS CITY, MO       ',\n",
    "    'SGF': 'SPRINGFIELD-BRANSON, MO',\n",
    "    'STL': 'ST LOUIS, MO          ',\n",
    "    'WHI': 'WHITETAIL, MT         ',\n",
    "    'WHM': 'WILD HORSE, MT        ',\n",
    "    'GPT': 'BILOXI REGIONAL, MS',\n",
    "    'GTR': 'GOLDEN TRIANGLE LOWNDES CNTY, MS',\n",
    "    'GUL': 'GULFPORT, MS          ',\n",
    "    'PAS': 'PASCAGOULA, MS        ',\n",
    "    'JAN': 'THOMPSON FIELD - JACKSON, MS',\n",
    "    'BIL': 'BILLINGS, MT          ',\n",
    "    'BTM': 'BUTTE, MT             ',\n",
    "    'CHF': 'CHIEF MT, MT          ',\n",
    "    'CTB': 'CUT BANK MUNICIPAL, MT',\n",
    "    'CUT': 'CUT BANK, MT          ',\n",
    "    'DLB': 'DEL BONITA, MT        ',\n",
    "    'EUR': 'EUREKA, MT (BPS)',\n",
    "    'BZN': 'GALLATIN FIELD - BOZEMAN, MT',\n",
    "    'FCA': 'GLACIER NATIONAL PARK, MT',\n",
    "    'GGW': 'GLASGOW, MT           ',\n",
    "    'GRE': 'GREAT FALLS, MT       ',\n",
    "    'HVR': 'HAVRE, MT             ',\n",
    "    'HEL': 'HELENA, MT            ',\n",
    "    'LWT': 'LEWISTON, MT          ',\n",
    "    'MGM': 'MORGAN, MT            ',\n",
    "    'OPH': 'OPHEIM, MT            ',\n",
    "    'PIE': 'PIEGAN, MT            ',\n",
    "    'RAY': 'RAYMOND, MT           ',\n",
    "    'ROO': 'ROOSVILLE, MT         ',\n",
    "    'SCO': 'SCOBEY, MT            ',\n",
    "    'SWE': 'SWEETGTASS, MT        ',\n",
    "    'TRL': 'TRIAL CREEK, MT       ',\n",
    "    'TUR': 'TURNER, MT            ',\n",
    "    'WCM': 'WILLOW CREEK, MT      ',\n",
    "    'CLT': 'CHARLOTTE, NC         ',\n",
    "    'FAY': 'FAYETTEVILLE, NC',\n",
    "    'MRH': 'MOREHEAD CITY, NC     ',\n",
    "    'FOP': 'MORRIS FIELDS AAF, NC',\n",
    "    'GSO': 'PIEDMONT TRIAD INTL AIRPORT, NC',\n",
    "    'RDU': 'RALEIGH/DURHAM, NC    ',\n",
    "    'SSC': 'SHAW AFB - SUMTER, NC',\n",
    "    'WIL': 'WILMINGTON, NC        ',\n",
    "    'AMB': 'AMBROSE, ND           ',\n",
    "    'ANT': 'ANTLER, ND            ',\n",
    "    'CRY': 'CARBURY, ND           ',\n",
    "    'DNS': 'DUNSEITH, ND          ',\n",
    "    'FAR': 'FARGO, ND             ',\n",
    "    'FRT': 'FORTUNA, ND           ',\n",
    "    'GRF': 'GRAND FORKS, ND       ',\n",
    "    'HNN': 'HANNAH, ND            ',\n",
    "    'HNS': 'HANSBORO, ND          ',\n",
    "    'MAI': 'MAIDA, ND             ',\n",
    "    'MND': 'MINOT, ND             ',\n",
    "    'NEC': 'NECHE, ND             ',\n",
    "    'NOO': 'NOONAN, ND            ',\n",
    "    'NRG': 'NORTHGATE, ND         ',\n",
    "    'PEM': 'PEMBINA, ND           ',\n",
    "    'SAR': 'SARLES, ND            ',\n",
    "    'SHR': 'SHERWOOD, ND          ',\n",
    "    'SJO': 'ST JOHN, ND           ',\n",
    "    'WAL': 'WALHALLA, ND          ',\n",
    "    'WHO': 'WESTHOPE, ND          ',\n",
    "    'WND': 'WILLISTON, ND         ',\n",
    "    'OMA': 'OMAHA, NE             ',\n",
    "    'LEB': 'LEBANON, NH           ',\n",
    "    'MHT': 'MANCHESTER, NH',\n",
    "    'PNH': 'PITTSBURG, NH         ',\n",
    "    'PSM': 'PORTSMOUTH, NH        ',\n",
    "    'BYO': 'BAYONNE, NJ           ',\n",
    "    'CNJ': 'CAMDEN, NJ            ',\n",
    "    'HOB': 'HOBOKEN, NJ           ',\n",
    "    'JER': 'JERSEY CITY, NJ       ',\n",
    "    'WRI': 'MC GUIRE AFB - WRIGHTSOWN, NJ',\n",
    "    'MMU': 'MORRISTOWN, NJ',\n",
    "    'NEW': 'NEWARK/TETERBORO, NJ  ',\n",
    "    'PER': 'PERTH AMBOY, NJ       ',\n",
    "    'ACY': 'POMONA FIELD - ATLANTIC CITY, NJ',\n",
    "    'ALA': 'ALAMAGORDO, NM (BPS)',\n",
    "    'ABQ': 'ALBUQUERQUE, NM       ',\n",
    "    'ANP': 'ANTELOPE WELLS, NM    ',\n",
    "    'CRL': 'CARLSBAD, NM          ',\n",
    "    'COL': 'COLUMBUS, NM          ',\n",
    "    'CDD': 'CRANE LAKE - ST. LOUIS CNTY, NM',\n",
    "    'DNM': 'DEMING, NM (BPS)',\n",
    "    'LAS': 'LAS CRUCES, NM        ',\n",
    "    'LOB': 'LORDSBURG, NM (BPS)',\n",
    "    'RUI': 'RUIDOSO, NM',\n",
    "    'STR': 'SANTA TERESA, NM      ',\n",
    "    'RNO': 'CANNON INTL - RENO/TAHOE, NV',\n",
    "    'FLX': 'FALLON MUNICIPAL AIRPORT, NV',\n",
    "    'LVG': 'LAS VEGAS, NV         ',\n",
    "    'REN': 'RENO, NV              ',\n",
    "    'ALB': 'ALBANY, NY            ',\n",
    "    'AXB': 'ALEXANDRIA BAY, NY    ',\n",
    "    'BUF': 'BUFFALO, NY           ',\n",
    "    'CNH': 'CANNON CORNERS, NY',\n",
    "    'CAP': 'CAPE VINCENT, NY      ',\n",
    "    'CHM': 'CHAMPLAIN, NY         ',\n",
    "    'CHT': 'CHATEAUGAY, NY        ',\n",
    "    'CLA': 'CLAYTON, NY           ',\n",
    "    'FTC': 'FORT COVINGTON, NY    ',\n",
    "    'LAG': 'LA GUARDIA, NY        ',\n",
    "    'LEW': 'LEWISTON, NY          ',\n",
    "    'MAS': 'MASSENA, NY           ',\n",
    "    'MAG': 'MCGUIRE AFB, NY       ',\n",
    "    'MOO': 'MOORES, NY            ',\n",
    "    'MRR': 'MORRISTOWN, NY        ',\n",
    "    'NYC': 'NEW YORK, NY          ',\n",
    "    'NIA': 'NIAGARA FALLS, NY     ',\n",
    "    'OGD': 'OGDENSBURG, NY        ',\n",
    "    'OSW': 'OSWEGO, NY            ',\n",
    "    'ELM': 'REGIONAL ARPT - HORSEHEAD, NY',\n",
    "    'ROC': 'ROCHESTER, NY         ',\n",
    "    'ROU': 'ROUSES POINT, NY      ',\n",
    "    'SWF': 'STEWART - ORANGE CNTY, NY',\n",
    "    'SYR': 'SYRACUSE, NY          ',\n",
    "    'THO': 'THOUSAND ISLAND BRIDGE, NY',\n",
    "    'TRO': 'TROUT RIVER, NY       ',\n",
    "    'WAT': 'WATERTOWN, NY         ',\n",
    "    'HPN': 'WESTCHESTER - WHITE PLAINS, NY',\n",
    "    'WRB': 'WHIRLPOOL BRIDGE, NY',\n",
    "    'YOU': 'YOUNGSTOWN, NY        ',\n",
    "    'AKR': 'AKRON, OH             ',\n",
    "    'ATB': 'ASHTABULA, OH         ',\n",
    "    'CIN': 'CINCINNATI, OH        ',\n",
    "    'CLE': 'CLEVELAND, OH         ',\n",
    "    'CLM': 'COLUMBUS, OH          ',\n",
    "    'LOR': 'LORAIN, OH            ',\n",
    "    'MBO': 'MARBLE HEADS, OH      ',\n",
    "    'SDY': 'SANDUSKY, OH          ',\n",
    "    'TOL': 'TOLEDO, OH            ',\n",
    "    'OKC': 'OKLAHOMA CITY, OK     ',\n",
    "    'TUL': 'TULSA, OK',\n",
    "    'AST': 'ASTORIA, OR           ',\n",
    "    'COO': 'COOS BAY, OR          ',\n",
    "    'HIO': 'HILLSBORO, OR',\n",
    "    'MED': 'MEDFORD, OR           ',\n",
    "    'NPT': 'NEWPORT, OR           ',\n",
    "    'POO': 'PORTLAND, OR          ',\n",
    "    'PUT': 'PUT-IN-BAY, OH        ',\n",
    "    'RDM': 'ROBERTS FIELDS - REDMOND, OR',\n",
    "    'ERI': 'ERIE, PA              ',\n",
    "    'MDT': 'HARRISBURG, PA',\n",
    "    'HSB': 'HARRISONBURG, PA      ',\n",
    "    'PHI': 'PHILADELPHIA, PA      ',\n",
    "    'PIT': 'PITTSBURG, PA         ',\n",
    "    'AGU': 'AGUADILLA, PR         ',\n",
    "    'BQN': 'BORINQUEN - AGUADILLO, PR',\n",
    "    'JCP': 'CULEBRA - BENJAMIN RIVERA, PR',\n",
    "    'ENS': 'ENSENADA, PR          ',\n",
    "    'FAJ': 'FAJARDO, PR           ',\n",
    "    'HUM': 'HUMACAO, PR           ',\n",
    "    'JOB': 'JOBOS, PR             ',\n",
    "    'MAY': 'MAYAGUEZ, PR          ',\n",
    "    'PON': 'PONCE, PR             ',\n",
    "    'PSE': 'PONCE-MERCEDITA, PR',\n",
    "    'SAJ': 'SAN JUAN, PR          ',\n",
    "    'VQS': 'VIEQUES-ARPT, PR',\n",
    "    'PRO': 'PROVIDENCE, RI        ',\n",
    "    'PVD': 'THEODORE FRANCIS - WARWICK, RI',\n",
    "    'CHL': 'CHARLESTON, SC        ',\n",
    "    'CAE': 'COLUMBIA, SC #ARPT',\n",
    "    'GEO': 'GEORGETOWN, SC        ',\n",
    "    'GSP': 'GREENVILLE, SC',\n",
    "    'GRR': 'GREER, SC',\n",
    "    'MYR': 'MYRTLE BEACH, SC',\n",
    "    'SPF': 'BLACK HILLS, SPEARFISH, SD',\n",
    "    'HON': 'HOWES REGIONAL ARPT - HURON, SD',\n",
    "    'SAI': 'SAIPAN, SPN           ',\n",
    "    'TYS': 'MC GHEE TYSON - ALCOA, TN',\n",
    "    'MEM': 'MEMPHIS, TN           ',\n",
    "    'NSV': 'NASHVILLE, TN         ',\n",
    "    'TRI': 'TRI CITY ARPT, TN',\n",
    "    'ADS': 'ADDISON AIRPORT- ADDISON, TX',\n",
    "    'ADT': 'AMISTAD DAM, TX       ',\n",
    "    'ANZ': 'ANZALDUAS, TX',\n",
    "    'AUS': 'AUSTIN, TX            ',\n",
    "    'BEA': 'BEAUMONT, TX          ',\n",
    "    'BBP': 'BIG BEND PARK, TX (BPS)',\n",
    "    'SCC': 'BP SPEC COORD. CTR, TX',\n",
    "    'BTC': 'BP TACTICAL UNIT, TX  ' ,\n",
    "    'BOA': 'BRIDGE OF AMERICAS, TX',\n",
    "    'BRO': 'BROWNSVILLE, TX       ',\n",
    "    'CRP': 'CORPUS CHRISTI, TX    ',\n",
    "    'DAL': 'DALLAS, TX            ',\n",
    "    'DLR': 'DEL RIO, TX           ',\n",
    "    'DNA': 'DONNA, TX',\n",
    "    'EGP': 'EAGLE PASS, TX        ',\n",
    "    'ELP': 'EL PASO, TX           ',\n",
    "    'FAB': 'FABENS, TX            ',\n",
    "    'FAL': 'FALCON HEIGHTS, TX    ',\n",
    "    'FTH': 'FORT HANCOCK, TX      ',\n",
    "    'AFW': 'FORT WORTH ALLIANCE, TX',\n",
    "    'FPT': 'FREEPORT, TX          ',\n",
    "    'GAL': 'GALVESTON, TX         ',\n",
    "    'HLG': 'HARLINGEN, TX         ',\n",
    "    'HID': 'HIDALGO, TX           ',\n",
    "    'HOU': 'HOUSTON, TX           ',\n",
    "    'SGR': 'HULL FIELD, SUGAR LAND ARPT, TX',\n",
    "    'LLB': 'JUAREZ-LINCOLN BRIDGE, TX',\n",
    "    'LCB': 'LAREDO COLUMBIA BRIDGE, TX',\n",
    "    'LRN': 'LAREDO NORTH, TX      ',\n",
    "    'LAR': 'LAREDO, TX            ',\n",
    "    'LSE': 'LOS EBANOS, TX        ',\n",
    "    'IND': 'LOS INDIOS, TX',\n",
    "    'LOI': 'LOS INDIOS, TX        ',\n",
    "    'MRS': 'MARFA, TX (BPS)',\n",
    "    'MCA': 'MCALLEN, TX           ',\n",
    "    'MAF': 'ODESSA REGIONAL, TX',\n",
    "    'PDN': 'PASO DEL NORTE,TX     ',\n",
    "    'PBB': 'PEACE BRIDGE, NY      ',\n",
    "    'PHR': 'PHARR, TX             ',\n",
    "    'PAR': 'PORT ARTHUR, TX       ',\n",
    "    'ISB': 'PORT ISABEL, TX       ',\n",
    "    'POE': 'PORT OF EL PASO, TX   ',\n",
    "    'PRE': 'PRESIDIO, TX          ',\n",
    "    'PGR': 'PROGRESO, TX          ',\n",
    "    'RIO': 'RIO GRANDE CITY, TX   ',\n",
    "    'ROM': 'ROMA, TX              ',\n",
    "    'SNA': 'SAN ANTONIO, TX       ',\n",
    "    'SNN': 'SANDERSON, TX         ',\n",
    "    'VIB': 'VETERAN INTL BRIDGE, TX',\n",
    "    'YSL': 'YSLETA, TX            ',\n",
    "    'CHA': 'CHARLOTTE AMALIE, VI  ',\n",
    "    'CHR': 'CHRISTIANSTED, VI     ',\n",
    "    'CRU': 'CRUZ BAY, ST JOHN, VI ',\n",
    "    'FRK': 'FREDERIKSTED, VI      ',\n",
    "    'STT': 'ST THOMAS, VI         ',\n",
    "    'LGU': 'CACHE AIRPORT - LOGAN, UT',\n",
    "    'SLC': 'SALT LAKE CITY, UT    ',\n",
    "    'CHO': 'ALBEMARLE CHARLOTTESVILLE, VA',\n",
    "    'DAA': 'DAVISON AAF - FAIRFAX CNTY, VA',\n",
    "    'HOP': 'HOPEWELL, VA          ',\n",
    "    'HEF': 'MANASSAS, VA #ARPT',\n",
    "    'NWN': 'NEWPORT, VA           ',\n",
    "    'NOR': 'NORFOLK, VA           ',\n",
    "    'RCM': 'RICHMOND, VA          ',\n",
    "    'ABS': 'ALBURG SPRINGS, VT    ',\n",
    "    'ABG': 'ALBURG, VT            ',\n",
    "    'BEB': 'BEEBE PLAIN, VT       ',\n",
    "    'BEE': 'BEECHER FALLS, VT     ',\n",
    "    'BRG': 'BURLINGTON, VT        ',\n",
    "    'CNA': 'CANAAN, VT            ',\n",
    "    'DER': 'DERBY LINE, VT (I-91) ',\n",
    "    'DLV': 'DERBY LINE, VT (RT. 5)',\n",
    "    'ERC': 'EAST RICHFORD, VT     ',\n",
    "    'HIG': 'HIGHGATE SPRINGS, VT  ',\n",
    "    'MOR': 'MORSES LINE, VT       ',\n",
    "    'NPV': 'NEWPORT, VT           ',\n",
    "    'NRT': 'NORTH TROY, VT        ',\n",
    "    'NRN': 'NORTON, VT            ',\n",
    "    'PIV': 'PINNACLE ROAD, VT     ',\n",
    "    'RIF': 'RICHFORT, VT          ',\n",
    "    'STA': 'ST ALBANS, VT         ',\n",
    "    'SWB': 'SWANTON, VT (BP - SECTOR HQ)',\n",
    "    'WBE': 'WEST BERKSHIRE, VT    ',\n",
    "    'ABE': 'ABERDEEN, WA          ',\n",
    "    'ANA': 'ANACORTES, WA         ',\n",
    "    'BEL': 'BELLINGHAM, WA        ',\n",
    "    'BLI': 'BELLINGHAM, WASHINGTON #INTL',\n",
    "    'BLA': 'BLAINE, WA            ',\n",
    "    'BWA': 'BOUNDARY, WA          ',\n",
    "    'CUR': 'CURLEW, WA (BPS)',\n",
    "    'DVL': 'DANVILLE, WA          ',\n",
    "    'EVE': 'EVERETT, WA           ',\n",
    "    'FER': 'FERRY, WA             ',\n",
    "    'FRI': 'FRIDAY HARBOR, WA     ',\n",
    "    'FWA': 'FRONTIER, WA          ',\n",
    "    'KLM': 'KALAMA, WA            ',\n",
    "    'LAU': 'LAURIER, WA           ',\n",
    "    'LON': 'LONGVIEW, WA          ',\n",
    "    'MET': 'METALINE FALLS, WA    ',\n",
    "    'MWH': 'MOSES LAKE GRANT COUNTY ARPT, WA',\n",
    "    'NEA': 'NEAH BAY, WA          ',\n",
    "    'NIG': 'NIGHTHAWK, WA         ',\n",
    "    'OLY': 'OLYMPIA, WA           ',\n",
    "    'ORO': 'OROVILLE, WA          ',\n",
    "    'PWB': 'PASCO, WA             ',\n",
    "    'PIR': 'POINT ROBERTS, WA     ',\n",
    "    'PNG': 'PORT ANGELES, WA      ',\n",
    "    'PTO': 'PORT TOWNSEND, WA     ',\n",
    "    'SEA': 'SEATTLE, WA           ',\n",
    "    'SPO': 'SPOKANE, WA           ',\n",
    "    'SUM': 'SUMAS, WA             ',\n",
    "    'TAC': 'TACOMA, WA            ',\n",
    "    'PSC': 'TRI-CITIES - PASCO, WA',\n",
    "    'VAN': 'VANCOUVER, WA         ',\n",
    "    'AGM': 'ALGOMA, WI            ',\n",
    "    'BAY': 'BAYFIELD, WI          ',\n",
    "    'GRB': 'GREEN BAY, WI         ',\n",
    "    'MNW': 'MANITOWOC, WI         ',\n",
    "    'MIL': 'MILWAUKEE, WI         ',\n",
    "    'MSN': 'TRUAX FIELD - DANE COUNTY, WI',\n",
    "    'CHS': 'CHARLESTON, WV        ',\n",
    "    'CLK': 'CLARKSBURG, WV        ',\n",
    "    'BLF': 'MERCER COUNTY, WV',\n",
    "    'CSP': 'CASPER, WY            ',\n",
    "    'CNC': 'CANNON CORNERS, NY',\n",
    "    'AG0': 'MAGNOLIA, AR',\n",
    "    'BHM': 'BAR HARBOR, ME',\n",
    "    'BHX': 'BIRMINGHAM, AL',\n",
    "    'CAK': 'AKRON, OH',\n",
    "    'FOK': 'SUFFOLK COUNTY, NY',\n",
    "    'LND': 'LANDER, WY',\n",
    "    'MAR': 'MARFA, TX',\n",
    "    'MLI': 'MOLINE, IL',\n",
    "    'RIV': 'RIVERSIDE, CA',\n",
    "    'RME': 'ROME, NY',\n",
    "    'VNY': 'VAN NUYS, CA',\n",
    "    'YUM': 'YUMA, AZ',\n",
    "}"
   ]
  },
  {
   "cell_type": "code",
   "execution_count": 23,
   "metadata": {
    "editable": true
   },
   "outputs": [],
   "source": [
    "import re\n",
    "pattern_1 = re.compile(r\"\\(.+\\)\")\n",
    "pattern_2 = re.compile(r\"#[A-Z]+\")\n",
    "port_codes = {item[0]: pattern_2.sub(\"\", pattern_1.sub(\"\", item[1])).strip().replace(\"WASHINGTON\", \"WA\") for item in port_codes.items()}"
   ]
  },
  {
   "cell_type": "code",
   "execution_count": 24,
   "metadata": {
    "editable": true
   },
   "outputs": [
    {
     "data": {
      "text/plain": [
       "[('MAP', 'MARIPOSA AZ'), ('WAS', 'WA DC')]"
      ]
     },
     "execution_count": 24,
     "metadata": {},
     "output_type": "execute_result"
    }
   ],
   "source": [
    "[(v[0], v[1]) for v in port_codes.items() if ',' not in v[1]]"
   ]
  },
  {
   "cell_type": "code",
   "execution_count": 25,
   "metadata": {
    "editable": true
   },
   "outputs": [],
   "source": [
    "port_codes = {item[0]: item[1].replace('MARIPOSA AZ', 'MARIPOSA, AZ').replace('WA DC','WASHINGTON DC, WASHINGTON DC') for item in port_codes.items()}"
   ]
  },
  {
   "cell_type": "code",
   "execution_count": 26,
   "metadata": {
    "editable": true
   },
   "outputs": [
    {
     "data": {
      "text/html": [
       "<div>\n",
       "<style scoped>\n",
       "    .dataframe tbody tr th:only-of-type {\n",
       "        vertical-align: middle;\n",
       "    }\n",
       "\n",
       "    .dataframe tbody tr th {\n",
       "        vertical-align: top;\n",
       "    }\n",
       "\n",
       "    .dataframe thead th {\n",
       "        text-align: right;\n",
       "    }\n",
       "</style>\n",
       "<table border=\"1\" class=\"dataframe\">\n",
       "  <thead>\n",
       "    <tr style=\"text-align: right;\">\n",
       "      <th></th>\n",
       "      <th>port_code</th>\n",
       "      <th>city</th>\n",
       "      <th>state</th>\n",
       "    </tr>\n",
       "  </thead>\n",
       "  <tbody>\n",
       "    <tr>\n",
       "      <th>0</th>\n",
       "      <td>ALC</td>\n",
       "      <td>ALCAN</td>\n",
       "      <td>AK</td>\n",
       "    </tr>\n",
       "    <tr>\n",
       "      <th>1</th>\n",
       "      <td>ANC</td>\n",
       "      <td>ANCHORAGE</td>\n",
       "      <td>AK</td>\n",
       "    </tr>\n",
       "    <tr>\n",
       "      <th>2</th>\n",
       "      <td>BAR</td>\n",
       "      <td>BAKER AAF - BAKER ISLAND</td>\n",
       "      <td>AK</td>\n",
       "    </tr>\n",
       "    <tr>\n",
       "      <th>3</th>\n",
       "      <td>DAC</td>\n",
       "      <td>DALTONS CACHE</td>\n",
       "      <td>AK</td>\n",
       "    </tr>\n",
       "    <tr>\n",
       "      <th>4</th>\n",
       "      <td>PIZ</td>\n",
       "      <td>DEW STATION PT LAY DEW</td>\n",
       "      <td>AK</td>\n",
       "    </tr>\n",
       "  </tbody>\n",
       "</table>\n",
       "</div>"
      ],
      "text/plain": [
       "  port_code                      city state\n",
       "0       ALC                     ALCAN    AK\n",
       "1       ANC                 ANCHORAGE    AK\n",
       "2       BAR  BAKER AAF - BAKER ISLAND    AK\n",
       "3       DAC             DALTONS CACHE    AK\n",
       "4       PIZ    DEW STATION PT LAY DEW    AK"
      ]
     },
     "execution_count": 26,
     "metadata": {},
     "output_type": "execute_result"
    }
   ],
   "source": [
    "port_codes_df = pd.DataFrame.from_dict({i: (item[0], item[1].split(',')[0], item[1].split(',')[-1])for i, item in enumerate(port_codes.items())}, orient='index', columns=[\"port_code\", \"city\", \"state\"])\n",
    "port_codes_df.head()"
   ]
  },
  {
   "cell_type": "code",
   "execution_count": 27,
   "metadata": {
    "editable": true
   },
   "outputs": [],
   "source": [
    "port_codes_df[\"city_split\"] = port_codes_df['city'].str.split('-')"
   ]
  },
  {
   "cell_type": "code",
   "execution_count": 28,
   "metadata": {
    "editable": true
   },
   "outputs": [
    {
     "data": {
      "text/html": [
       "<div>\n",
       "<style scoped>\n",
       "    .dataframe tbody tr th:only-of-type {\n",
       "        vertical-align: middle;\n",
       "    }\n",
       "\n",
       "    .dataframe tbody tr th {\n",
       "        vertical-align: top;\n",
       "    }\n",
       "\n",
       "    .dataframe thead th {\n",
       "        text-align: right;\n",
       "    }\n",
       "</style>\n",
       "<table border=\"1\" class=\"dataframe\">\n",
       "  <thead>\n",
       "    <tr style=\"text-align: right;\">\n",
       "      <th></th>\n",
       "      <th>port_code</th>\n",
       "      <th>city</th>\n",
       "      <th>state</th>\n",
       "      <th>city_split</th>\n",
       "    </tr>\n",
       "  </thead>\n",
       "  <tbody>\n",
       "    <tr>\n",
       "      <th>0</th>\n",
       "      <td>ALC</td>\n",
       "      <td>ALCAN</td>\n",
       "      <td>AK</td>\n",
       "      <td>[ALCAN]</td>\n",
       "    </tr>\n",
       "    <tr>\n",
       "      <th>1</th>\n",
       "      <td>ANC</td>\n",
       "      <td>ANCHORAGE</td>\n",
       "      <td>AK</td>\n",
       "      <td>[ANCHORAGE]</td>\n",
       "    </tr>\n",
       "    <tr>\n",
       "      <th>2</th>\n",
       "      <td>BAR</td>\n",
       "      <td>BAKER AAF - BAKER ISLAND</td>\n",
       "      <td>AK</td>\n",
       "      <td>[BAKER AAF ,  BAKER ISLAND]</td>\n",
       "    </tr>\n",
       "    <tr>\n",
       "      <th>3</th>\n",
       "      <td>DAC</td>\n",
       "      <td>DALTONS CACHE</td>\n",
       "      <td>AK</td>\n",
       "      <td>[DALTONS CACHE]</td>\n",
       "    </tr>\n",
       "    <tr>\n",
       "      <th>4</th>\n",
       "      <td>PIZ</td>\n",
       "      <td>DEW STATION PT LAY DEW</td>\n",
       "      <td>AK</td>\n",
       "      <td>[DEW STATION PT LAY DEW]</td>\n",
       "    </tr>\n",
       "  </tbody>\n",
       "</table>\n",
       "</div>"
      ],
      "text/plain": [
       "  port_code                      city state                   city_split\n",
       "0       ALC                     ALCAN    AK                      [ALCAN]\n",
       "1       ANC                 ANCHORAGE    AK                  [ANCHORAGE]\n",
       "2       BAR  BAKER AAF - BAKER ISLAND    AK  [BAKER AAF ,  BAKER ISLAND]\n",
       "3       DAC             DALTONS CACHE    AK              [DALTONS CACHE]\n",
       "4       PIZ    DEW STATION PT LAY DEW    AK     [DEW STATION PT LAY DEW]"
      ]
     },
     "execution_count": 28,
     "metadata": {},
     "output_type": "execute_result"
    }
   ],
   "source": [
    "port_codes_df.head()"
   ]
  },
  {
   "cell_type": "code",
   "execution_count": 29,
   "metadata": {
    "editable": true
   },
   "outputs": [],
   "source": [
    "port_codes_df = port_codes_df.explode(\"city_split\")"
   ]
  },
  {
   "cell_type": "code",
   "execution_count": 30,
   "metadata": {
    "editable": true
   },
   "outputs": [],
   "source": [
    "port_codes_df['city_split'] = port_codes_df['city_split'].str.strip()\n",
    "port_codes_df = port_codes_df.drop(\"city\", axis=1).rename(columns={'city_split': 'city'})"
   ]
  },
  {
   "cell_type": "code",
   "execution_count": 31,
   "metadata": {
    "editable": true
   },
   "outputs": [],
   "source": [
    "port_codes_df[\"city_split\"] = port_codes_df['city'].str.split('/')\n",
    "port_codes_df = port_codes_df.explode(\"city_split\")"
   ]
  },
  {
   "cell_type": "code",
   "execution_count": 32,
   "metadata": {
    "editable": true
   },
   "outputs": [],
   "source": [
    "port_codes_df['city_split'] = port_codes_df['city_split'].str.strip()\n",
    "port_codes_df = port_codes_df.drop(\"city\", axis=1).rename(columns={'city_split': 'city'})"
   ]
  },
  {
   "cell_type": "code",
   "execution_count": 33,
   "metadata": {
    "editable": true
   },
   "outputs": [
    {
     "data": {
      "text/html": [
       "<div>\n",
       "<style scoped>\n",
       "    .dataframe tbody tr th:only-of-type {\n",
       "        vertical-align: middle;\n",
       "    }\n",
       "\n",
       "    .dataframe tbody tr th {\n",
       "        vertical-align: top;\n",
       "    }\n",
       "\n",
       "    .dataframe thead th {\n",
       "        text-align: right;\n",
       "    }\n",
       "</style>\n",
       "<table border=\"1\" class=\"dataframe\">\n",
       "  <thead>\n",
       "    <tr style=\"text-align: right;\">\n",
       "      <th></th>\n",
       "      <th>port_code</th>\n",
       "      <th>state</th>\n",
       "      <th>city</th>\n",
       "    </tr>\n",
       "  </thead>\n",
       "  <tbody>\n",
       "    <tr>\n",
       "      <th>0</th>\n",
       "      <td>ALC</td>\n",
       "      <td>AK</td>\n",
       "      <td>ALCAN</td>\n",
       "    </tr>\n",
       "    <tr>\n",
       "      <th>1</th>\n",
       "      <td>ANC</td>\n",
       "      <td>AK</td>\n",
       "      <td>ANCHORAGE</td>\n",
       "    </tr>\n",
       "    <tr>\n",
       "      <th>2</th>\n",
       "      <td>BAR</td>\n",
       "      <td>AK</td>\n",
       "      <td>BAKER AAF</td>\n",
       "    </tr>\n",
       "    <tr>\n",
       "      <th>2</th>\n",
       "      <td>BAR</td>\n",
       "      <td>AK</td>\n",
       "      <td>BAKER ISLAND</td>\n",
       "    </tr>\n",
       "    <tr>\n",
       "      <th>3</th>\n",
       "      <td>DAC</td>\n",
       "      <td>AK</td>\n",
       "      <td>DALTONS CACHE</td>\n",
       "    </tr>\n",
       "  </tbody>\n",
       "</table>\n",
       "</div>"
      ],
      "text/plain": [
       "  port_code state           city\n",
       "0       ALC    AK          ALCAN\n",
       "1       ANC    AK      ANCHORAGE\n",
       "2       BAR    AK      BAKER AAF\n",
       "2       BAR    AK   BAKER ISLAND\n",
       "3       DAC    AK  DALTONS CACHE"
      ]
     },
     "execution_count": 33,
     "metadata": {},
     "output_type": "execute_result"
    }
   ],
   "source": [
    "port_codes_df.head()"
   ]
  },
  {
   "cell_type": "code",
   "execution_count": 34,
   "metadata": {
    "editable": true
   },
   "outputs": [
    {
     "name": "stdout",
     "output_type": "stream",
     "text": [
      "<class 'pandas.core.frame.DataFrame'>\n",
      "Int64Index: 583 entries, 0 to 528\n",
      "Data columns (total 3 columns):\n",
      " #   Column     Non-Null Count  Dtype \n",
      "---  ------     --------------  ----- \n",
      " 0   port_code  583 non-null    object\n",
      " 1   state      583 non-null    object\n",
      " 2   city       583 non-null    object\n",
      "dtypes: object(3)\n",
      "memory usage: 18.2+ KB\n"
     ]
    }
   ],
   "source": [
    "port_codes_df.info()"
   ]
  },
  {
   "cell_type": "code",
   "execution_count": 35,
   "metadata": {
    "editable": true
   },
   "outputs": [
    {
     "data": {
      "text/html": [
       "<div>\n",
       "<style scoped>\n",
       "    .dataframe tbody tr th:only-of-type {\n",
       "        vertical-align: middle;\n",
       "    }\n",
       "\n",
       "    .dataframe tbody tr th {\n",
       "        vertical-align: top;\n",
       "    }\n",
       "\n",
       "    .dataframe thead th {\n",
       "        text-align: right;\n",
       "    }\n",
       "</style>\n",
       "<table border=\"1\" class=\"dataframe\">\n",
       "  <thead>\n",
       "    <tr style=\"text-align: right;\">\n",
       "      <th></th>\n",
       "      <th>port_code</th>\n",
       "      <th>state</th>\n",
       "      <th>city</th>\n",
       "    </tr>\n",
       "  </thead>\n",
       "  <tbody>\n",
       "    <tr>\n",
       "      <th>count</th>\n",
       "      <td>583</td>\n",
       "      <td>583</td>\n",
       "      <td>583</td>\n",
       "    </tr>\n",
       "    <tr>\n",
       "      <th>unique</th>\n",
       "      <td>529</td>\n",
       "      <td>56</td>\n",
       "      <td>554</td>\n",
       "    </tr>\n",
       "    <tr>\n",
       "      <th>top</th>\n",
       "      <td>ICT</td>\n",
       "      <td>TX</td>\n",
       "      <td>NEWPORT</td>\n",
       "    </tr>\n",
       "    <tr>\n",
       "      <th>freq</th>\n",
       "      <td>3</td>\n",
       "      <td>51</td>\n",
       "      <td>3</td>\n",
       "    </tr>\n",
       "  </tbody>\n",
       "</table>\n",
       "</div>"
      ],
      "text/plain": [
       "       port_code state     city\n",
       "count        583   583      583\n",
       "unique       529    56      554\n",
       "top          ICT    TX  NEWPORT\n",
       "freq           3    51        3"
      ]
     },
     "execution_count": 35,
     "metadata": {},
     "output_type": "execute_result"
    }
   ],
   "source": [
    "port_codes_df.describe()"
   ]
  },
  {
   "cell_type": "code",
   "execution_count": 36,
   "metadata": {
    "editable": true
   },
   "outputs": [],
   "source": [
    "port_codes_df.to_csv('i94_port_codes.csv', index=False)"
   ]
  },
  {
   "cell_type": "markdown",
   "metadata": {
    "editable": true
   },
   "source": [
    "## Step 2: Explore and Assess the Data\n",
    "#### Explore the Data \n",
    "Identify data quality issues, like missing values, duplicate data, etc.\n",
    "\n",
    "#### Cleaning Steps\n",
    "Document steps necessary to clean the data"
   ]
  },
  {
   "cell_type": "markdown",
   "metadata": {
    "editable": true
   },
   "source": [
    "### Immigration data"
   ]
  },
  {
   "cell_type": "code",
   "execution_count": 37,
   "metadata": {
    "editable": true
   },
   "outputs": [],
   "source": [
    "import pyspark.sql.functions as F"
   ]
  },
  {
   "cell_type": "code",
   "execution_count": 38,
   "metadata": {
    "editable": true
   },
   "outputs": [
    {
     "data": {
      "text/plain": [
       "Index(['Unnamed: 0', 'cicid', 'i94yr', 'i94mon', 'i94cit', 'i94res', 'i94port',\n",
       "       'arrdate', 'i94mode', 'i94addr', 'depdate', 'i94bir', 'i94visa',\n",
       "       'count', 'dtadfile', 'visapost', 'occup', 'entdepa', 'entdepd',\n",
       "       'entdepu', 'matflag', 'biryear', 'dtaddto', 'gender', 'insnum',\n",
       "       'airline', 'admnum', 'fltno', 'visatype'],\n",
       "      dtype='object')"
      ]
     },
     "execution_count": 38,
     "metadata": {},
     "output_type": "execute_result"
    }
   ],
   "source": [
    "immigration_df.columns"
   ]
  },
  {
   "cell_type": "code",
   "execution_count": 39,
   "metadata": {
    "editable": true
   },
   "outputs": [],
   "source": [
    "immigration_cols_to_keep = {\n",
    "    \"cicid\": \"immigration_id\",\n",
    "    \"admnum\": \"admission_number\",\n",
    "    \"i94port\": \"port_code\",\n",
    "    \"fltno\": \"flight_number\",\n",
    "    \"visatype\": \"visa_type\",\n",
    "    \"airline\": \"airline\",\n",
    "    \"i94bir\": \"age\",\n",
    "    \"i94cit\": \"citizenship_country\",\n",
    "    \"i94res\": \"residency_country\",\n",
    "    \"arrdate\": \"arrival_date\",\n",
    "    \"depdate\": \"departure_date\",\n",
    "    \"visapost\": \"department_state_visa_issued\",\n",
    "    \"i94visa\": \"visa_code\",\n",
    "    \"visatype\": \"visa_type\",\n",
    "    \"i94mode\": \"transportation_mode\",\n",
    "    \"occup\": \"occupation\",\n",
    "    \"gender\": \"gender\"\n",
    "}"
   ]
  },
  {
   "cell_type": "code",
   "execution_count": 40,
   "metadata": {
    "editable": true
   },
   "outputs": [
    {
     "data": {
      "text/plain": [
       "[Row(immigration_id=5748517.0, admission_number=94953870030.0, port_code='LOS', flight_number='00011', visa_type='B1', airline='QF', age=40.0, citizenship_country=245.0, residency_country=438.0, arrival_date=20574.0, departure_date=20582.0, department_state_visa_issued='SYD', visa_code=1.0, transportation_mode=1.0, occupation=None, gender='F'),\n",
       " Row(immigration_id=5748518.0, admission_number=94955622830.0, port_code='LOS', flight_number='00007', visa_type='B1', airline='VA', age=32.0, citizenship_country=245.0, residency_country=438.0, arrival_date=20574.0, departure_date=20591.0, department_state_visa_issued='SYD', visa_code=1.0, transportation_mode=1.0, occupation=None, gender='F')]"
      ]
     },
     "execution_count": 40,
     "metadata": {},
     "output_type": "execute_result"
    }
   ],
   "source": [
    "spk_immigration_df = df_spark.select(*[F.col(col_name).alias(immigration_cols_to_keep.get(col_name, col_name)) for col_name in immigration_cols_to_keep.keys()])\n",
    "spk_immigration_df.take(2)"
   ]
  },
  {
   "cell_type": "markdown",
   "metadata": {
    "editable": true
   },
   "source": [
    "Replace codes with human readable country names, transportation modes and visa types"
   ]
  },
  {
   "cell_type": "code",
   "execution_count": 41,
   "metadata": {
    "editable": true
   },
   "outputs": [],
   "source": [
    "country_codes = {\n",
    "    582: 'MEXICO',\n",
    "    236: 'AFGHANISTAN',\n",
    "    101: 'ALBANIA',\n",
    "    316: 'ALGERIA',\n",
    "    102: 'ANDORRA',\n",
    "    324: 'ANGOLA',\n",
    "    529: 'ANGUILLA',\n",
    "    518: 'ANTIGUA-BARBUDA',\n",
    "    687: 'ARGENTINA ',\n",
    "    151: 'ARMENIA',\n",
    "    532: 'ARUBA',\n",
    "    438: 'AUSTRALIA',\n",
    "    103: 'AUSTRIA',\n",
    "    152: 'AZERBAIJAN',\n",
    "    512: 'BAHAMAS',\n",
    "    298: 'BAHRAIN',\n",
    "    274: 'BANGLADESH',\n",
    "    513: 'BARBADOS',\n",
    "    104: 'BELGIUM',\n",
    "    581: 'BELIZE',\n",
    "    386: 'BENIN',\n",
    "    509: 'BERMUDA',\n",
    "    153: 'BELARUS',\n",
    "    242: 'BHUTAN',\n",
    "    688: 'BOLIVIA',\n",
    "    717: 'BONAIRE, ST EUSTATIUS, SABA' ,\n",
    "    164: 'BOSNIA-HERZEGOVINA',\n",
    "    336: 'BOTSWANA',\n",
    "    689: 'BRAZIL',\n",
    "    525: 'BRITISH VIRGIN ISLANDS',\n",
    "    217: 'BRUNEI',\n",
    "    105: 'BULGARIA',\n",
    "    393: 'BURKINA FASO',\n",
    "    243: 'BURMA',\n",
    "    375: 'BURUNDI',\n",
    "    310: 'CAMEROON',\n",
    "    326: 'CAPE VERDE',\n",
    "    526: 'CAYMAN ISLANDS',\n",
    "    383: 'CENTRAL AFRICAN REPUBLIC',\n",
    "    384: 'CHAD',\n",
    "    690: 'CHILE',\n",
    "    245: 'CHINA, PRC',\n",
    "    721: 'CURACAO' ,\n",
    "    270: 'CHRISTMAS ISLAND',\n",
    "    271: 'COCOS ISLANDS',\n",
    "    691: 'COLOMBIA',\n",
    "    317: 'COMOROS',\n",
    "    385: 'CONGO',\n",
    "    467: 'COOK ISLANDS',\n",
    "    575: 'COSTA RICA',\n",
    "    165: 'CROATIA',\n",
    "    584: 'CUBA',\n",
    "    218: 'CYPRUS',\n",
    "    140: 'CZECH REPUBLIC',\n",
    "    723: 'FAROE ISLANDS (PART OF DENMARK)'  ,\n",
    "    108: 'DENMARK',\n",
    "    322: 'DJIBOUTI',\n",
    "    519: 'DOMINICA',\n",
    "    585: 'DOMINICAN REPUBLIC',\n",
    "    240: 'EAST TIMOR',\n",
    "    692: 'ECUADOR',\n",
    "    368: 'EGYPT',\n",
    "    576: 'EL SALVADOR',\n",
    "    399: 'EQUATORIAL GUINEA',\n",
    "    372: 'ERITREA',\n",
    "    109: 'ESTONIA',\n",
    "    369: 'ETHIOPIA',\n",
    "    604: 'FALKLAND ISLANDS',\n",
    "    413: 'FIJI',\n",
    "    110: 'FINLAND',\n",
    "    111: 'FRANCE',\n",
    "    601: 'FRENCH GUIANA',\n",
    "    411: 'FRENCH POLYNESIA',\n",
    "    387: 'GABON',\n",
    "    338: 'GAMBIA',\n",
    "    758: 'GAZA STRIP' ,\n",
    "    154: 'GEORGIA',\n",
    "    112: 'GERMANY',\n",
    "    339: 'GHANA',\n",
    "    143: 'GIBRALTAR',\n",
    "    113: 'GREECE',\n",
    "    520: 'GRENADA',\n",
    "    507: 'GUADELOUPE',\n",
    "    577: 'GUATEMALA',\n",
    "    382: 'GUINEA',\n",
    "    327: 'GUINEA-BISSAU',\n",
    "    603: 'GUYANA',\n",
    "    586: 'HAITI',\n",
    "    726: 'HEARD AND MCDONALD IS.',\n",
    "    149: 'HOLY SEE/VATICAN',\n",
    "    528: 'HONDURAS',\n",
    "    206: 'HONG KONG',\n",
    "    114: 'HUNGARY',\n",
    "    115: 'ICELAND',\n",
    "    213: 'INDIA',\n",
    "    759: 'INDIAN OCEAN AREAS (FRENCH)' ,\n",
    "    729: 'INDIAN OCEAN TERRITORY' ,\n",
    "    204: 'INDONESIA',\n",
    "    249: 'IRAN',\n",
    "    250: 'IRAQ',\n",
    "    116: 'IRELAND',\n",
    "    251: 'ISRAEL',\n",
    "    117: 'ITALY',\n",
    "    388: 'IVORY COAST',\n",
    "    514: 'JAMAICA',\n",
    "    209: 'JAPAN',\n",
    "    253: 'JORDAN',\n",
    "    201: 'KAMPUCHEA',\n",
    "    155: 'KAZAKHSTAN',\n",
    "    340: 'KENYA',\n",
    "    414: 'KIRIBATI',\n",
    "    732: 'KOSOVO' ,\n",
    "    272: 'KUWAIT',\n",
    "    156: 'KYRGYZSTAN',\n",
    "    203: 'LAOS',\n",
    "    118: 'LATVIA',\n",
    "    255: 'LEBANON',\n",
    "    335: 'LESOTHO',\n",
    "    370: 'LIBERIA',\n",
    "    381: 'LIBYA',\n",
    "    119: 'LIECHTENSTEIN',\n",
    "    120: 'LITHUANIA',\n",
    "    121: 'LUXEMBOURG',\n",
    "    214: 'MACAU',\n",
    "    167: 'MACEDONIA',\n",
    "    320: 'MADAGASCAR',\n",
    "    345: 'MALAWI',\n",
    "    273: 'MALAYSIA',\n",
    "    220: 'MALDIVES',\n",
    "    392: 'MALI',\n",
    "    145: 'MALTA',\n",
    "    472: 'MARSHALL ISLANDS',\n",
    "    511: 'MARTINIQUE',\n",
    "    389: 'MAURITANIA',\n",
    "    342: 'MAURITIUS',\n",
    "    760: 'MAYOTTE (AFRICA - FRENCH)' ,\n",
    "    473: 'MICRONESIA, FED. STATES OF',\n",
    "    157: 'MOLDOVA',\n",
    "    122: 'MONACO',\n",
    "    299: 'MONGOLIA',\n",
    "    735: 'MONTENEGRO' ,\n",
    "    521: 'MONTSERRAT',\n",
    "    332: 'MOROCCO',\n",
    "    329: 'MOZAMBIQUE',\n",
    "    371: 'NAMIBIA',\n",
    "    440: 'NAURU',\n",
    "    257: 'NEPAL',\n",
    "    123: 'NETHERLANDS',\n",
    "    508: 'NETHERLANDS ANTILLES',\n",
    "    409: 'NEW CALEDONIA',\n",
    "    464: 'NEW ZEALAND',\n",
    "    579: 'NICARAGUA',\n",
    "    390: 'NIGER',\n",
    "    343: 'NIGERIA',\n",
    "    470: 'NIUE',\n",
    "    275: 'NORTH KOREA',\n",
    "    124: 'NORWAY',\n",
    "    256: 'OMAN',\n",
    "    258: 'PAKISTAN',\n",
    "    474: 'PALAU',\n",
    "    743: 'PALESTINE' ,\n",
    "    504: 'PANAMA',\n",
    "    441: 'PAPUA NEW GUINEA',\n",
    "    693: 'PARAGUAY',\n",
    "    694: 'PERU',\n",
    "    260: 'PHILIPPINES',\n",
    "    416: 'PITCAIRN ISLANDS',\n",
    "    107: 'POLAND',\n",
    "    126: 'PORTUGAL',\n",
    "    297: 'QATAR',\n",
    "    748: 'REPUBLIC OF SOUTH SUDAN',\n",
    "    321: 'REUNION',\n",
    "    127: 'ROMANIA',\n",
    "    158: 'RUSSIA',\n",
    "    376: 'RWANDA',\n",
    "    128: 'SAN MARINO',\n",
    "    330: 'SAO TOME AND PRINCIPE',\n",
    "    261: 'SAUDI ARABIA',\n",
    "    391: 'SENEGAL',\n",
    "    142: 'SERBIA AND MONTENEGRO',\n",
    "    745: 'SERBIA' ,\n",
    "    347: 'SEYCHELLES',\n",
    "    348: 'SIERRA LEONE',\n",
    "    207: 'SINGAPORE',\n",
    "    141: 'SLOVAKIA',\n",
    "    166: 'SLOVENIA',\n",
    "    412: 'SOLOMON ISLANDS',\n",
    "    397: 'SOMALIA',\n",
    "    373: 'SOUTH AFRICA',\n",
    "    276: 'SOUTH KOREA',\n",
    "    129: 'SPAIN',\n",
    "    244: 'SRI LANKA',\n",
    "    346: 'ST. HELENA',\n",
    "    522: 'ST. KITTS-NEVIS',\n",
    "    523: 'ST. LUCIA',\n",
    "    502: 'ST. PIERRE AND MIQUELON',\n",
    "    524: 'ST. VINCENT-GRENADINES',\n",
    "    716: 'SAINT BARTHELEMY' ,\n",
    "    736: 'SAINT MARTIN' ,\n",
    "    749: 'SAINT MAARTEN' ,\n",
    "    350: 'SUDAN',\n",
    "    602: 'SURINAME',\n",
    "    351: 'SWAZILAND',\n",
    "    130: 'SWEDEN',\n",
    "    131: 'SWITZERLAND',\n",
    "    262: 'SYRIA',\n",
    "    268: 'TAIWAN',\n",
    "    159: 'TAJIKISTAN',\n",
    "    353: 'TANZANIA',\n",
    "    263: 'THAILAND',\n",
    "    304: 'TOGO',\n",
    "    417: 'TONGA',\n",
    "    516: 'TRINIDAD AND TOBAGO',\n",
    "    323: 'TUNISIA',\n",
    "    264: 'TURKEY',\n",
    "    161: 'TURKMENISTAN',\n",
    "    527: 'TURKS AND CAICOS ISLANDS',\n",
    "    420: 'TUVALU',\n",
    "    352: 'UGANDA',\n",
    "    162: 'UKRAINE',\n",
    "    296: 'UNITED ARAB EMIRATES',\n",
    "    135: 'UNITED KINGDOM',\n",
    "    695: 'URUGUAY',\n",
    "    163: 'UZBEKISTAN',\n",
    "    410: 'VANUATU',\n",
    "    696: 'VENEZUELA',\n",
    "    266: 'VIETNAM',\n",
    "    469: 'WALLIS AND FUTUNA ISLANDS',\n",
    "    757: 'WEST INDIES (FRENCH)' ,\n",
    "    333: 'WESTERN SAHARA',\n",
    "    465: 'WESTERN SAMOA',\n",
    "    216: 'YEMEN',\n",
    "    139: 'YUGOSLAVIA',\n",
    "    301: 'ZAIRE',\n",
    "    344: 'ZAMBIA',\n",
    "    315: 'ZIMBABWE',\n",
    "    403: 'INVALID: AMERICAN SAMOA',\n",
    "    712: 'INVALID: ANTARCTICA' ,\n",
    "    700: 'INVALID: BORN ON BOARD SHIP',\n",
    "    719: 'INVALID: BOUVET ISLAND (ANTARCTICA/NORWAY TERR.)',\n",
    "    574: 'INVALID: CANADA',\n",
    "    720: 'INVALID: CANTON AND ENDERBURY ISLS' ,\n",
    "    106: 'INVALID: CZECHOSLOVAKIA',\n",
    "    739: 'INVALID: DRONNING MAUD LAND (ANTARCTICA-NORWAY)' ,\n",
    "    394: 'INVALID: FRENCH SOUTHERN AND ANTARCTIC',\n",
    "    501: 'INVALID: GREENLAND',\n",
    "    404: 'INVALID: GUAM',\n",
    "    730: 'INVALID: INTERNATIONAL WATERS' ,\n",
    "    731: 'INVALID: JOHNSON ISLAND' ,\n",
    "    471: 'INVALID: MARIANA ISLANDS, NORTHERN',\n",
    "    737: 'INVALID: MIDWAY ISLANDS' ,\n",
    "    753: 'INVALID: MINOR OUTLYING ISLANDS - USA',\n",
    "    740: 'INVALID: NEUTRAL ZONE (S. ARABIA/IRAQ)' ,\n",
    "    710: 'INVALID: NON-QUOTA IMMIGRANT',\n",
    "    505: 'INVALID: PUERTO RICO',\n",
    "    0:    'INVALID: STATELESS',\n",
    "    705: 'INVALID: STATELESS',\n",
    "    583: 'INVALID: UNITED STATES',\n",
    "    407: 'INVALID: UNITED STATES',\n",
    "    999: 'INVALID: UNKNOWN',\n",
    "    239: 'INVALID: UNKNOWN',\n",
    "    134: 'INVALID: USSR',\n",
    "    506: 'INVALID: U.S. VIRGIN ISLANDS',\n",
    "    755: 'INVALID: WAKE ISLAND'  ,\n",
    "    311: 'COLLAPSED TANZANIA',\n",
    "    741: 'COLLAPSED CURACAO',\n",
    "    54: 'NO COUNTRY CODE',\n",
    "    100: 'NO COUNTRY CODE',\n",
    "    187: 'NO COUNTRY CODE',\n",
    "    190: 'NO COUNTRY CODE',\n",
    "    200: 'NO COUNTRY CODE',\n",
    "    219: 'NO COUNTRY CODE',\n",
    "    238: 'NO COUNTRY CODE',\n",
    "    277: 'NO COUNTRY CODE',\n",
    "    293: 'NO COUNTRY CODE',\n",
    "    300: 'NO COUNTRY CODE',\n",
    "    319: 'NO COUNTRY CODE',\n",
    "    365: 'NO COUNTRY CODE',\n",
    "    395: 'NO COUNTRY CODE',\n",
    "    400: 'NO COUNTRY CODE',\n",
    "    485: 'NO COUNTRY CODE',\n",
    "    503: 'NO COUNTRY CODE',\n",
    "    589: 'NO COUNTRY CODE',\n",
    "    592: 'NO COUNTRY CODE',\n",
    "    791: 'NO COUNTRY CODE',\n",
    "    849: 'NO COUNTRY CODE',\n",
    "    914: 'NO COUNTRY CODE',\n",
    "    944: 'NO COUNTRY CODE',\n",
    "    996: 'NO COUNTRY CODE',\n",
    "}"
   ]
  },
  {
   "cell_type": "code",
   "execution_count": 42,
   "metadata": {
    "editable": true
   },
   "outputs": [],
   "source": [
    "from itertools import chain\n",
    "mapping = F.create_map([F.lit(x) for x in chain(*country_codes.items())])\n",
    "spk_immigration_df = spk_immigration_df.withColumn(\"citizenship_country\", mapping[spk_immigration_df['citizenship_country']])\n",
    "spk_immigration_df = spk_immigration_df.withColumn(\"residency_country\", mapping[spk_immigration_df['residency_country']])"
   ]
  },
  {
   "cell_type": "code",
   "execution_count": 43,
   "metadata": {
    "editable": true
   },
   "outputs": [],
   "source": [
    "visa_codes = {\n",
    "    1: \"Business\",\n",
    "    2: \"Pleasure\",\n",
    "    3:  \"Student\",\n",
    "}"
   ]
  },
  {
   "cell_type": "code",
   "execution_count": 44,
   "metadata": {
    "editable": true
   },
   "outputs": [],
   "source": [
    "mapping = F.create_map([F.lit(x) for x in chain(*visa_codes.items())])\n",
    "spk_immigration_df = spk_immigration_df.withColumn(\"visa_code\", mapping[spk_immigration_df['visa_code']])"
   ]
  },
  {
   "cell_type": "code",
   "execution_count": 45,
   "metadata": {
    "editable": true
   },
   "outputs": [
    {
     "data": {
      "text/plain": [
       "[Row(immigration_id=5748517.0, admission_number=94953870030.0, port_code='LOS', flight_number='00011', visa_type='B1', airline='QF', age=40.0, citizenship_country='CHINA, PRC', residency_country='AUSTRALIA', arrival_date=20574.0, departure_date=20582.0, department_state_visa_issued='SYD', visa_code='Business', transportation_mode=1.0, occupation=None, gender='F')]"
      ]
     },
     "execution_count": 45,
     "metadata": {},
     "output_type": "execute_result"
    }
   ],
   "source": [
    "spk_immigration_df.take(1)"
   ]
  },
  {
   "cell_type": "code",
   "execution_count": 46,
   "metadata": {
    "editable": true
   },
   "outputs": [],
   "source": [
    "transportation_modes = {\n",
    "    1: 'Air',\n",
    "    2: 'Sea',\n",
    "    3: 'Land',\n",
    "    9: 'Not reported',\n",
    "}\n",
    "mapping = F.create_map([F.lit(x) for x in chain(*transportation_modes.items())])\n",
    "spk_immigration_df = spk_immigration_df.withColumn(\"transportation_mode\", mapping[spk_immigration_df['transportation_mode']])"
   ]
  },
  {
   "cell_type": "code",
   "execution_count": 47,
   "metadata": {
    "editable": true
   },
   "outputs": [
    {
     "data": {
      "text/plain": [
       "[Row(immigration_id=5748517.0, admission_number=94953870030.0, port_code='LOS', flight_number='00011', visa_type='B1', airline='QF', age=40.0, citizenship_country='CHINA, PRC', residency_country='AUSTRALIA', arrival_date=20574.0, departure_date=20582.0, department_state_visa_issued='SYD', visa_code='Business', transportation_mode='Air', occupation=None, gender='F')]"
      ]
     },
     "execution_count": 47,
     "metadata": {},
     "output_type": "execute_result"
    }
   ],
   "source": [
    "spk_immigration_df.take(1)"
   ]
  },
  {
   "cell_type": "markdown",
   "metadata": {
    "editable": true
   },
   "source": [
    "Fix date format from integer to date. The original integer represent the number of days since `1960-01-01`"
   ]
  },
  {
   "cell_type": "code",
   "execution_count": 48,
   "metadata": {
    "editable": true
   },
   "outputs": [],
   "source": [
    "spk_immigration_df = spk_immigration_df.withColumn('arrival_date', F.expr(\"date_add('1960-01-01', arrival_date)\"))\n",
    "spk_immigration_df = spk_immigration_df.withColumn('departure_date', F.expr(\"date_add('1960-01-01', departure_date)\"))"
   ]
  },
  {
   "cell_type": "code",
   "execution_count": 49,
   "metadata": {
    "editable": true
   },
   "outputs": [
    {
     "data": {
      "text/plain": [
       "[Row(immigration_id=5748517.0, admission_number=94953870030.0, port_code='LOS', flight_number='00011', visa_type='B1', airline='QF', age=40.0, citizenship_country='CHINA, PRC', residency_country='AUSTRALIA', arrival_date=datetime.date(2016, 4, 30), departure_date=datetime.date(2016, 5, 8), department_state_visa_issued='SYD', visa_code='Business', transportation_mode='Air', occupation=None, gender='F'),\n",
       " Row(immigration_id=5748518.0, admission_number=94955622830.0, port_code='LOS', flight_number='00007', visa_type='B1', airline='VA', age=32.0, citizenship_country='CHINA, PRC', residency_country='AUSTRALIA', arrival_date=datetime.date(2016, 4, 30), departure_date=datetime.date(2016, 5, 17), department_state_visa_issued='SYD', visa_code='Business', transportation_mode='Air', occupation=None, gender='F')]"
      ]
     },
     "execution_count": 49,
     "metadata": {},
     "output_type": "execute_result"
    }
   ],
   "source": [
    "spk_immigration_df.take(2)"
   ]
  },
  {
   "cell_type": "markdown",
   "metadata": {
    "editable": true
   },
   "source": [
    "Check the number of null values"
   ]
  },
  {
   "cell_type": "code",
   "execution_count": 50,
   "metadata": {
    "editable": true
   },
   "outputs": [
    {
     "data": {
      "text/plain": [
       "3096313"
      ]
     },
     "execution_count": 50,
     "metadata": {},
     "output_type": "execute_result"
    }
   ],
   "source": [
    "spk_immigration_df.count()"
   ]
  },
  {
   "cell_type": "code",
   "execution_count": 51,
   "metadata": {
    "editable": true
   },
   "outputs": [
    {
     "name": "stdout",
     "output_type": "stream",
     "text": [
      "+------------------------------+\n",
      "|count(DISTINCT immigration_id)|\n",
      "+------------------------------+\n",
      "|                       3096313|\n",
      "+------------------------------+\n",
      "\n"
     ]
    }
   ],
   "source": [
    "spk_immigration_df.agg(F.countDistinct(F.col('immigration_id'))).show()"
   ]
  },
  {
   "cell_type": "code",
   "execution_count": 52,
   "metadata": {
    "editable": true
   },
   "outputs": [
    {
     "name": "stdout",
     "output_type": "stream",
     "text": [
      "+--------------+----------------+---------+-------------+---------+-------+---+-------------------+-----------------+------------+--------------+----------------------------+---------+-------------------+----------+------+\n",
      "|immigration_id|admission_number|port_code|flight_number|visa_type|airline|age|citizenship_country|residency_country|arrival_date|departure_date|department_state_visa_issued|visa_code|transportation_mode|occupation|gender|\n",
      "+--------------+----------------+---------+-------------+---------+-------+---+-------------------+-----------------+------------+--------------+----------------------------+---------+-------------------+----------+------+\n",
      "|             0|               0|        0|        19549|        0|  83627|802|             386189|                0|           0|        142457|                     1881250|        0|                239|   3088187|414269|\n",
      "+--------------+----------------+---------+-------------+---------+-------+---+-------------------+-----------------+------------+--------------+----------------------------+---------+-------------------+----------+------+\n",
      "\n"
     ]
    }
   ],
   "source": [
    "spk_immigration_df.select([F.count(F.when(F.col(c).isNull(), c)).alias(c) for c in spk_immigration_df.columns]).show()"
   ]
  },
  {
   "cell_type": "markdown",
   "metadata": {
    "editable": true
   },
   "source": [
    "### Airports data"
   ]
  },
  {
   "cell_type": "code",
   "execution_count": 187,
   "metadata": {
    "editable": true
   },
   "outputs": [
    {
     "data": {
      "text/html": [
       "<div>\n",
       "<style scoped>\n",
       "    .dataframe tbody tr th:only-of-type {\n",
       "        vertical-align: middle;\n",
       "    }\n",
       "\n",
       "    .dataframe tbody tr th {\n",
       "        vertical-align: top;\n",
       "    }\n",
       "\n",
       "    .dataframe thead th {\n",
       "        text-align: right;\n",
       "    }\n",
       "</style>\n",
       "<table border=\"1\" class=\"dataframe\">\n",
       "  <thead>\n",
       "    <tr style=\"text-align: right;\">\n",
       "      <th></th>\n",
       "      <th>ident</th>\n",
       "      <th>type</th>\n",
       "      <th>name</th>\n",
       "      <th>elevation_ft</th>\n",
       "      <th>continent</th>\n",
       "      <th>iso_country</th>\n",
       "      <th>iso_region</th>\n",
       "      <th>municipality</th>\n",
       "      <th>gps_code</th>\n",
       "      <th>iata_code</th>\n",
       "      <th>local_code</th>\n",
       "      <th>coordinates</th>\n",
       "    </tr>\n",
       "  </thead>\n",
       "  <tbody>\n",
       "    <tr>\n",
       "      <th>0</th>\n",
       "      <td>00A</td>\n",
       "      <td>heliport</td>\n",
       "      <td>Total Rf Heliport</td>\n",
       "      <td>11.0</td>\n",
       "      <td>NaN</td>\n",
       "      <td>US</td>\n",
       "      <td>US-PA</td>\n",
       "      <td>Bensalem</td>\n",
       "      <td>00A</td>\n",
       "      <td>NaN</td>\n",
       "      <td>00A</td>\n",
       "      <td>-74.93360137939453, 40.07080078125</td>\n",
       "    </tr>\n",
       "    <tr>\n",
       "      <th>1</th>\n",
       "      <td>00AA</td>\n",
       "      <td>small_airport</td>\n",
       "      <td>Aero B Ranch Airport</td>\n",
       "      <td>3435.0</td>\n",
       "      <td>NaN</td>\n",
       "      <td>US</td>\n",
       "      <td>US-KS</td>\n",
       "      <td>Leoti</td>\n",
       "      <td>00AA</td>\n",
       "      <td>NaN</td>\n",
       "      <td>00AA</td>\n",
       "      <td>-101.473911, 38.704022</td>\n",
       "    </tr>\n",
       "  </tbody>\n",
       "</table>\n",
       "</div>"
      ],
      "text/plain": [
       "  ident           type                  name  elevation_ft continent  \\\n",
       "0   00A       heliport     Total Rf Heliport          11.0       NaN   \n",
       "1  00AA  small_airport  Aero B Ranch Airport        3435.0       NaN   \n",
       "\n",
       "  iso_country iso_region municipality gps_code iata_code local_code  \\\n",
       "0          US      US-PA     Bensalem      00A       NaN        00A   \n",
       "1          US      US-KS        Leoti     00AA       NaN       00AA   \n",
       "\n",
       "                          coordinates  \n",
       "0  -74.93360137939453, 40.07080078125  \n",
       "1              -101.473911, 38.704022  "
      ]
     },
     "execution_count": 187,
     "metadata": {},
     "output_type": "execute_result"
    }
   ],
   "source": [
    "airport_df.head(2)"
   ]
  },
  {
   "cell_type": "code",
   "execution_count": 188,
   "metadata": {
    "editable": true
   },
   "outputs": [],
   "source": [
    "airport_df = airport_df[(airport_df[\"iso_country\"] == \"US\")]"
   ]
  },
  {
   "cell_type": "code",
   "execution_count": 189,
   "metadata": {
    "editable": true
   },
   "outputs": [
    {
     "data": {
      "text/plain": [
       "array(['heliport', 'small_airport', 'closed', 'seaplane_base',\n",
       "       'balloonport', 'medium_airport', 'large_airport'], dtype=object)"
      ]
     },
     "execution_count": 189,
     "metadata": {},
     "output_type": "execute_result"
    }
   ],
   "source": [
    "airport_df.type.unique()"
   ]
  },
  {
   "cell_type": "code",
   "execution_count": 190,
   "metadata": {
    "editable": true
   },
   "outputs": [],
   "source": [
    "airport_df = airport_df[(airport_df[\"type\"] != \"closed\")]"
   ]
  },
  {
   "cell_type": "code",
   "execution_count": 191,
   "metadata": {
    "editable": true
   },
   "outputs": [],
   "source": [
    "airport_df[\"state\"] = airport_df[\"iso_region\"].str.split(\"-\").str[1]"
   ]
  },
  {
   "cell_type": "code",
   "execution_count": 192,
   "metadata": {
    "editable": true
   },
   "outputs": [
    {
     "data": {
      "text/html": [
       "<div>\n",
       "<style scoped>\n",
       "    .dataframe tbody tr th:only-of-type {\n",
       "        vertical-align: middle;\n",
       "    }\n",
       "\n",
       "    .dataframe tbody tr th {\n",
       "        vertical-align: top;\n",
       "    }\n",
       "\n",
       "    .dataframe thead th {\n",
       "        text-align: right;\n",
       "    }\n",
       "</style>\n",
       "<table border=\"1\" class=\"dataframe\">\n",
       "  <thead>\n",
       "    <tr style=\"text-align: right;\">\n",
       "      <th></th>\n",
       "      <th>ident</th>\n",
       "      <th>type</th>\n",
       "      <th>name</th>\n",
       "      <th>elevation_ft</th>\n",
       "      <th>continent</th>\n",
       "      <th>iso_country</th>\n",
       "      <th>iso_region</th>\n",
       "      <th>municipality</th>\n",
       "      <th>gps_code</th>\n",
       "      <th>iata_code</th>\n",
       "      <th>local_code</th>\n",
       "      <th>coordinates</th>\n",
       "      <th>state</th>\n",
       "    </tr>\n",
       "  </thead>\n",
       "  <tbody>\n",
       "    <tr>\n",
       "      <th>0</th>\n",
       "      <td>00A</td>\n",
       "      <td>heliport</td>\n",
       "      <td>Total Rf Heliport</td>\n",
       "      <td>11.0</td>\n",
       "      <td>NaN</td>\n",
       "      <td>US</td>\n",
       "      <td>US-PA</td>\n",
       "      <td>Bensalem</td>\n",
       "      <td>00A</td>\n",
       "      <td>NaN</td>\n",
       "      <td>00A</td>\n",
       "      <td>-74.93360137939453, 40.07080078125</td>\n",
       "      <td>PA</td>\n",
       "    </tr>\n",
       "    <tr>\n",
       "      <th>1</th>\n",
       "      <td>00AA</td>\n",
       "      <td>small_airport</td>\n",
       "      <td>Aero B Ranch Airport</td>\n",
       "      <td>3435.0</td>\n",
       "      <td>NaN</td>\n",
       "      <td>US</td>\n",
       "      <td>US-KS</td>\n",
       "      <td>Leoti</td>\n",
       "      <td>00AA</td>\n",
       "      <td>NaN</td>\n",
       "      <td>00AA</td>\n",
       "      <td>-101.473911, 38.704022</td>\n",
       "      <td>KS</td>\n",
       "    </tr>\n",
       "    <tr>\n",
       "      <th>2</th>\n",
       "      <td>00AK</td>\n",
       "      <td>small_airport</td>\n",
       "      <td>Lowell Field</td>\n",
       "      <td>450.0</td>\n",
       "      <td>NaN</td>\n",
       "      <td>US</td>\n",
       "      <td>US-AK</td>\n",
       "      <td>Anchor Point</td>\n",
       "      <td>00AK</td>\n",
       "      <td>NaN</td>\n",
       "      <td>00AK</td>\n",
       "      <td>-151.695999146, 59.94919968</td>\n",
       "      <td>AK</td>\n",
       "    </tr>\n",
       "    <tr>\n",
       "      <th>3</th>\n",
       "      <td>00AL</td>\n",
       "      <td>small_airport</td>\n",
       "      <td>Epps Airpark</td>\n",
       "      <td>820.0</td>\n",
       "      <td>NaN</td>\n",
       "      <td>US</td>\n",
       "      <td>US-AL</td>\n",
       "      <td>Harvest</td>\n",
       "      <td>00AL</td>\n",
       "      <td>NaN</td>\n",
       "      <td>00AL</td>\n",
       "      <td>-86.77030181884766, 34.86479949951172</td>\n",
       "      <td>AL</td>\n",
       "    </tr>\n",
       "    <tr>\n",
       "      <th>5</th>\n",
       "      <td>00AS</td>\n",
       "      <td>small_airport</td>\n",
       "      <td>Fulton Airport</td>\n",
       "      <td>1100.0</td>\n",
       "      <td>NaN</td>\n",
       "      <td>US</td>\n",
       "      <td>US-OK</td>\n",
       "      <td>Alex</td>\n",
       "      <td>00AS</td>\n",
       "      <td>NaN</td>\n",
       "      <td>00AS</td>\n",
       "      <td>-97.8180194, 34.9428028</td>\n",
       "      <td>OK</td>\n",
       "    </tr>\n",
       "  </tbody>\n",
       "</table>\n",
       "</div>"
      ],
      "text/plain": [
       "  ident           type                  name  elevation_ft continent  \\\n",
       "0   00A       heliport     Total Rf Heliport          11.0       NaN   \n",
       "1  00AA  small_airport  Aero B Ranch Airport        3435.0       NaN   \n",
       "2  00AK  small_airport          Lowell Field         450.0       NaN   \n",
       "3  00AL  small_airport          Epps Airpark         820.0       NaN   \n",
       "5  00AS  small_airport        Fulton Airport        1100.0       NaN   \n",
       "\n",
       "  iso_country iso_region  municipality gps_code iata_code local_code  \\\n",
       "0          US      US-PA      Bensalem      00A       NaN        00A   \n",
       "1          US      US-KS         Leoti     00AA       NaN       00AA   \n",
       "2          US      US-AK  Anchor Point     00AK       NaN       00AK   \n",
       "3          US      US-AL       Harvest     00AL       NaN       00AL   \n",
       "5          US      US-OK          Alex     00AS       NaN       00AS   \n",
       "\n",
       "                             coordinates state  \n",
       "0     -74.93360137939453, 40.07080078125    PA  \n",
       "1                 -101.473911, 38.704022    KS  \n",
       "2            -151.695999146, 59.94919968    AK  \n",
       "3  -86.77030181884766, 34.86479949951172    AL  \n",
       "5                -97.8180194, 34.9428028    OK  "
      ]
     },
     "execution_count": 192,
     "metadata": {},
     "output_type": "execute_result"
    }
   ],
   "source": [
    "airport_df.head()"
   ]
  },
  {
   "cell_type": "code",
   "execution_count": 193,
   "metadata": {
    "editable": true
   },
   "outputs": [
    {
     "data": {
      "text/html": [
       "<div>\n",
       "<style scoped>\n",
       "    .dataframe tbody tr th:only-of-type {\n",
       "        vertical-align: middle;\n",
       "    }\n",
       "\n",
       "    .dataframe tbody tr th {\n",
       "        vertical-align: top;\n",
       "    }\n",
       "\n",
       "    .dataframe thead th {\n",
       "        text-align: right;\n",
       "    }\n",
       "</style>\n",
       "<table border=\"1\" class=\"dataframe\">\n",
       "  <thead>\n",
       "    <tr style=\"text-align: right;\">\n",
       "      <th></th>\n",
       "      <th>ident</th>\n",
       "      <th>type</th>\n",
       "      <th>name</th>\n",
       "      <th>elevation_ft</th>\n",
       "      <th>continent</th>\n",
       "      <th>iso_country</th>\n",
       "      <th>iso_region</th>\n",
       "      <th>municipality</th>\n",
       "      <th>gps_code</th>\n",
       "      <th>iata_code</th>\n",
       "      <th>local_code</th>\n",
       "      <th>coordinates</th>\n",
       "      <th>state</th>\n",
       "    </tr>\n",
       "  </thead>\n",
       "  <tbody>\n",
       "    <tr>\n",
       "      <th>171</th>\n",
       "      <td>02P</td>\n",
       "      <td>heliport</td>\n",
       "      <td>Stottle Memorial Heliport</td>\n",
       "      <td>591.0</td>\n",
       "      <td>NaN</td>\n",
       "      <td>US</td>\n",
       "      <td>US-PA</td>\n",
       "      <td>Honey Grove</td>\n",
       "      <td>NaN</td>\n",
       "      <td>NaN</td>\n",
       "      <td>02P</td>\n",
       "      <td>-77.556602, 40.403596</td>\n",
       "      <td>PA</td>\n",
       "    </tr>\n",
       "    <tr>\n",
       "      <th>256</th>\n",
       "      <td>04CA</td>\n",
       "      <td>small_airport</td>\n",
       "      <td>Gray Butte Field</td>\n",
       "      <td>3020.0</td>\n",
       "      <td>NaN</td>\n",
       "      <td>US</td>\n",
       "      <td>US-CA</td>\n",
       "      <td>Palmdale</td>\n",
       "      <td>KGXA</td>\n",
       "      <td>NaN</td>\n",
       "      <td>04CA</td>\n",
       "      <td>-117.675003, 34.5639</td>\n",
       "      <td>CA</td>\n",
       "    </tr>\n",
       "    <tr>\n",
       "      <th>317</th>\n",
       "      <td>05B</td>\n",
       "      <td>seaplane_base</td>\n",
       "      <td>Van Buren Seaplane Base</td>\n",
       "      <td>440.0</td>\n",
       "      <td>NaN</td>\n",
       "      <td>US</td>\n",
       "      <td>US-ME</td>\n",
       "      <td>Van Buren</td>\n",
       "      <td>NaN</td>\n",
       "      <td>NaN</td>\n",
       "      <td>05B</td>\n",
       "      <td>-67.931999, 47.158901</td>\n",
       "      <td>ME</td>\n",
       "    </tr>\n",
       "    <tr>\n",
       "      <th>337</th>\n",
       "      <td>05M</td>\n",
       "      <td>heliport</td>\n",
       "      <td>Pauls Valley General Hospital Heliport</td>\n",
       "      <td>911.0</td>\n",
       "      <td>NaN</td>\n",
       "      <td>US</td>\n",
       "      <td>US-OK</td>\n",
       "      <td>Pauls Valley</td>\n",
       "      <td>NaN</td>\n",
       "      <td>NaN</td>\n",
       "      <td>NaN</td>\n",
       "      <td>-97.214237, 34.71979</td>\n",
       "      <td>OK</td>\n",
       "    </tr>\n",
       "    <tr>\n",
       "      <th>534</th>\n",
       "      <td>08TE</td>\n",
       "      <td>small_airport</td>\n",
       "      <td>B. J. Mc Combs Sisterdale Airport</td>\n",
       "      <td>1447.0</td>\n",
       "      <td>NaN</td>\n",
       "      <td>US</td>\n",
       "      <td>US-TX</td>\n",
       "      <td>Comfort</td>\n",
       "      <td>NaN</td>\n",
       "      <td>NaN</td>\n",
       "      <td>NaN</td>\n",
       "      <td>-98.742451, 29.975331</td>\n",
       "      <td>TX</td>\n",
       "    </tr>\n",
       "  </tbody>\n",
       "</table>\n",
       "</div>"
      ],
      "text/plain": [
       "    ident           type                                    name  \\\n",
       "171   02P       heliport               Stottle Memorial Heliport   \n",
       "256  04CA  small_airport                        Gray Butte Field   \n",
       "317   05B  seaplane_base                 Van Buren Seaplane Base   \n",
       "337   05M       heliport  Pauls Valley General Hospital Heliport   \n",
       "534  08TE  small_airport       B. J. Mc Combs Sisterdale Airport   \n",
       "\n",
       "     elevation_ft continent iso_country iso_region  municipality gps_code  \\\n",
       "171         591.0       NaN          US      US-PA   Honey Grove      NaN   \n",
       "256        3020.0       NaN          US      US-CA      Palmdale     KGXA   \n",
       "317         440.0       NaN          US      US-ME     Van Buren      NaN   \n",
       "337         911.0       NaN          US      US-OK  Pauls Valley      NaN   \n",
       "534        1447.0       NaN          US      US-TX       Comfort      NaN   \n",
       "\n",
       "    iata_code local_code            coordinates state  \n",
       "171       NaN        02P  -77.556602, 40.403596    PA  \n",
       "256       NaN       04CA   -117.675003, 34.5639    CA  \n",
       "317       NaN        05B  -67.931999, 47.158901    ME  \n",
       "337       NaN        NaN   -97.214237, 34.71979    OK  \n",
       "534       NaN        NaN  -98.742451, 29.975331    TX  "
      ]
     },
     "execution_count": 193,
     "metadata": {},
     "output_type": "execute_result"
    }
   ],
   "source": [
    "airport_df[airport_df.gps_code != airport_df.local_code].head()"
   ]
  },
  {
   "cell_type": "code",
   "execution_count": 194,
   "metadata": {
    "editable": true
   },
   "outputs": [],
   "source": [
    "airport_df[['x_coordinate', 'y_coordinate']] = airport_df.coordinates.str.split(',', expand=True)"
   ]
  },
  {
   "cell_type": "code",
   "execution_count": 195,
   "metadata": {
    "editable": true
   },
   "outputs": [
    {
     "data": {
      "text/plain": [
       "Index(['ident', 'type', 'name', 'elevation_ft', 'continent', 'iso_country',\n",
       "       'iso_region', 'municipality', 'gps_code', 'iata_code', 'local_code',\n",
       "       'coordinates', 'state', 'x_coordinate', 'y_coordinate'],\n",
       "      dtype='object')"
      ]
     },
     "execution_count": 195,
     "metadata": {},
     "output_type": "execute_result"
    }
   ],
   "source": [
    "airport_df.columns"
   ]
  },
  {
   "cell_type": "code",
   "execution_count": 197,
   "metadata": {
    "editable": true
   },
   "outputs": [],
   "source": [
    "airport_df_cols_to_keep = ['local_code','iata_code','type', 'name', 'state', 'municipality', 'elevation_ft', 'x_coordinate', 'y_coordinate']\n",
    "airport_df = airport_df[airport_df_cols_to_keep]"
   ]
  },
  {
   "cell_type": "code",
   "execution_count": 198,
   "metadata": {
    "editable": true
   },
   "outputs": [
    {
     "data": {
      "text/plain": [
       "local_code      0.017071\n",
       "iata_code       0.907518\n",
       "type            0.000000\n",
       "name            0.000000\n",
       "state           0.000000\n",
       "municipality    0.002861\n",
       "elevation_ft    0.012991\n",
       "x_coordinate    0.000000\n",
       "y_coordinate    0.000000\n",
       "dtype: float64"
      ]
     },
     "execution_count": 198,
     "metadata": {},
     "output_type": "execute_result"
    }
   ],
   "source": [
    "airport_df.isnull().mean()"
   ]
  },
  {
   "cell_type": "code",
   "execution_count": 199,
   "metadata": {
    "editable": true
   },
   "outputs": [],
   "source": [
    "airport_df = airport_df[airport_df['municipality'].notnull()]"
   ]
  },
  {
   "cell_type": "code",
   "execution_count": 200,
   "metadata": {
    "editable": true
   },
   "outputs": [],
   "source": [
    "airport_df['municipality'] = airport_df['municipality'].str.lower()\n",
    "port_codes_df['city'] = port_codes_df['city'].str.lower()"
   ]
  },
  {
   "cell_type": "code",
   "execution_count": 201,
   "metadata": {
    "editable": true
   },
   "outputs": [],
   "source": [
    "airport_df = airport_df.merge(port_codes_df[['city', 'port_code']], left_on='municipality', right_on='city', how='inner')"
   ]
  },
  {
   "cell_type": "code",
   "execution_count": 202,
   "metadata": {
    "editable": true
   },
   "outputs": [],
   "source": [
    "airport_df['city'] = airport_df['city'].str.title()"
   ]
  },
  {
   "cell_type": "code",
   "execution_count": 203,
   "metadata": {
    "editable": true
   },
   "outputs": [
    {
     "data": {
      "text/html": [
       "<div>\n",
       "<style scoped>\n",
       "    .dataframe tbody tr th:only-of-type {\n",
       "        vertical-align: middle;\n",
       "    }\n",
       "\n",
       "    .dataframe tbody tr th {\n",
       "        vertical-align: top;\n",
       "    }\n",
       "\n",
       "    .dataframe thead th {\n",
       "        text-align: right;\n",
       "    }\n",
       "</style>\n",
       "<table border=\"1\" class=\"dataframe\">\n",
       "  <thead>\n",
       "    <tr style=\"text-align: right;\">\n",
       "      <th></th>\n",
       "      <th>local_code</th>\n",
       "      <th>iata_code</th>\n",
       "      <th>type</th>\n",
       "      <th>name</th>\n",
       "      <th>state</th>\n",
       "      <th>municipality</th>\n",
       "      <th>elevation_ft</th>\n",
       "      <th>x_coordinate</th>\n",
       "      <th>y_coordinate</th>\n",
       "      <th>city</th>\n",
       "      <th>port_code</th>\n",
       "    </tr>\n",
       "  </thead>\n",
       "  <tbody>\n",
       "    <tr>\n",
       "      <th>0</th>\n",
       "      <td>00SC</td>\n",
       "      <td>NaN</td>\n",
       "      <td>small_airport</td>\n",
       "      <td>Flying O Airport</td>\n",
       "      <td>SC</td>\n",
       "      <td>sumter</td>\n",
       "      <td>150.0</td>\n",
       "      <td>-80.26719665527344</td>\n",
       "      <td>34.0093994140625</td>\n",
       "      <td>Sumter</td>\n",
       "      <td>SSC</td>\n",
       "    </tr>\n",
       "    <tr>\n",
       "      <th>1</th>\n",
       "      <td>SMS</td>\n",
       "      <td>SUM</td>\n",
       "      <td>small_airport</td>\n",
       "      <td>Sumter Airport</td>\n",
       "      <td>SC</td>\n",
       "      <td>sumter</td>\n",
       "      <td>182.0</td>\n",
       "      <td>-80.361297607422</td>\n",
       "      <td>33.994998931885</td>\n",
       "      <td>Sumter</td>\n",
       "      <td>SSC</td>\n",
       "    </tr>\n",
       "    <tr>\n",
       "      <th>2</th>\n",
       "      <td>SSC</td>\n",
       "      <td>SSC</td>\n",
       "      <td>large_airport</td>\n",
       "      <td>Shaw Air Force Base</td>\n",
       "      <td>SC</td>\n",
       "      <td>sumter</td>\n",
       "      <td>241.0</td>\n",
       "      <td>-80.47059631</td>\n",
       "      <td>33.97269821</td>\n",
       "      <td>Sumter</td>\n",
       "      <td>SSC</td>\n",
       "    </tr>\n",
       "    <tr>\n",
       "      <th>3</th>\n",
       "      <td>00SD</td>\n",
       "      <td>NaN</td>\n",
       "      <td>small_airport</td>\n",
       "      <td>Homan Field</td>\n",
       "      <td>SD</td>\n",
       "      <td>gary</td>\n",
       "      <td>1590.0</td>\n",
       "      <td>-96.498897</td>\n",
       "      <td>44.809158</td>\n",
       "      <td>Gary</td>\n",
       "      <td>GAR</td>\n",
       "    </tr>\n",
       "    <tr>\n",
       "      <th>4</th>\n",
       "      <td>17SD</td>\n",
       "      <td>NaN</td>\n",
       "      <td>small_airport</td>\n",
       "      <td>Stone's Conservation Airport</td>\n",
       "      <td>SD</td>\n",
       "      <td>gary</td>\n",
       "      <td>1687.0</td>\n",
       "      <td>-96.564016</td>\n",
       "      <td>44.818642</td>\n",
       "      <td>Gary</td>\n",
       "      <td>GAR</td>\n",
       "    </tr>\n",
       "  </tbody>\n",
       "</table>\n",
       "</div>"
      ],
      "text/plain": [
       "  local_code iata_code           type                          name state  \\\n",
       "0       00SC       NaN  small_airport              Flying O Airport    SC   \n",
       "1        SMS       SUM  small_airport                Sumter Airport    SC   \n",
       "2        SSC       SSC  large_airport           Shaw Air Force Base    SC   \n",
       "3       00SD       NaN  small_airport                   Homan Field    SD   \n",
       "4       17SD       NaN  small_airport  Stone's Conservation Airport    SD   \n",
       "\n",
       "  municipality  elevation_ft        x_coordinate       y_coordinate    city  \\\n",
       "0       sumter         150.0  -80.26719665527344   34.0093994140625  Sumter   \n",
       "1       sumter         182.0    -80.361297607422    33.994998931885  Sumter   \n",
       "2       sumter         241.0        -80.47059631        33.97269821  Sumter   \n",
       "3         gary        1590.0          -96.498897          44.809158    Gary   \n",
       "4         gary        1687.0          -96.564016          44.818642    Gary   \n",
       "\n",
       "  port_code  \n",
       "0       SSC  \n",
       "1       SSC  \n",
       "2       SSC  \n",
       "3       GAR  \n",
       "4       GAR  "
      ]
     },
     "execution_count": 203,
     "metadata": {},
     "output_type": "execute_result"
    }
   ],
   "source": [
    "airport_df.head()"
   ]
  },
  {
   "cell_type": "code",
   "execution_count": 204,
   "metadata": {
    "editable": true
   },
   "outputs": [
    {
     "data": {
      "text/plain": [
       "Index(['local_code', 'iata_code', 'type', 'name', 'state', 'municipality',\n",
       "       'elevation_ft', 'x_coordinate', 'y_coordinate', 'city', 'port_code'],\n",
       "      dtype='object')"
      ]
     },
     "execution_count": 204,
     "metadata": {},
     "output_type": "execute_result"
    }
   ],
   "source": [
    "airport_df.columns"
   ]
  },
  {
   "cell_type": "code",
   "execution_count": 218,
   "metadata": {
    "editable": true
   },
   "outputs": [],
   "source": [
    "airport_cast_types = {\n",
    "    \"elevation_ft\": \"float64\",\n",
    "    \"x_coordinate\": \"float64\",\n",
    "    \"y_coordinate\": \"float64\"\n",
    "}\n",
    "airport_df = airport_df.astype(airport_cast_types)"
   ]
  },
  {
   "cell_type": "code",
   "execution_count": 219,
   "metadata": {
    "editable": true
   },
   "outputs": [],
   "source": [
    "airport_df = airport_df[['port_code', 'local_code', 'iata_code', 'type', 'name', 'state' , 'city', 'elevation_ft', 'x_coordinate', 'y_coordinate']]"
   ]
  },
  {
   "cell_type": "code",
   "execution_count": 220,
   "metadata": {
    "editable": true
   },
   "outputs": [],
   "source": [
    "airport_df.to_csv('airports.csv', index=False)"
   ]
  },
  {
   "cell_type": "markdown",
   "metadata": {
    "editable": true
   },
   "source": [
    "### Demographics data"
   ]
  },
  {
   "cell_type": "code",
   "execution_count": 71,
   "metadata": {
    "editable": true
   },
   "outputs": [
    {
     "data": {
      "text/html": [
       "<div>\n",
       "<style scoped>\n",
       "    .dataframe tbody tr th:only-of-type {\n",
       "        vertical-align: middle;\n",
       "    }\n",
       "\n",
       "    .dataframe tbody tr th {\n",
       "        vertical-align: top;\n",
       "    }\n",
       "\n",
       "    .dataframe thead th {\n",
       "        text-align: right;\n",
       "    }\n",
       "</style>\n",
       "<table border=\"1\" class=\"dataframe\">\n",
       "  <thead>\n",
       "    <tr style=\"text-align: right;\">\n",
       "      <th></th>\n",
       "      <th>city</th>\n",
       "      <th>state</th>\n",
       "      <th>median_age</th>\n",
       "      <th>male_population</th>\n",
       "      <th>female_population</th>\n",
       "      <th>total_population</th>\n",
       "      <th>number_of_veterans</th>\n",
       "      <th>foreign_born</th>\n",
       "      <th>average_household_size</th>\n",
       "      <th>state_code</th>\n",
       "      <th>race</th>\n",
       "      <th>count</th>\n",
       "    </tr>\n",
       "  </thead>\n",
       "  <tbody>\n",
       "    <tr>\n",
       "      <th>0</th>\n",
       "      <td>Silver Spring</td>\n",
       "      <td>Maryland</td>\n",
       "      <td>33.8</td>\n",
       "      <td>40601.0</td>\n",
       "      <td>41862.0</td>\n",
       "      <td>82463</td>\n",
       "      <td>1562.0</td>\n",
       "      <td>30908.0</td>\n",
       "      <td>2.60</td>\n",
       "      <td>MD</td>\n",
       "      <td>Hispanic or Latino</td>\n",
       "      <td>25924</td>\n",
       "    </tr>\n",
       "    <tr>\n",
       "      <th>1</th>\n",
       "      <td>Quincy</td>\n",
       "      <td>Massachusetts</td>\n",
       "      <td>41.0</td>\n",
       "      <td>44129.0</td>\n",
       "      <td>49500.0</td>\n",
       "      <td>93629</td>\n",
       "      <td>4147.0</td>\n",
       "      <td>32935.0</td>\n",
       "      <td>2.39</td>\n",
       "      <td>MA</td>\n",
       "      <td>White</td>\n",
       "      <td>58723</td>\n",
       "    </tr>\n",
       "    <tr>\n",
       "      <th>2</th>\n",
       "      <td>Hoover</td>\n",
       "      <td>Alabama</td>\n",
       "      <td>38.5</td>\n",
       "      <td>38040.0</td>\n",
       "      <td>46799.0</td>\n",
       "      <td>84839</td>\n",
       "      <td>4819.0</td>\n",
       "      <td>8229.0</td>\n",
       "      <td>2.58</td>\n",
       "      <td>AL</td>\n",
       "      <td>Asian</td>\n",
       "      <td>4759</td>\n",
       "    </tr>\n",
       "    <tr>\n",
       "      <th>3</th>\n",
       "      <td>Rancho Cucamonga</td>\n",
       "      <td>California</td>\n",
       "      <td>34.5</td>\n",
       "      <td>88127.0</td>\n",
       "      <td>87105.0</td>\n",
       "      <td>175232</td>\n",
       "      <td>5821.0</td>\n",
       "      <td>33878.0</td>\n",
       "      <td>3.18</td>\n",
       "      <td>CA</td>\n",
       "      <td>Black or African-American</td>\n",
       "      <td>24437</td>\n",
       "    </tr>\n",
       "    <tr>\n",
       "      <th>4</th>\n",
       "      <td>Newark</td>\n",
       "      <td>New Jersey</td>\n",
       "      <td>34.6</td>\n",
       "      <td>138040.0</td>\n",
       "      <td>143873.0</td>\n",
       "      <td>281913</td>\n",
       "      <td>5829.0</td>\n",
       "      <td>86253.0</td>\n",
       "      <td>2.73</td>\n",
       "      <td>NJ</td>\n",
       "      <td>White</td>\n",
       "      <td>76402</td>\n",
       "    </tr>\n",
       "  </tbody>\n",
       "</table>\n",
       "</div>"
      ],
      "text/plain": [
       "               city          state  median_age  male_population  \\\n",
       "0     Silver Spring       Maryland        33.8          40601.0   \n",
       "1            Quincy  Massachusetts        41.0          44129.0   \n",
       "2            Hoover        Alabama        38.5          38040.0   \n",
       "3  Rancho Cucamonga     California        34.5          88127.0   \n",
       "4            Newark     New Jersey        34.6         138040.0   \n",
       "\n",
       "   female_population  total_population  number_of_veterans  foreign_born  \\\n",
       "0            41862.0             82463              1562.0       30908.0   \n",
       "1            49500.0             93629              4147.0       32935.0   \n",
       "2            46799.0             84839              4819.0        8229.0   \n",
       "3            87105.0            175232              5821.0       33878.0   \n",
       "4           143873.0            281913              5829.0       86253.0   \n",
       "\n",
       "   average_household_size state_code                       race  count  \n",
       "0                    2.60         MD         Hispanic or Latino  25924  \n",
       "1                    2.39         MA                      White  58723  \n",
       "2                    2.58         AL                      Asian   4759  \n",
       "3                    3.18         CA  Black or African-American  24437  \n",
       "4                    2.73         NJ                      White  76402  "
      ]
     },
     "execution_count": 71,
     "metadata": {},
     "output_type": "execute_result"
    }
   ],
   "source": [
    "us_cities_df.head()"
   ]
  },
  {
   "cell_type": "code",
   "execution_count": 72,
   "metadata": {
    "editable": true
   },
   "outputs": [
    {
     "data": {
      "text/html": [
       "<div>\n",
       "<style scoped>\n",
       "    .dataframe tbody tr th:only-of-type {\n",
       "        vertical-align: middle;\n",
       "    }\n",
       "\n",
       "    .dataframe tbody tr th {\n",
       "        vertical-align: top;\n",
       "    }\n",
       "\n",
       "    .dataframe thead th {\n",
       "        text-align: right;\n",
       "    }\n",
       "</style>\n",
       "<table border=\"1\" class=\"dataframe\">\n",
       "  <thead>\n",
       "    <tr style=\"text-align: right;\">\n",
       "      <th></th>\n",
       "      <th>city</th>\n",
       "      <th>state</th>\n",
       "      <th>median_age</th>\n",
       "      <th>male_population</th>\n",
       "      <th>female_population</th>\n",
       "      <th>total_population</th>\n",
       "      <th>number_of_veterans</th>\n",
       "      <th>foreign_born</th>\n",
       "      <th>average_household_size</th>\n",
       "      <th>state_code</th>\n",
       "      <th>race</th>\n",
       "      <th>count</th>\n",
       "    </tr>\n",
       "  </thead>\n",
       "  <tbody>\n",
       "    <tr>\n",
       "      <th>4</th>\n",
       "      <td>Newark</td>\n",
       "      <td>New Jersey</td>\n",
       "      <td>34.6</td>\n",
       "      <td>138040.0</td>\n",
       "      <td>143873.0</td>\n",
       "      <td>281913</td>\n",
       "      <td>5829.0</td>\n",
       "      <td>86253.0</td>\n",
       "      <td>2.73</td>\n",
       "      <td>NJ</td>\n",
       "      <td>White</td>\n",
       "      <td>76402</td>\n",
       "    </tr>\n",
       "    <tr>\n",
       "      <th>1770</th>\n",
       "      <td>Newark</td>\n",
       "      <td>New Jersey</td>\n",
       "      <td>34.6</td>\n",
       "      <td>138040.0</td>\n",
       "      <td>143873.0</td>\n",
       "      <td>281913</td>\n",
       "      <td>5829.0</td>\n",
       "      <td>86253.0</td>\n",
       "      <td>2.73</td>\n",
       "      <td>NJ</td>\n",
       "      <td>Black or African-American</td>\n",
       "      <td>144961</td>\n",
       "    </tr>\n",
       "    <tr>\n",
       "      <th>1967</th>\n",
       "      <td>Newark</td>\n",
       "      <td>New Jersey</td>\n",
       "      <td>34.6</td>\n",
       "      <td>138040.0</td>\n",
       "      <td>143873.0</td>\n",
       "      <td>281913</td>\n",
       "      <td>5829.0</td>\n",
       "      <td>86253.0</td>\n",
       "      <td>2.73</td>\n",
       "      <td>NJ</td>\n",
       "      <td>Asian</td>\n",
       "      <td>7349</td>\n",
       "    </tr>\n",
       "    <tr>\n",
       "      <th>2168</th>\n",
       "      <td>Newark</td>\n",
       "      <td>New Jersey</td>\n",
       "      <td>34.6</td>\n",
       "      <td>138040.0</td>\n",
       "      <td>143873.0</td>\n",
       "      <td>281913</td>\n",
       "      <td>5829.0</td>\n",
       "      <td>86253.0</td>\n",
       "      <td>2.73</td>\n",
       "      <td>NJ</td>\n",
       "      <td>American Indian and Alaska Native</td>\n",
       "      <td>2268</td>\n",
       "    </tr>\n",
       "    <tr>\n",
       "      <th>2580</th>\n",
       "      <td>Newark</td>\n",
       "      <td>New Jersey</td>\n",
       "      <td>34.6</td>\n",
       "      <td>138040.0</td>\n",
       "      <td>143873.0</td>\n",
       "      <td>281913</td>\n",
       "      <td>5829.0</td>\n",
       "      <td>86253.0</td>\n",
       "      <td>2.73</td>\n",
       "      <td>NJ</td>\n",
       "      <td>Hispanic or Latino</td>\n",
       "      <td>100432</td>\n",
       "    </tr>\n",
       "  </tbody>\n",
       "</table>\n",
       "</div>"
      ],
      "text/plain": [
       "        city       state  median_age  male_population  female_population  \\\n",
       "4     Newark  New Jersey        34.6         138040.0           143873.0   \n",
       "1770  Newark  New Jersey        34.6         138040.0           143873.0   \n",
       "1967  Newark  New Jersey        34.6         138040.0           143873.0   \n",
       "2168  Newark  New Jersey        34.6         138040.0           143873.0   \n",
       "2580  Newark  New Jersey        34.6         138040.0           143873.0   \n",
       "\n",
       "      total_population  number_of_veterans  foreign_born  \\\n",
       "4               281913              5829.0       86253.0   \n",
       "1770            281913              5829.0       86253.0   \n",
       "1967            281913              5829.0       86253.0   \n",
       "2168            281913              5829.0       86253.0   \n",
       "2580            281913              5829.0       86253.0   \n",
       "\n",
       "      average_household_size state_code                               race  \\\n",
       "4                       2.73         NJ                              White   \n",
       "1770                    2.73         NJ          Black or African-American   \n",
       "1967                    2.73         NJ                              Asian   \n",
       "2168                    2.73         NJ  American Indian and Alaska Native   \n",
       "2580                    2.73         NJ                 Hispanic or Latino   \n",
       "\n",
       "       count  \n",
       "4      76402  \n",
       "1770  144961  \n",
       "1967    7349  \n",
       "2168    2268  \n",
       "2580  100432  "
      ]
     },
     "execution_count": 72,
     "metadata": {},
     "output_type": "execute_result"
    }
   ],
   "source": [
    "us_cities_df[us_cities_df[\"city\"].str.lower().str.contains(\"newark\")]"
   ]
  },
  {
   "cell_type": "markdown",
   "metadata": {
    "editable": true
   },
   "source": [
    "The demographics dataset contains one row for each ethnic group"
   ]
  },
  {
   "cell_type": "code",
   "execution_count": 73,
   "metadata": {
    "editable": true
   },
   "outputs": [
    {
     "data": {
      "text/plain": [
       "Index(['city', 'state', 'median_age', 'male_population', 'female_population',\n",
       "       'total_population', 'number_of_veterans', 'foreign_born',\n",
       "       'average_household_size', 'state_code', 'race', 'count'],\n",
       "      dtype='object')"
      ]
     },
     "execution_count": 73,
     "metadata": {},
     "output_type": "execute_result"
    }
   ],
   "source": [
    "us_cities_df.columns"
   ]
  },
  {
   "cell_type": "code",
   "execution_count": 74,
   "metadata": {
    "editable": true
   },
   "outputs": [],
   "source": [
    "demographics_df = us_cities_df[['city', 'state', 'median_age', 'male_population', 'female_population',\n",
    "                                'total_population', 'number_of_veterans', 'foreign_born',\n",
    "                                'average_household_size', 'state_code']].drop_duplicates(subset='city')"
   ]
  },
  {
   "cell_type": "code",
   "execution_count": 75,
   "metadata": {
    "editable": true
   },
   "outputs": [
    {
     "data": {
      "text/html": [
       "<div>\n",
       "<style scoped>\n",
       "    .dataframe tbody tr th:only-of-type {\n",
       "        vertical-align: middle;\n",
       "    }\n",
       "\n",
       "    .dataframe tbody tr th {\n",
       "        vertical-align: top;\n",
       "    }\n",
       "\n",
       "    .dataframe thead th {\n",
       "        text-align: right;\n",
       "    }\n",
       "</style>\n",
       "<table border=\"1\" class=\"dataframe\">\n",
       "  <thead>\n",
       "    <tr style=\"text-align: right;\">\n",
       "      <th></th>\n",
       "      <th>city</th>\n",
       "      <th>state</th>\n",
       "      <th>median_age</th>\n",
       "      <th>male_population</th>\n",
       "      <th>female_population</th>\n",
       "      <th>total_population</th>\n",
       "      <th>number_of_veterans</th>\n",
       "      <th>foreign_born</th>\n",
       "      <th>average_household_size</th>\n",
       "      <th>state_code</th>\n",
       "    </tr>\n",
       "  </thead>\n",
       "  <tbody>\n",
       "    <tr>\n",
       "      <th>0</th>\n",
       "      <td>Silver Spring</td>\n",
       "      <td>Maryland</td>\n",
       "      <td>33.8</td>\n",
       "      <td>40601.0</td>\n",
       "      <td>41862.0</td>\n",
       "      <td>82463</td>\n",
       "      <td>1562.0</td>\n",
       "      <td>30908.0</td>\n",
       "      <td>2.60</td>\n",
       "      <td>MD</td>\n",
       "    </tr>\n",
       "    <tr>\n",
       "      <th>1</th>\n",
       "      <td>Quincy</td>\n",
       "      <td>Massachusetts</td>\n",
       "      <td>41.0</td>\n",
       "      <td>44129.0</td>\n",
       "      <td>49500.0</td>\n",
       "      <td>93629</td>\n",
       "      <td>4147.0</td>\n",
       "      <td>32935.0</td>\n",
       "      <td>2.39</td>\n",
       "      <td>MA</td>\n",
       "    </tr>\n",
       "    <tr>\n",
       "      <th>2</th>\n",
       "      <td>Hoover</td>\n",
       "      <td>Alabama</td>\n",
       "      <td>38.5</td>\n",
       "      <td>38040.0</td>\n",
       "      <td>46799.0</td>\n",
       "      <td>84839</td>\n",
       "      <td>4819.0</td>\n",
       "      <td>8229.0</td>\n",
       "      <td>2.58</td>\n",
       "      <td>AL</td>\n",
       "    </tr>\n",
       "    <tr>\n",
       "      <th>3</th>\n",
       "      <td>Rancho Cucamonga</td>\n",
       "      <td>California</td>\n",
       "      <td>34.5</td>\n",
       "      <td>88127.0</td>\n",
       "      <td>87105.0</td>\n",
       "      <td>175232</td>\n",
       "      <td>5821.0</td>\n",
       "      <td>33878.0</td>\n",
       "      <td>3.18</td>\n",
       "      <td>CA</td>\n",
       "    </tr>\n",
       "    <tr>\n",
       "      <th>4</th>\n",
       "      <td>Newark</td>\n",
       "      <td>New Jersey</td>\n",
       "      <td>34.6</td>\n",
       "      <td>138040.0</td>\n",
       "      <td>143873.0</td>\n",
       "      <td>281913</td>\n",
       "      <td>5829.0</td>\n",
       "      <td>86253.0</td>\n",
       "      <td>2.73</td>\n",
       "      <td>NJ</td>\n",
       "    </tr>\n",
       "  </tbody>\n",
       "</table>\n",
       "</div>"
      ],
      "text/plain": [
       "               city          state  median_age  male_population  \\\n",
       "0     Silver Spring       Maryland        33.8          40601.0   \n",
       "1            Quincy  Massachusetts        41.0          44129.0   \n",
       "2            Hoover        Alabama        38.5          38040.0   \n",
       "3  Rancho Cucamonga     California        34.5          88127.0   \n",
       "4            Newark     New Jersey        34.6         138040.0   \n",
       "\n",
       "   female_population  total_population  number_of_veterans  foreign_born  \\\n",
       "0            41862.0             82463              1562.0       30908.0   \n",
       "1            49500.0             93629              4147.0       32935.0   \n",
       "2            46799.0             84839              4819.0        8229.0   \n",
       "3            87105.0            175232              5821.0       33878.0   \n",
       "4           143873.0            281913              5829.0       86253.0   \n",
       "\n",
       "   average_household_size state_code  \n",
       "0                    2.60         MD  \n",
       "1                    2.39         MA  \n",
       "2                    2.58         AL  \n",
       "3                    3.18         CA  \n",
       "4                    2.73         NJ  "
      ]
     },
     "execution_count": 75,
     "metadata": {},
     "output_type": "execute_result"
    }
   ],
   "source": [
    "demographics_df.head()"
   ]
  },
  {
   "cell_type": "code",
   "execution_count": 76,
   "metadata": {
    "editable": true
   },
   "outputs": [
    {
     "name": "stdout",
     "output_type": "stream",
     "text": [
      "<class 'pandas.core.frame.DataFrame'>\n",
      "Int64Index: 567 entries, 0 to 2726\n",
      "Data columns (total 10 columns):\n",
      " #   Column                  Non-Null Count  Dtype  \n",
      "---  ------                  --------------  -----  \n",
      " 0   city                    567 non-null    object \n",
      " 1   state                   567 non-null    object \n",
      " 2   median_age              567 non-null    float64\n",
      " 3   male_population         566 non-null    float64\n",
      " 4   female_population       566 non-null    float64\n",
      " 5   total_population        567 non-null    int64  \n",
      " 6   number_of_veterans      560 non-null    float64\n",
      " 7   foreign_born            560 non-null    float64\n",
      " 8   average_household_size  559 non-null    float64\n",
      " 9   state_code              567 non-null    object \n",
      "dtypes: float64(6), int64(1), object(3)\n",
      "memory usage: 48.7+ KB\n"
     ]
    }
   ],
   "source": [
    "demographics_df.info()"
   ]
  },
  {
   "cell_type": "code",
   "execution_count": 77,
   "metadata": {
    "editable": true
   },
   "outputs": [],
   "source": [
    "demographics_df['city'] = demographics_df['city'].str.lower()"
   ]
  },
  {
   "cell_type": "code",
   "execution_count": 78,
   "metadata": {
    "editable": true
   },
   "outputs": [
    {
     "data": {
      "text/plain": [
       "134"
      ]
     },
     "execution_count": 78,
     "metadata": {},
     "output_type": "execute_result"
    }
   ],
   "source": [
    "len(set(demographics_df.city).intersection(port_codes_df.city))"
   ]
  },
  {
   "cell_type": "code",
   "execution_count": 79,
   "metadata": {
    "editable": true
   },
   "outputs": [],
   "source": [
    "demographics_df = demographics_df.merge(port_codes_df[['city', 'port_code']], left_on='city', right_on='city', how='inner')"
   ]
  },
  {
   "cell_type": "code",
   "execution_count": 80,
   "metadata": {
    "editable": true
   },
   "outputs": [],
   "source": [
    "demographics_df['city'] = demographics_df['city'].str.title()"
   ]
  },
  {
   "cell_type": "code",
   "execution_count": 81,
   "metadata": {
    "editable": true
   },
   "outputs": [
    {
     "data": {
      "text/html": [
       "<div>\n",
       "<style scoped>\n",
       "    .dataframe tbody tr th:only-of-type {\n",
       "        vertical-align: middle;\n",
       "    }\n",
       "\n",
       "    .dataframe tbody tr th {\n",
       "        vertical-align: top;\n",
       "    }\n",
       "\n",
       "    .dataframe thead th {\n",
       "        text-align: right;\n",
       "    }\n",
       "</style>\n",
       "<table border=\"1\" class=\"dataframe\">\n",
       "  <thead>\n",
       "    <tr style=\"text-align: right;\">\n",
       "      <th></th>\n",
       "      <th>city</th>\n",
       "      <th>state</th>\n",
       "      <th>median_age</th>\n",
       "      <th>male_population</th>\n",
       "      <th>female_population</th>\n",
       "      <th>total_population</th>\n",
       "      <th>number_of_veterans</th>\n",
       "      <th>foreign_born</th>\n",
       "      <th>average_household_size</th>\n",
       "      <th>state_code</th>\n",
       "      <th>port_code</th>\n",
       "    </tr>\n",
       "  </thead>\n",
       "  <tbody>\n",
       "    <tr>\n",
       "      <th>0</th>\n",
       "      <td>Newark</td>\n",
       "      <td>New Jersey</td>\n",
       "      <td>34.6</td>\n",
       "      <td>138040.0</td>\n",
       "      <td>143873.0</td>\n",
       "      <td>281913</td>\n",
       "      <td>5829.0</td>\n",
       "      <td>86253.0</td>\n",
       "      <td>2.73</td>\n",
       "      <td>NJ</td>\n",
       "      <td>NEW</td>\n",
       "    </tr>\n",
       "    <tr>\n",
       "      <th>1</th>\n",
       "      <td>Philadelphia</td>\n",
       "      <td>Pennsylvania</td>\n",
       "      <td>34.1</td>\n",
       "      <td>741270.0</td>\n",
       "      <td>826172.0</td>\n",
       "      <td>1567442</td>\n",
       "      <td>61995.0</td>\n",
       "      <td>205339.0</td>\n",
       "      <td>2.61</td>\n",
       "      <td>PA</td>\n",
       "      <td>PHI</td>\n",
       "    </tr>\n",
       "    <tr>\n",
       "      <th>2</th>\n",
       "      <td>Fort Myers</td>\n",
       "      <td>Florida</td>\n",
       "      <td>37.3</td>\n",
       "      <td>36850.0</td>\n",
       "      <td>37165.0</td>\n",
       "      <td>74015</td>\n",
       "      <td>4312.0</td>\n",
       "      <td>15365.0</td>\n",
       "      <td>2.45</td>\n",
       "      <td>FL</td>\n",
       "      <td>FMY</td>\n",
       "    </tr>\n",
       "    <tr>\n",
       "      <th>3</th>\n",
       "      <td>Laredo</td>\n",
       "      <td>Texas</td>\n",
       "      <td>28.8</td>\n",
       "      <td>124305.0</td>\n",
       "      <td>131484.0</td>\n",
       "      <td>255789</td>\n",
       "      <td>4921.0</td>\n",
       "      <td>68427.0</td>\n",
       "      <td>3.66</td>\n",
       "      <td>TX</td>\n",
       "      <td>LAR</td>\n",
       "    </tr>\n",
       "    <tr>\n",
       "      <th>4</th>\n",
       "      <td>New Haven</td>\n",
       "      <td>Connecticut</td>\n",
       "      <td>29.9</td>\n",
       "      <td>63765.0</td>\n",
       "      <td>66545.0</td>\n",
       "      <td>130310</td>\n",
       "      <td>2567.0</td>\n",
       "      <td>25871.0</td>\n",
       "      <td>2.48</td>\n",
       "      <td>CT</td>\n",
       "      <td>NWH</td>\n",
       "    </tr>\n",
       "  </tbody>\n",
       "</table>\n",
       "</div>"
      ],
      "text/plain": [
       "           city         state  median_age  male_population  female_population  \\\n",
       "0        Newark    New Jersey        34.6         138040.0           143873.0   \n",
       "1  Philadelphia  Pennsylvania        34.1         741270.0           826172.0   \n",
       "2    Fort Myers       Florida        37.3          36850.0            37165.0   \n",
       "3        Laredo         Texas        28.8         124305.0           131484.0   \n",
       "4     New Haven   Connecticut        29.9          63765.0            66545.0   \n",
       "\n",
       "   total_population  number_of_veterans  foreign_born  average_household_size  \\\n",
       "0            281913              5829.0       86253.0                    2.73   \n",
       "1           1567442             61995.0      205339.0                    2.61   \n",
       "2             74015              4312.0       15365.0                    2.45   \n",
       "3            255789              4921.0       68427.0                    3.66   \n",
       "4            130310              2567.0       25871.0                    2.48   \n",
       "\n",
       "  state_code port_code  \n",
       "0         NJ       NEW  \n",
       "1         PA       PHI  \n",
       "2         FL       FMY  \n",
       "3         TX       LAR  \n",
       "4         CT       NWH  "
      ]
     },
     "execution_count": 81,
     "metadata": {},
     "output_type": "execute_result"
    }
   ],
   "source": [
    "demographics_df.head()"
   ]
  },
  {
   "cell_type": "code",
   "execution_count": 82,
   "metadata": {
    "editable": true
   },
   "outputs": [
    {
     "data": {
      "text/plain": [
       "Index(['city', 'state', 'median_age', 'male_population', 'female_population',\n",
       "       'total_population', 'number_of_veterans', 'foreign_born',\n",
       "       'average_household_size', 'state_code', 'port_code'],\n",
       "      dtype='object')"
      ]
     },
     "execution_count": 82,
     "metadata": {},
     "output_type": "execute_result"
    }
   ],
   "source": [
    "demographics_df.columns"
   ]
  },
  {
   "cell_type": "code",
   "execution_count": 83,
   "metadata": {
    "editable": true
   },
   "outputs": [],
   "source": [
    "demographics_df[['port_code', 'state_code', 'state', 'city',\n",
    "                 'median_age', 'male_population', 'female_population',\n",
    "                 'total_population', 'number_of_veterans', 'foreign_born',\n",
    "                 'average_household_size', ]].to_csv('general_demographics.csv', index=False)"
   ]
  },
  {
   "cell_type": "code",
   "execution_count": 84,
   "metadata": {
    "editable": true
   },
   "outputs": [],
   "source": [
    "race_demographics_df = us_cities_df[['city', 'state', 'state_code', 'race', 'count']].pivot_table('count',['city', 'state', 'state_code'] ,'race').reset_index()"
   ]
  },
  {
   "cell_type": "code",
   "execution_count": 85,
   "metadata": {
    "editable": true
   },
   "outputs": [
    {
     "data": {
      "text/html": [
       "<div>\n",
       "<style scoped>\n",
       "    .dataframe tbody tr th:only-of-type {\n",
       "        vertical-align: middle;\n",
       "    }\n",
       "\n",
       "    .dataframe tbody tr th {\n",
       "        vertical-align: top;\n",
       "    }\n",
       "\n",
       "    .dataframe thead th {\n",
       "        text-align: right;\n",
       "    }\n",
       "</style>\n",
       "<table border=\"1\" class=\"dataframe\">\n",
       "  <thead>\n",
       "    <tr style=\"text-align: right;\">\n",
       "      <th>race</th>\n",
       "      <th>city</th>\n",
       "      <th>state</th>\n",
       "      <th>state_code</th>\n",
       "      <th>native_count</th>\n",
       "      <th>asian_count</th>\n",
       "      <th>black_count</th>\n",
       "      <th>hispanic_count</th>\n",
       "      <th>white_count</th>\n",
       "    </tr>\n",
       "  </thead>\n",
       "  <tbody>\n",
       "    <tr>\n",
       "      <th>0</th>\n",
       "      <td>Abilene</td>\n",
       "      <td>Texas</td>\n",
       "      <td>TX</td>\n",
       "      <td>1813.0</td>\n",
       "      <td>2929.0</td>\n",
       "      <td>14449.0</td>\n",
       "      <td>33222.0</td>\n",
       "      <td>95487.0</td>\n",
       "    </tr>\n",
       "    <tr>\n",
       "      <th>1</th>\n",
       "      <td>Akron</td>\n",
       "      <td>Ohio</td>\n",
       "      <td>OH</td>\n",
       "      <td>1845.0</td>\n",
       "      <td>9033.0</td>\n",
       "      <td>66551.0</td>\n",
       "      <td>3684.0</td>\n",
       "      <td>129192.0</td>\n",
       "    </tr>\n",
       "    <tr>\n",
       "      <th>2</th>\n",
       "      <td>Alafaya</td>\n",
       "      <td>Florida</td>\n",
       "      <td>FL</td>\n",
       "      <td>NaN</td>\n",
       "      <td>10336.0</td>\n",
       "      <td>6577.0</td>\n",
       "      <td>34897.0</td>\n",
       "      <td>63666.0</td>\n",
       "    </tr>\n",
       "    <tr>\n",
       "      <th>3</th>\n",
       "      <td>Alameda</td>\n",
       "      <td>California</td>\n",
       "      <td>CA</td>\n",
       "      <td>1329.0</td>\n",
       "      <td>27984.0</td>\n",
       "      <td>7364.0</td>\n",
       "      <td>8265.0</td>\n",
       "      <td>44232.0</td>\n",
       "    </tr>\n",
       "    <tr>\n",
       "      <th>4</th>\n",
       "      <td>Albany</td>\n",
       "      <td>Georgia</td>\n",
       "      <td>GA</td>\n",
       "      <td>445.0</td>\n",
       "      <td>650.0</td>\n",
       "      <td>53440.0</td>\n",
       "      <td>1783.0</td>\n",
       "      <td>17160.0</td>\n",
       "    </tr>\n",
       "  </tbody>\n",
       "</table>\n",
       "</div>"
      ],
      "text/plain": [
       "race     city       state state_code  native_count  asian_count  black_count  \\\n",
       "0     Abilene       Texas         TX        1813.0       2929.0      14449.0   \n",
       "1       Akron        Ohio         OH        1845.0       9033.0      66551.0   \n",
       "2     Alafaya     Florida         FL           NaN      10336.0       6577.0   \n",
       "3     Alameda  California         CA        1329.0      27984.0       7364.0   \n",
       "4      Albany     Georgia         GA         445.0        650.0      53440.0   \n",
       "\n",
       "race  hispanic_count  white_count  \n",
       "0            33222.0      95487.0  \n",
       "1             3684.0     129192.0  \n",
       "2            34897.0      63666.0  \n",
       "3             8265.0      44232.0  \n",
       "4             1783.0      17160.0  "
      ]
     },
     "execution_count": 85,
     "metadata": {},
     "output_type": "execute_result"
    }
   ],
   "source": [
    "race_demographics_df.rename(columns={'American Indian and Alaska Native': 'native_count',\n",
    "       'Asian': 'asian_count', 'Black or African-American': 'black_count', 'Hispanic or Latino': 'hispanic_count', 'White': 'white_count'}, inplace = True)\n",
    "race_demographics_df.head()"
   ]
  },
  {
   "cell_type": "code",
   "execution_count": 86,
   "metadata": {
    "editable": true
   },
   "outputs": [],
   "source": [
    "race_demographics_df['city'] = race_demographics_df['city'].str.lower()"
   ]
  },
  {
   "cell_type": "code",
   "execution_count": 87,
   "metadata": {
    "editable": true
   },
   "outputs": [
    {
     "data": {
      "text/html": [
       "<div>\n",
       "<style scoped>\n",
       "    .dataframe tbody tr th:only-of-type {\n",
       "        vertical-align: middle;\n",
       "    }\n",
       "\n",
       "    .dataframe tbody tr th {\n",
       "        vertical-align: top;\n",
       "    }\n",
       "\n",
       "    .dataframe thead th {\n",
       "        text-align: right;\n",
       "    }\n",
       "</style>\n",
       "<table border=\"1\" class=\"dataframe\">\n",
       "  <thead>\n",
       "    <tr style=\"text-align: right;\">\n",
       "      <th></th>\n",
       "      <th>city</th>\n",
       "      <th>state</th>\n",
       "      <th>state_code</th>\n",
       "      <th>native_count</th>\n",
       "      <th>asian_count</th>\n",
       "      <th>black_count</th>\n",
       "      <th>hispanic_count</th>\n",
       "      <th>white_count</th>\n",
       "      <th>port_code</th>\n",
       "    </tr>\n",
       "  </thead>\n",
       "  <tbody>\n",
       "    <tr>\n",
       "      <th>0</th>\n",
       "      <td>Akron</td>\n",
       "      <td>Ohio</td>\n",
       "      <td>OH</td>\n",
       "      <td>1845.0</td>\n",
       "      <td>9033.0</td>\n",
       "      <td>66551.0</td>\n",
       "      <td>3684.0</td>\n",
       "      <td>129192.0</td>\n",
       "      <td>AKR</td>\n",
       "    </tr>\n",
       "    <tr>\n",
       "      <th>1</th>\n",
       "      <td>Akron</td>\n",
       "      <td>Ohio</td>\n",
       "      <td>OH</td>\n",
       "      <td>1845.0</td>\n",
       "      <td>9033.0</td>\n",
       "      <td>66551.0</td>\n",
       "      <td>3684.0</td>\n",
       "      <td>129192.0</td>\n",
       "      <td>CAK</td>\n",
       "    </tr>\n",
       "    <tr>\n",
       "      <th>2</th>\n",
       "      <td>Albany</td>\n",
       "      <td>Georgia</td>\n",
       "      <td>GA</td>\n",
       "      <td>445.0</td>\n",
       "      <td>650.0</td>\n",
       "      <td>53440.0</td>\n",
       "      <td>1783.0</td>\n",
       "      <td>17160.0</td>\n",
       "      <td>ALB</td>\n",
       "    </tr>\n",
       "    <tr>\n",
       "      <th>3</th>\n",
       "      <td>Albany</td>\n",
       "      <td>New York</td>\n",
       "      <td>NY</td>\n",
       "      <td>1611.0</td>\n",
       "      <td>8090.0</td>\n",
       "      <td>31303.0</td>\n",
       "      <td>9368.0</td>\n",
       "      <td>58368.0</td>\n",
       "      <td>ALB</td>\n",
       "    </tr>\n",
       "    <tr>\n",
       "      <th>4</th>\n",
       "      <td>Albuquerque</td>\n",
       "      <td>New Mexico</td>\n",
       "      <td>NM</td>\n",
       "      <td>32243.0</td>\n",
       "      <td>25140.0</td>\n",
       "      <td>26774.0</td>\n",
       "      <td>271854.0</td>\n",
       "      <td>411847.0</td>\n",
       "      <td>ABQ</td>\n",
       "    </tr>\n",
       "  </tbody>\n",
       "</table>\n",
       "</div>"
      ],
      "text/plain": [
       "          city       state state_code  native_count  asian_count  black_count  \\\n",
       "0        Akron        Ohio         OH        1845.0       9033.0      66551.0   \n",
       "1        Akron        Ohio         OH        1845.0       9033.0      66551.0   \n",
       "2       Albany     Georgia         GA         445.0        650.0      53440.0   \n",
       "3       Albany    New York         NY        1611.0       8090.0      31303.0   \n",
       "4  Albuquerque  New Mexico         NM       32243.0      25140.0      26774.0   \n",
       "\n",
       "   hispanic_count  white_count port_code  \n",
       "0          3684.0     129192.0       AKR  \n",
       "1          3684.0     129192.0       CAK  \n",
       "2          1783.0      17160.0       ALB  \n",
       "3          9368.0      58368.0       ALB  \n",
       "4        271854.0     411847.0       ABQ  "
      ]
     },
     "execution_count": 87,
     "metadata": {},
     "output_type": "execute_result"
    }
   ],
   "source": [
    "race_demographics_df = race_demographics_df.merge(port_codes_df[['city', 'port_code']], left_on='city', right_on='city', how='inner')\n",
    "race_demographics_df['city'] = race_demographics_df['city'].str.title()\n",
    "race_demographics_df.head()"
   ]
  },
  {
   "cell_type": "code",
   "execution_count": 88,
   "metadata": {
    "editable": true
   },
   "outputs": [
    {
     "data": {
      "text/plain": [
       "Index(['city', 'state', 'state_code', 'native_count', 'asian_count',\n",
       "       'black_count', 'hispanic_count', 'white_count', 'port_code'],\n",
       "      dtype='object')"
      ]
     },
     "execution_count": 88,
     "metadata": {},
     "output_type": "execute_result"
    }
   ],
   "source": [
    "race_demographics_df.columns"
   ]
  },
  {
   "cell_type": "code",
   "execution_count": 89,
   "metadata": {
    "editable": true
   },
   "outputs": [],
   "source": [
    "race_demographics_df[[ 'port_code','state_code', 'state', 'city',  \n",
    "                      'native_count', 'asian_count',\n",
    "                      'black_count', 'hispanic_count', 'white_count',]].to_csv('race_demographics.csv', index=False)"
   ]
  },
  {
   "cell_type": "markdown",
   "metadata": {
    "editable": true
   },
   "source": [
    "### Step 3: Define the Data Model\n",
    "#### 3.1 Conceptual Data Model\n",
    "Map out the conceptual data model and explain why you chose that model\n",
    "\n",
    "#### 3.2 Mapping Out Data Pipelines\n",
    "List the steps necessary to pipeline the data into the chosen data model"
   ]
  },
  {
   "cell_type": "markdown",
   "metadata": {
    "editable": true
   },
   "source": [
    "## Data Model\n",
    "\n",
    "The Star schema is used for this project having denormalize tables, simplified queries, and fast aggregation of the data. \n",
    "\n",
    "### 1. Fact Table\n",
    "`immigration`\n",
    "  - immigration_id: The unique ID for the respondent's immigration record. Primary key for this table. Foreign key for `visitors`, `visas` and `dates` tables.\n",
    "  - flight_number: The flight number of the respondent. Foreign key for `flight` table.\n",
    "  - port_code: The US port of arrival code of the respondent. Foreign key for `general_demographics`, `racial_demographics`, `airports` and `port_codes` tables\n",
    "\n",
    "### 2. Dimension Tables\n",
    "\n",
    "`flights`\n",
    "  - flight_number: The flight number of the respondent. Primary key for this table.\n",
    "  - airline: The airline taken by the respondent.\n",
    "\n",
    "`visitors`\n",
    "  - immigration_id: The unique ID for the respondent's immigration record. Primary key for this table.\n",
    "  - age: The age of the respondent.\n",
    "  - gender: the gender of the respondent.\n",
    "  - occupation: The respondent's occupation.\n",
    "  - residency_country: The respondent's country of residence.\n",
    "  - citizenship_country: The respondent's country of citizenship.\n",
    "\n",
    "`dates`\n",
    "  - immigration_id: The unique ID for the respondent's immigration record. Primary key for this table.\n",
    "  - arrival_date: Respondent's arrival date to the US.\n",
    "  - arrival_year: Year of arrival.\n",
    "  - arrival_month: Month of arrival.\n",
    "  - arrival_day: day of arrival.\n",
    "  - departure_date: Respondents departure_date from the US.\n",
    "  - departure_year: Year of departure\n",
    "  - departure_month: month of departure\n",
    "  - departure_day: Day of departure\n",
    " \n",
    "`visas` \n",
    "  - immigration_id: The unique ID for the respondent's immigration record. Primary key for this table.\n",
    "  - visa_type: The respondent's visa class.\n",
    "  - visa_code: The respondent's generic visa class (student, pleasure, business).\n",
    "  - department_state_visa_issued: The state where the visa is issued to the respondent.\n",
    "\n",
    "`general_demographics`\n",
    "  - port_code: The US port of arrival code for the city. Primary key for this table.\n",
    "  - city: The name of the US city\n",
    "  - state: The state of the US city.\n",
    "  - state_code: The state code.\n",
    "  - median_age: The median age of the US cities.\n",
    "  - male_population: The male population of the US city.\n",
    "  - female_population: The female population of the US city.\n",
    "  - total_population: The total population of the US city.\n",
    "  - number_of_veterans: The number of US veterans in the US city.\n",
    "  - foreign-born: The number of foreignborn in the US city.\n",
    "  - average_household_size: The average household size in the US city.\n",
    "  \n",
    "`race_demographics`\n",
    "  - port_code: The US port of arrival code for the city. Primary key for this table.\n",
    "  - city: The name of the US city\n",
    "  - state: The state of the US city.\n",
    "  - state_code: The state code.\n",
    "  - native_count: Number of native americans.\n",
    "  - asian_count: Number of asians.\n",
    "  - black_count: Number of blacks.\n",
    "  - hispanic_count:  number of hispanics.\n",
    "  - white_count: number of whites.\n",
    "\n",
    "`airports`\n",
    "  - port_code: The US port of arrival code for the city. Primary key for this table.\n",
    "  - local_code: Local aiport code.\n",
    "  - iata_code: Iata internatinal aiport code.\n",
    "  - type: Airport Type.\n",
    "  - name: Aitport Name.\n",
    "  - state_code: Airport state code. \n",
    "  - city: City which the airport belongs to.\n",
    "  - coordinates: Airport gps coordinates.\n",
    "  - elevation_ft: Airport elevation.\n",
    " \n",
    "`port_codes`\n",
    "  - port_code: The US port of arrival code for the city. Primary key for this table.\n",
    "  - state_code: Sate code.\n",
    "  - city: City or municipality name.  "
   ]
  },
  {
   "cell_type": "markdown",
   "metadata": {
    "editable": true
   },
   "source": [
    "### Step 4: Run Pipelines to Model the Data \n",
    "#### 4.1 Create the data model\n",
    "Build the data pipelines to create the data model."
   ]
  },
  {
   "cell_type": "code",
   "execution_count": 93,
   "metadata": {
    "editable": true
   },
   "outputs": [],
   "source": [
    "import os\n",
    "data_directory = 'data/'"
   ]
  },
  {
   "cell_type": "markdown",
   "metadata": {
    "editable": true
   },
   "source": [
    "### Immigration fact table"
   ]
  },
  {
   "cell_type": "code",
   "execution_count": 97,
   "metadata": {
    "editable": true
   },
   "outputs": [
    {
     "name": "stdout",
     "output_type": "stream",
     "text": [
      "root\n",
      " |-- immigration_id: integer (nullable = true)\n",
      " |-- flight_number: string (nullable = true)\n",
      " |-- port_code: string (nullable = true)\n",
      "\n"
     ]
    }
   ],
   "source": [
    "immigration_fact_cols = ['immigration_id', 'flight_number', 'port_code']\n",
    "immigration_fact_df = spk_immigration_df.select(immigration_fact_cols).dropDuplicates()\n",
    "immigration_fact_df = immigration_fact_df.withColumn(\"immigration_id\", immigration_fact_df.immigration_id.cast('int'))\n",
    "immigration_fact_df.printSchema()"
   ]
  },
  {
   "cell_type": "code",
   "execution_count": 98,
   "metadata": {
    "editable": true
   },
   "outputs": [],
   "source": [
    "immigration_fact_df.write.mode('overwrite').partitionBy('port_code').parquet(os.path.join(data_directory, \"immigration_fact.parquet\"))"
   ]
  },
  {
   "cell_type": "markdown",
   "metadata": {
    "editable": true
   },
   "source": [
    "### Flights dimension"
   ]
  },
  {
   "cell_type": "code",
   "execution_count": 101,
   "metadata": {
    "editable": true
   },
   "outputs": [
    {
     "name": "stdout",
     "output_type": "stream",
     "text": [
      "root\n",
      " |-- flight_number: string (nullable = true)\n",
      " |-- airline: string (nullable = true)\n",
      "\n"
     ]
    }
   ],
   "source": [
    "flight_dim_cols = ['flight_number', 'airline']\n",
    "flights_dim_df = spk_immigration_df.select(flight_dim_cols).dropDuplicates().where(F.col(\"flight_number\").isNotNull())\n",
    "flights_dim_df.printSchema()                                                                                    "
   ]
  },
  {
   "cell_type": "code",
   "execution_count": 102,
   "metadata": {
    "editable": true
   },
   "outputs": [],
   "source": [
    "flights_dim_df.write.mode('overwrite').partitionBy('airline').parquet(os.path.join(data_directory, \"flights_dim.parquet\"))"
   ]
  },
  {
   "cell_type": "markdown",
   "metadata": {
    "editable": true
   },
   "source": [
    "### Visitors dimension"
   ]
  },
  {
   "cell_type": "code",
   "execution_count": 114,
   "metadata": {
    "editable": true
   },
   "outputs": [
    {
     "name": "stdout",
     "output_type": "stream",
     "text": [
      "root\n",
      " |-- immigration_id: integer (nullable = true)\n",
      " |-- residency_country: string (nullable = true)\n",
      " |-- citizenship_country: string (nullable = true)\n",
      " |-- age: integer (nullable = true)\n",
      " |-- gender: string (nullable = true)\n",
      " |-- occupation: string (nullable = true)\n",
      "\n"
     ]
    }
   ],
   "source": [
    "visitors_dimesion_cols = ['immigration_id', 'residency_country', 'citizenship_country', 'age', 'gender', 'occupation']\n",
    "visitors_dim_df = spk_immigration_df.select(visitors_dimesion_cols).dropDuplicates()\n",
    "visitors_dim_df = visitors_dim_df.withColumn('age', visitors_dim_df.age.cast('int'))\\\n",
    "                                 .withColumn(\"immigration_id\", visitors_dim_df.immigration_id.cast('int'))\n",
    "visitors_dim_df.printSchema()"
   ]
  },
  {
   "cell_type": "code",
   "execution_count": 115,
   "metadata": {
    "editable": true
   },
   "outputs": [],
   "source": [
    "visitors_dim_df.write.mode('overwrite').parquet(os.path.join(data_directory, \"visitors_dim.parquet\"))"
   ]
  },
  {
   "cell_type": "markdown",
   "metadata": {
    "editable": true
   },
   "source": [
    "### Dates dimesion"
   ]
  },
  {
   "cell_type": "code",
   "execution_count": 119,
   "metadata": {
    "editable": true
   },
   "outputs": [
    {
     "name": "stdout",
     "output_type": "stream",
     "text": [
      "root\n",
      " |-- immigration_id: integer (nullable = true)\n",
      " |-- arrival_date: date (nullable = true)\n",
      " |-- departure_date: date (nullable = true)\n",
      " |-- arrival_year: integer (nullable = true)\n",
      " |-- arrival_month: integer (nullable = true)\n",
      " |-- arrival_day: integer (nullable = true)\n",
      " |-- departure_year: integer (nullable = true)\n",
      " |-- departure_month: integer (nullable = true)\n",
      " |-- departure_day: integer (nullable = true)\n",
      "\n"
     ]
    }
   ],
   "source": [
    "dates_dim_cols = ['immigration_id', 'arrival_date', 'departure_date']\n",
    "dates_dim_df = spk_immigration_df.select(dates_dim_cols).dropDuplicates()\n",
    "dates_dim_df = dates_dim_df.withColumn(\"immigration_id\", dates_dim_df.immigration_id.cast('int'))\\\n",
    "                           .withColumn('arrival_year', F.year(dates_dim_df.arrival_date))\\\n",
    "                           .withColumn('arrival_month', F.month(dates_dim_df.arrival_date))\\\n",
    "                           .withColumn('arrival_day', F.dayofmonth(dates_dim_df.arrival_date))\\\n",
    "                           .withColumn('departure_year', F.year(dates_dim_df.departure_date))\\\n",
    "                           .withColumn('departure_month', F.month(dates_dim_df.departure_date))\\\n",
    "                           .withColumn('departure_day', F.dayofmonth(dates_dim_df.departure_date))\n",
    "dates_dim_df.printSchema()"
   ]
  },
  {
   "cell_type": "code",
   "execution_count": 120,
   "metadata": {
    "editable": true
   },
   "outputs": [],
   "source": [
    "dates_dim_df.write.mode('overwrite')\\\n",
    "                  .partitionBy('arrival_year', 'arrival_month')\\\n",
    "                  .parquet(os.path.join(data_directory, \"dates_dim.parquet\"))"
   ]
  },
  {
   "cell_type": "markdown",
   "metadata": {
    "editable": true
   },
   "source": [
    "### Visas dimension"
   ]
  },
  {
   "cell_type": "code",
   "execution_count": 126,
   "metadata": {
    "editable": true
   },
   "outputs": [
    {
     "name": "stdout",
     "output_type": "stream",
     "text": [
      "root\n",
      " |-- immigration_id: integer (nullable = true)\n",
      " |-- visa_type: string (nullable = true)\n",
      " |-- visa_code: string (nullable = true)\n",
      " |-- department_state_visa_issued: string (nullable = true)\n",
      "\n"
     ]
    }
   ],
   "source": [
    "visas_dim_cols = ['immigration_id', 'visa_type', 'visa_code','department_state_visa_issued']\n",
    "visas_dim_df = spk_immigration_df.select(visas_dim_cols).dropDuplicates()\n",
    "visas_dim_df = visas_dim_df.withColumn(\"immigration_id\", visas_dim_df.immigration_id.cast('int'))\n",
    "visas_dim_df.printSchema()"
   ]
  },
  {
   "cell_type": "code",
   "execution_count": 127,
   "metadata": {
    "editable": true
   },
   "outputs": [
    {
     "data": {
      "text/plain": [
       "[Row(immigration_id=5748916, visa_type='B2', visa_code='Pleasure', department_state_visa_issued=None)]"
      ]
     },
     "execution_count": 127,
     "metadata": {},
     "output_type": "execute_result"
    }
   ],
   "source": [
    "visas_dim_df.take(1)"
   ]
  },
  {
   "cell_type": "code",
   "execution_count": 129,
   "metadata": {
    "editable": true
   },
   "outputs": [],
   "source": [
    "visas_dim_df.write.mode('overwrite')\\\n",
    "                  .partitionBy('visa_type')\\\n",
    "                  .parquet(os.path.join(data_directory, \"visas_dim.parquet\"))"
   ]
  },
  {
   "cell_type": "markdown",
   "metadata": {
    "editable": true
   },
   "source": [
    "### General demographics dimension"
   ]
  },
  {
   "cell_type": "code",
   "execution_count": 131,
   "metadata": {
    "editable": true
   },
   "outputs": [
    {
     "data": {
      "text/plain": [
       "Index(['city', 'state', 'median_age', 'male_population', 'female_population',\n",
       "       'total_population', 'number_of_veterans', 'foreign_born',\n",
       "       'average_household_size', 'state_code', 'port_code'],\n",
       "      dtype='object')"
      ]
     },
     "execution_count": 131,
     "metadata": {},
     "output_type": "execute_result"
    }
   ],
   "source": [
    "demographics_df.columns"
   ]
  },
  {
   "cell_type": "code",
   "execution_count": 133,
   "metadata": {
    "editable": true
   },
   "outputs": [
    {
     "name": "stdout",
     "output_type": "stream",
     "text": [
      "root\n",
      " |-- port_code: string (nullable = true)\n",
      " |-- state: string (nullable = true)\n",
      " |-- state_code: string (nullable = true)\n",
      " |-- city: string (nullable = true)\n",
      " |-- male_population: integer (nullable = true)\n",
      " |-- female_population: integer (nullable = true)\n",
      " |-- total_population: integer (nullable = true)\n",
      " |-- median_age: double (nullable = true)\n",
      " |-- number_of_veterans: integer (nullable = true)\n",
      " |-- foreign_born: integer (nullable = true)\n",
      " |-- average_household_size: double (nullable = true)\n",
      "\n"
     ]
    }
   ],
   "source": [
    "general_demographics_dim = spark.createDataFrame(demographics_df[['port_code', 'state', 'state_code', 'city',\n",
    "                                                                   'male_population', 'female_population','total_population', \n",
    "                                                                   'median_age', 'number_of_veterans', 'foreign_born',\n",
    "                                                                   'average_household_size']])\n",
    "general_demographics_dim = general_demographics_dim.withColumn(\"male_population\", general_demographics_dim.male_population.cast('int'))\\\n",
    "                                                   .withColumn(\"female_population\", general_demographics_dim.female_population.cast('int'))\\\n",
    "                                                   .withColumn(\"total_population\", general_demographics_dim.total_population.cast('int'))\\\n",
    "                                                   .withColumn(\"number_of_veterans\", general_demographics_dim.number_of_veterans.cast('int'))\\\n",
    "                                                   .withColumn(\"foreign_born\", general_demographics_dim.foreign_born.cast('int'))\n",
    "general_demographics_dim.printSchema()"
   ]
  },
  {
   "cell_type": "code",
   "execution_count": 134,
   "metadata": {
    "editable": true
   },
   "outputs": [],
   "source": [
    "general_demographics_dim.write.mode('overwrite')\\\n",
    "                  .partitionBy('port_code')\\\n",
    "                  .parquet(os.path.join(data_directory, \"general_demog_dim.parquet\"))"
   ]
  },
  {
   "cell_type": "markdown",
   "metadata": {
    "editable": true
   },
   "source": [
    "### Racial demographics dimension"
   ]
  },
  {
   "cell_type": "code",
   "execution_count": 135,
   "metadata": {
    "editable": true
   },
   "outputs": [
    {
     "data": {
      "text/plain": [
       "Index(['city', 'state', 'state_code', 'native_count', 'asian_count',\n",
       "       'black_count', 'hispanic_count', 'white_count', 'port_code'],\n",
       "      dtype='object')"
      ]
     },
     "execution_count": 135,
     "metadata": {},
     "output_type": "execute_result"
    }
   ],
   "source": [
    "race_demographics_df.columns"
   ]
  },
  {
   "cell_type": "code",
   "execution_count": 141,
   "metadata": {
    "editable": true
   },
   "outputs": [
    {
     "name": "stdout",
     "output_type": "stream",
     "text": [
      "root\n",
      " |-- port_code: string (nullable = true)\n",
      " |-- state_code: string (nullable = true)\n",
      " |-- state: string (nullable = true)\n",
      " |-- city: string (nullable = true)\n",
      " |-- native_count: integer (nullable = true)\n",
      " |-- asian_count: integer (nullable = true)\n",
      " |-- black_count: integer (nullable = true)\n",
      " |-- hispanic_count: integer (nullable = true)\n",
      " |-- white_count: integer (nullable = true)\n",
      "\n"
     ]
    }
   ],
   "source": [
    "race_demographics_dim = spark.createDataFrame(race_demographics_df[['port_code', 'state_code', 'state', 'city', \n",
    "                                                                    'native_count', 'asian_count',\n",
    "                                                                    'black_count', 'hispanic_count', 'white_count']])\n",
    "race_demographics_dim = race_demographics_dim.withColumn(\"native_count\", race_demographics_dim.native_count.cast('int'))\\\n",
    "                                                   .withColumn(\"asian_count\", race_demographics_dim.asian_count.cast('int'))\\\n",
    "                                                   .withColumn(\"black_count\", race_demographics_dim.black_count.cast('int'))\\\n",
    "                                                   .withColumn(\"hispanic_count\", race_demographics_dim.hispanic_count.cast('int'))\\\n",
    "                                                   .withColumn(\"white_count\", race_demographics_dim.white_count.cast('int'))\n",
    "race_demographics_dim.printSchema()"
   ]
  },
  {
   "cell_type": "code",
   "execution_count": 142,
   "metadata": {
    "editable": true
   },
   "outputs": [],
   "source": [
    "race_demographics_dim.write.mode('overwrite')\\\n",
    "                  .partitionBy('port_code')\\\n",
    "                  .parquet(os.path.join(data_directory, \"general_demog_dim.parquet\"))"
   ]
  },
  {
   "cell_type": "markdown",
   "metadata": {
    "editable": true
   },
   "source": [
    "### Airports dimensions"
   ]
  },
  {
   "cell_type": "code",
   "execution_count": 211,
   "metadata": {
    "editable": true
   },
   "outputs": [
    {
     "data": {
      "text/plain": [
       "port_code        object\n",
       "local_code       object\n",
       "iata_code        object\n",
       "type             object\n",
       "name             object\n",
       "state            object\n",
       "city             object\n",
       "elevation_ft    float64\n",
       "x_coordinate     object\n",
       "y_coordinate     object\n",
       "dtype: object"
      ]
     },
     "execution_count": 211,
     "metadata": {},
     "output_type": "execute_result"
    }
   ],
   "source": [
    "airport_df.dtypes"
   ]
  },
  {
   "cell_type": "code",
   "execution_count": 145,
   "metadata": {
    "editable": true
   },
   "outputs": [],
   "source": [
    "from pyspark.sql.types import *"
   ]
  },
  {
   "cell_type": "code",
   "execution_count": 222,
   "metadata": {
    "editable": true
   },
   "outputs": [
    {
     "name": "stdout",
     "output_type": "stream",
     "text": [
      "root\n",
      " |-- port_code: string (nullable = true)\n",
      " |-- local_code: string (nullable = true)\n",
      " |-- iata_code: string (nullable = true)\n",
      " |-- type: string (nullable = true)\n",
      " |-- name: string (nullable = true)\n",
      " |-- state: string (nullable = true)\n",
      " |-- city: string (nullable = true)\n",
      " |-- elevation_ft: integer (nullable = true)\n",
      " |-- x_coordinate: float (nullable = true)\n",
      " |-- y_coordinte: float (nullable = true)\n",
      "\n"
     ]
    }
   ],
   "source": [
    "schema = StructType([\n",
    "    StructField(\"port_code\", StringType(), True),\n",
    "    StructField(\"local_code\", StringType(), True),\n",
    "    StructField(\"iata_code\", StringType(), True),\n",
    "    StructField(\"type\", StringType(), True),\n",
    "    StructField(\"name\", StringType(), True),\n",
    "    StructField(\"state\", StringType(), True),\n",
    "    StructField(\"city\", StringType(), True),\n",
    "    StructField(\"elevation_ft\", FloatType(), True),\n",
    "    StructField(\"x_coordinate\", FloatType(), True),\n",
    "    StructField(\"y_coordinte\", FloatType(), True),\n",
    "])\n",
    "airports_dim = spark.createDataFrame(airport_df, schema=schema)\n",
    "airports_dim = airports_dim.withColumn(\"elevation_ft\", airports_dim.elevation_ft.cast('int'))\n",
    "airports_dim.printSchema()"
   ]
  },
  {
   "cell_type": "code",
   "execution_count": 223,
   "metadata": {
    "editable": true
   },
   "outputs": [],
   "source": [
    "airports_dim.write.mode('overwrite')\\\n",
    "                  .partitionBy('port_code')\\\n",
    "                  .parquet(os.path.join(data_directory, \"airports_dim.parquet\"))"
   ]
  },
  {
   "cell_type": "markdown",
   "metadata": {
    "editable": true
   },
   "source": [
    "### Port codes dimension"
   ]
  },
  {
   "cell_type": "code",
   "execution_count": 225,
   "metadata": {
    "editable": true
   },
   "outputs": [
    {
     "name": "stdout",
     "output_type": "stream",
     "text": [
      "root\n",
      " |-- port_code: string (nullable = true)\n",
      " |-- state: string (nullable = true)\n",
      " |-- city: string (nullable = true)\n",
      "\n"
     ]
    }
   ],
   "source": [
    "port_codes_dim = spark.createDataFrame(port_codes_df)\n",
    "port_codes_dim.printSchema()"
   ]
  },
  {
   "cell_type": "code",
   "execution_count": 226,
   "metadata": {
    "editable": true
   },
   "outputs": [],
   "source": [
    "port_codes_dim.write.mode('overwrite')\\\n",
    "                  .partitionBy('port_code')\\\n",
    "                  .parquet(os.path.join(data_directory, \"port_codes_dim.parquet\"))"
   ]
  }
 ],
 "metadata": {
  "kernelspec": {
   "display_name": "Python 3",
   "language": "python",
   "name": "python3"
  },
  "language_info": {
   "codemirror_mode": {
    "name": "ipython",
    "version": 3
   },
   "file_extension": ".py",
   "mimetype": "text/x-python",
   "name": "python",
   "nbconvert_exporter": "python",
   "pygments_lexer": "ipython3",
   "version": "3.6.3"
  }
 },
 "nbformat": 4,
 "nbformat_minor": 4
}
